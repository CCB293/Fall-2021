{
 "cells": [
  {
   "cell_type": "markdown",
   "id": "db2c064e",
   "metadata": {},
   "source": [
    "## DESeq2 tutorial: Investigating differential gene expression across different carbon sources\n",
    "In this tutorial, we will be using DESeq2 to investigate genes that are differntially expressed between 4 different carbon source conditions: glucose, fructoselysine, glucose+fructoselysine, and glucose+lysine. We will start with raw count data from the Wolf et al., 2019 Cell Host Microbe study (https://doi.org/10.1016/j.chom.2019.09.001), perform differential gene expression analysis, and visually explore some of the results."
   ]
  },
  {
   "cell_type": "markdown",
   "id": "3b6c1111",
   "metadata": {},
   "source": [
    "### Import packages and load metadata"
   ]
  },
  {
   "cell_type": "code",
   "execution_count": null,
   "id": "28537695",
   "metadata": {
    "scrolled": true
   },
   "outputs": [],
   "source": [
    "library(\"DESeq2\")\n",
    "packageVersion(\"DESeq2\")"
   ]
  },
  {
   "cell_type": "code",
   "execution_count": null,
   "id": "358536d4",
   "metadata": {},
   "outputs": [],
   "source": [
    "#Get metadata\n",
    "map=read.table(\"Invitro_RNASeq_map.txt\",sep=\"\\t\",header=T)\n",
    "row.names(map)=map$Description\n",
    "group=map$Treatment\n",
    "#Peek at metadata\n",
    "map"
   ]
  },
  {
   "cell_type": "markdown",
   "id": "356beba5",
   "metadata": {},
   "source": [
    "Now let's import and subset data that has already been mapped to C. intestinalis genome to get columns that contain count data."
   ]
  },
  {
   "cell_type": "code",
   "execution_count": null,
   "id": "58c4fd57",
   "metadata": {},
   "outputs": [],
   "source": [
    "data=read.table(file = paste(\"Cint.normalized\"),header=T,sep=\"\\t\")\n",
    "row.names(data)=data$gene\n",
    "counts=data[,grep(\"counts\",colnames(data))]\n",
    "colnames(counts)=unlist(lapply(strsplit(as.character(colnames(counts)),\"\\\\.\"),function(x)x[2]))\n",
    "counts.invitro=counts"
   ]
  },
  {
   "cell_type": "code",
   "execution_count": null,
   "id": "b892dd0a",
   "metadata": {},
   "outputs": [],
   "source": [
    "#Peek at count data\n",
    "counts.invitro[1:4,]"
   ]
  },
  {
   "cell_type": "markdown",
   "id": "c8473ed6",
   "metadata": {},
   "source": [
    "### Pre-filtering and formatting\n",
    "In this step we will pre-filter genes that are not at least 40 counts in 4 samples. We will also fix our data to include only one bacterial species, C. intestinalis."
   ]
  },
  {
   "cell_type": "code",
   "execution_count": null,
   "id": "bda26599",
   "metadata": {},
   "outputs": [],
   "source": [
    "#counts as pre-processed include fractions so round, also remove pseudo count\n",
    "tf=apply(counts.invitro,1,function(x)length(which(x>40))>4)\n",
    "counts.invitro.adj=round(counts.invitro[tf,],digits = 0)-1\n",
    "#fix map for just the one species\n",
    "map.species=map[colnames(counts.invitro.adj),]\n",
    "map.species=map.species[!is.na(map.species$Experiment),]\n",
    "counts.invitro.adj=counts.invitro.adj[,row.names(map.species)]\n",
    "#Peek at files\n",
    "map.species  \n",
    "head(counts.invitro.adj)"
   ]
  },
  {
   "cell_type": "markdown",
   "id": "2dd3eb4b",
   "metadata": {},
   "source": [
    "### Format data for DESeq2 and run DESeq analysis \n",
    "Here we will use the command DESeqDataSetFromMatrix to format our data to be interpretable to the DESeq program, and then run differential expression analysis on our data. Below we'll show the results of log2-fold changes in gene expression between two treatment conditions, glucose+lysine vs fructoselysine."
   ]
  },
  {
   "cell_type": "code",
   "execution_count": null,
   "id": "824e1d7e",
   "metadata": {},
   "outputs": [],
   "source": [
    "dds <- DESeqDataSetFromMatrix(countData = counts.invitro.adj, colData = map.species, design = ~Treatment)\n",
    "dds"
   ]
  },
  {
   "cell_type": "code",
   "execution_count": null,
   "id": "aec10118",
   "metadata": {
    "scrolled": true
   },
   "outputs": [],
   "source": [
    "dds.deseq <- DESeq(dds)\n",
    "deseq2.res <- results(dds.deseq, alpha = 0.05) #extract results from deseq2 analysis, optimizing for an FDR p.adj cutoff of 0.05\n",
    "deseq2.res"
   ]
  },
  {
   "cell_type": "code",
   "execution_count": null,
   "id": "babdd006",
   "metadata": {},
   "outputs": [],
   "source": [
    "summary(deseq2.res)"
   ]
  },
  {
   "cell_type": "markdown",
   "id": "b793619f",
   "metadata": {},
   "source": [
    "### Analysis and visualization of results"
   ]
  },
  {
   "cell_type": "markdown",
   "id": "644e1dea",
   "metadata": {},
   "source": [
    "The plot below shows the log2-fold changes for each gene for the above treatment comparison over the mean of the normalized counts across all samples."
   ]
  },
  {
   "cell_type": "code",
   "execution_count": null,
   "id": "e13f21e5",
   "metadata": {
    "scrolled": false
   },
   "outputs": [],
   "source": [
    "plotMA(deseq2.res, ylim=c(-2,2))"
   ]
  },
  {
   "cell_type": "code",
   "execution_count": null,
   "id": "1dd7d777",
   "metadata": {},
   "outputs": [],
   "source": [
    "resultsNames(dds.deseq)"
   ]
  },
  {
   "cell_type": "code",
   "execution_count": null,
   "id": "6df02b16",
   "metadata": {},
   "outputs": [],
   "source": [
    "BiocManager::install(\"apeglm\")\n",
    "library(apeglm)\n",
    "#plotMA(resLFC, ylim=c(-2,2))"
   ]
  },
  {
   "cell_type": "markdown",
   "id": "d563a42b",
   "metadata": {},
   "source": [
    "#### <ins>Log fold change shrinkage for visualization and ranking</ins>:\n",
    "Shrinkage of LFC estimates is useful for visualization and ranking of genes, which remove the noise associated with log2 fold changes from low count genes without the need for arbitrary filters."
   ]
  },
  {
   "cell_type": "code",
   "execution_count": null,
   "id": "6908bbcd",
   "metadata": {},
   "outputs": [],
   "source": [
    "resLFC <- lfcShrink(dds.deseq, coef=\"Treatment_glucose.lysine_vs_fructoselysine\")\n",
    "resLFC"
   ]
  },
  {
   "cell_type": "code",
   "execution_count": null,
   "id": "f36b0473",
   "metadata": {},
   "outputs": [],
   "source": [
    "plotMA(resLFC)"
   ]
  },
  {
   "cell_type": "markdown",
   "id": "2cdf0436",
   "metadata": {},
   "source": [
    "#### <ins>Regularized logarithm transformation</ins>:\n",
    "The *rlog* command uses experiment-wide trend of variance over mean, in order to transform the data to remove the experiment-wide trend. *rlog*  fits a model with a term for each sample and a prior distribution on the coefficients which is estimated from the data."
   ]
  },
  {
   "cell_type": "code",
   "execution_count": null,
   "id": "b5e870d4",
   "metadata": {},
   "outputs": [],
   "source": [
    "#Rlog transform\n",
    "rld <- rlog(dds.deseq, blind=FALSE)"
   ]
  },
  {
   "cell_type": "markdown",
   "id": "806e73e9",
   "metadata": {},
   "source": [
    "### Further visualizations of our results"
   ]
  },
  {
   "cell_type": "code",
   "execution_count": null,
   "id": "f8099008",
   "metadata": {},
   "outputs": [],
   "source": [
    "plotPCA(rld, intgroup=c(\"Treatment\"))"
   ]
  },
  {
   "cell_type": "code",
   "execution_count": null,
   "id": "f35e2cbc",
   "metadata": {},
   "outputs": [],
   "source": [
    "select=row.names(deseq2.res)[deseq2.res$padj<.05]\n",
    "select=select[!is.na(select)]\n",
    "toplot.sig=assay(rld[select,])"
   ]
  },
  {
   "cell_type": "code",
   "execution_count": null,
   "id": "bf88b4ff",
   "metadata": {},
   "outputs": [],
   "source": [
    "heatmap(toplot.sig, Colv = NA, Rowv = T, scale=\"row\",labCol=map.species[colnames(toplot.sig),\"Treatment\"])"
   ]
  },
  {
   "cell_type": "code",
   "execution_count": null,
   "id": "517bae93",
   "metadata": {
    "scrolled": false
   },
   "outputs": [],
   "source": [
    "plotCounts(dds.deseq, gene=which.min(deseq2.res$padj), intgroup=\"Treatment\")"
   ]
  },
  {
   "cell_type": "markdown",
   "id": "7270de1b",
   "metadata": {},
   "source": [
    "Taking a closer look at the most highly significant genes: https://www.patricbrc.org/"
   ]
  },
  {
   "cell_type": "code",
   "execution_count": null,
   "id": "738a7660",
   "metadata": {},
   "outputs": [],
   "source": [
    "deseq2.res.sig <- deseq2.res[order(deseq2.res$padj),]\n",
    "head(deseq2.res.sig)"
   ]
  }
 ],
 "metadata": {
  "kernelspec": {
   "display_name": "R [conda env:root] *",
   "language": "R",
   "name": "conda-root-r"
  },
  "language_info": {
   "codemirror_mode": "r",
   "file_extension": ".r",
   "mimetype": "text/x-r-source",
   "name": "R",
   "pygments_lexer": "r",
   "version": "4.0.5"
  }
 },
 "nbformat": 4,
 "nbformat_minor": 5
}
