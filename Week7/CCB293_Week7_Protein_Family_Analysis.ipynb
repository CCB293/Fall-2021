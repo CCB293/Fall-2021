{
  "nbformat": 4,
  "nbformat_minor": 0,
  "metadata": {
    "colab": {
      "name": "Protein Family Analysis.ipynb",
      "private_outputs": true,
      "provenance": [],
      "collapsed_sections": [],
      "toc_visible": true
    },
    "kernelspec": {
      "name": "python3",
      "display_name": "Python 3"
    },
    "language_info": {
      "name": "python"
    }
  },
  "cells": [
    {
      "cell_type": "markdown",
      "metadata": {
        "id": "t887ZhGVVx3Z"
      },
      "source": [
        "#Protein Family Analysis in Google Colab\n",
        "\n",
        "This project will show you how to construct protein family phylogeny using plant NLR immune receptor family as an example. The principal advantage of colab is ability to follow along and modify code as needed. We have implemented similar pipelines using Snakemake for execution on local machines. Try bringing in you own HMM and sequence database and see how far you can go. (As usual sequence names in .fasta files are a pain) \n",
        "\n",
        "\n",
        "##Colab basics\n",
        "To run a section of code\n",
        "* Hit play button OR\n",
        "* Hit Cmd/Cntrl + Enter\n",
        "\n",
        "To edit a section of code/text\n",
        "* Double click the code/text window"
      ]
    },
    {
      "cell_type": "markdown",
      "metadata": {
        "id": "LY6QYAP6crwB"
      },
      "source": [
        "##Step 0: Install the software \n",
        "We'll be using\n",
        "\n",
        "HMMER with easel tools: \n",
        "http://hmmer.org\n",
        "\n",
        "\n",
        "RAxML: \n",
        "https://github.com/amkozlov/raxml-ng\n",
        "\n",
        "iToL:\n",
        "https://itol.embl.de\n"
      ]
    },
    {
      "cell_type": "code",
      "metadata": {
        "id": "jK7dksVVV1v8"
      },
      "source": [
        "##This block takes 4-5 minutes\n",
        "!pip install -q condacolab\n",
        "import condacolab\n",
        "condacolab.install()\n",
        "!conda install -c bioconda hmmer \n",
        "!conda install -c bioconda easel\n",
        "!conda install -c bioconda raxml-ng"
      ],
      "execution_count": null,
      "outputs": []
    },
    {
      "cell_type": "markdown",
      "metadata": {
        "id": "lnZwKxqIMqkj"
      },
      "source": [
        "\n",
        "##Step 1: Load Proteome and Domain Model \n",
        "\n",
        "###Load proteome of your species of interest \n",
        "Here we will use protein models from [Van de Weyer et al, 2019 Cell](https://doi.org/10.1016/j.cell.2019.07.038).\n",
        "The ProteinFamily/Proteome subdirectory of the Github repo below contains all proteomes from the **Arabidopsis pan-NLRome**, but we will only process proteins from one ecotype to speed things up.\n",
        "\n",
        "**Phytozome** is a good source for plant protein models. \n",
        "Example: rice\n",
        "https://phytozome.jgi.doe.gov/pz/portal.html#!info?alias=Org_Osativa\n",
        "Click to Bulk data download, login in and you will find yourself at FTP\n",
        "You can find proteome under /annotation/Osativa_323_v7.0.protein.fa.gz \n",
        "\n",
        "**Uniprot** has convenient one protein per gene proteomes available for download for \"all things bright and beautiful\".\n",
        "\n",
        "To load proteomes into colab one can either place them in **GitHub** and use git clone, or use the Files -> Upload to Session Storage (click **folder** icon on the left and then click **paper with up arrow** icon). Also, see below for mounting your Google Drive into Colab."
      ]
    },
    {
      "cell_type": "code",
      "metadata": {
        "id": "xvGfvF_RZ2rN"
      },
      "source": [
        "%rm -rf ProteinFamily/\n",
        "!git clone https://github.com/daniilprigozhin/ProteinFamily.git\n",
        "!ls"
      ],
      "execution_count": null,
      "outputs": []
    },
    {
      "cell_type": "markdown",
      "metadata": {
        "id": "wVvi_S1NZb81"
      },
      "source": [
        "\n",
        "###Load a statistical model for your domain of interest\n",
        "\n",
        "Since all NLRs have a conserved NB-ARC domain, you can extract proteins containing this domain’s HMM from plant proteome and align them using HMM as a template. Go to http://pfam.xfam.org/family/NB-ARC \n",
        "and download http://pfam.xfam.org/family/PF00931/hmm\n",
        "\n",
        "To load this hmm file into colab:"
      ]
    },
    {
      "cell_type": "code",
      "metadata": {
        "id": "GmLfmn-faB1F"
      },
      "source": [
        "!wget -O NB-ARC.hmm http://pfam.xfam.org/family/PF00931/hmm "
      ],
      "execution_count": null,
      "outputs": []
    },
    {
      "cell_type": "markdown",
      "metadata": {
        "id": "hTUaXGfraCpC"
      },
      "source": [
        "\n",
        "####What is HMM?\n",
        "If you are curious - look inside the .hmm file to see how the domain is described as a statistical model of aa probabilities at each position of the domain.\n",
        "####What if you need a new HMM?\n",
        "What if your protein of interest does not have pre-built HMM describing it? You can build HMM yourself using `hmmbuild` function in HMMER.\n",
        "\n",
        "What if HMM at Pfam does not adequately describe your protein family of interest. For example, the NB-ARC model above has been built from diverse organisms including not only plants but also animals, bacteria and archaea. Therefore the resulting HMM is a best fit to describe full diversity of this protein family.\n",
        "\n",
        "Most of plant NLRs have a conserved NB-ARC domain that is larger than what Pfam HMM describes. NB-ARC of plant NLRs include additional motifs such as ARC2 and MHD. Therefore, we built plant specific HMM that you can download here: \n",
        "\n",
        "Bailey et al, Genome Biology 2018, Additional file 16:"
      ]
    },
    {
      "cell_type": "code",
      "metadata": {
        "id": "YrDw-FceaMge"
      },
      "source": [
        "!wget -O pbNB-ARC.hmm https://static-content.springer.com/esm/art%3A10.1186%2Fs13059-018-1392-6/MediaObjects/13059_2018_1392_MOESM16_ESM.hmm"
      ],
      "execution_count": null,
      "outputs": []
    },
    {
      "cell_type": "markdown",
      "metadata": {
        "id": "rpMIRUuwZjKo"
      },
      "source": [
        "You can do the alignment steps below with both Pfam HMM and our HMM and compare the results.\n",
        "\n",
        "As a bonus, you can download any of the curated functionally annotated NLRs from http://prgdb.crg.eu/wiki/Category:Reference_R-Genes,_manually_curated and include them in alignment and phylogeny. Place them in project folder as well."
      ]
    },
    {
      "cell_type": "markdown",
      "metadata": {
        "id": "Lp77H-CMkasC"
      },
      "source": [
        "\n",
        "##Step 2: Align proteins to Model\n",
        "\n",
        "We will use HMMER to align proteins to model:  \n",
        "\n",
        "    hmmsearch -E 1e-5 -A <domain.hmmalign.sto> <domain>.hmm <proteome>.faa\n",
        "                                                  "
      ]
    },
    {
      "cell_type": "code",
      "metadata": {
        "id": "8cLZTuLwhS1t"
      },
      "source": [
        "!hmmsearch -E 1e-5 -A pbNB-ARC.hmmalign.sto --domtblout pbNB-ARC.hmmalign.tbl ProteinFamily/HMM_models/pbNB-ARC.hmm ProteinFamily/Proteomes/108.aa.fa\n",
        "!cat pbNB-ARC.hmmalign.sto"
      ],
      "execution_count": null,
      "outputs": []
    },
    {
      "cell_type": "markdown",
      "metadata": {
        "id": "pmBU6unCX0-L"
      },
      "source": [
        "Hmmalign produces an alignment in Stockholm format, however for visualisation and tree building we need the alignment in fasta format. \n",
        "\n",
        "`esl-alimask --rf-is-mask` removes columns that do not match model (insertions)\n",
        "\n",
        "`esl-alimanip --lmin` removes rows that are shorter than a user-defined threshold (in this case 100aa = 30% of the model length for our custom NB-ARC HMM)\n",
        "\n",
        "`esl-reformat` reformats to fasta format.\n",
        "\n",
        "`-` in easel signals that input to the command will come in from the pipe\n",
        "\n",
        "Finally `cut` and `tr` remove extra fields in the protein names"
      ]
    },
    {
      "cell_type": "code",
      "metadata": {
        "id": "S_z-szICXwYi"
      },
      "source": [
        "!esl-alimask --rf-is-mask pbNB-ARC.hmmalign.sto | esl-alimanip --lmin 100 -|esl-reformat afa - |cut -d ' ' -f 1 |tr -d ' ' > pbNB-ARC.hmmalign.afa\n",
        "!cat pbNB-ARC.hmmalign.afa"
      ],
      "execution_count": null,
      "outputs": []
    },
    {
      "cell_type": "markdown",
      "metadata": {
        "id": "OlF-EonJxxvn"
      },
      "source": [
        "##Step 3: Phylogeny with RAXML\n",
        "\n",
        "We are now ready to build a tree of the protein domains to visualise how they may be related evolutionarily. For this we are going to use the RAXML to build a bootstrapped maximum likelihood tree. This will take >2 hours but will actually work! Skip ahead to the next code block to load precomputed results."
      ]
    },
    {
      "cell_type": "code",
      "metadata": {
        "id": "OBzDhmAQ9tE9"
      },
      "source": [
        "##Several hours depending on --lmin cutoff (i.e. number of sequences) in the previous step\n",
        "!raxml-ng --all --bs-trees 100 --model JTT --prefix pbNB-ARC --msa pbNB-ARC.hmmalign.afa "
      ],
      "execution_count": null,
      "outputs": []
    },
    {
      "cell_type": "code",
      "metadata": {
        "id": "t0vpVa3wRrf7"
      },
      "source": [
        "## If you need to get the precomputed tree, unquote and run this line:\n",
        "!cp ProteinFamily/Colab_Results/pbNB-ARC.raxml.* .\n",
        "!ls"
      ],
      "execution_count": null,
      "outputs": []
    },
    {
      "cell_type": "markdown",
      "metadata": {
        "id": "uZlfd6QKuxY4"
      },
      "source": [
        "##Step 4: Saving Results\n",
        "You can connect to ***your own*** Google Drive and save any results you'd like to keep. "
      ]
    },
    {
      "cell_type": "code",
      "metadata": {
        "id": "A32ZVB8lqSWn"
      },
      "source": [
        "!ls\n",
        "from google.colab import drive\n",
        "drive.mount('/content/drive')\n",
        "!mkdir /content/drive/MyDrive/Colab_Results\n",
        "!cp pbNB-ARC* /content/drive/MyDrive/Colab_Results/"
      ],
      "execution_count": null,
      "outputs": []
    },
    {
      "cell_type": "code",
      "metadata": {
        "id": "3B8AetfzrcS3"
      },
      "source": [
        "!ls /content/drive/MyDrive/Colab_Results/"
      ],
      "execution_count": null,
      "outputs": []
    },
    {
      "cell_type": "markdown",
      "metadata": {
        "id": "sCgMth42vOIt"
      },
      "source": [
        "##Step 5: The fun part - annotating your tree\n",
        "In this section we will annotate Pfam domains in our proteins of interest and will call a couple of R scripts to produce an annotation file for iTOL tree viewer. The motivation is to check what other domains are present in our proteins of interest (that all share the NB-ARC domain). \n",
        "There are many potential annotation tracks that iTOL supports, allowing you to bring in just about any kind of information on your system, such as gene expression, epigenetic states, gene structure, etc. "
      ]
    },
    {
      "cell_type": "markdown",
      "metadata": {
        "id": "qorVmql9ysrX"
      },
      "source": [
        "##Step 5.1: Load Pfam \n",
        "We will start by loading the current version of Pfam. Then, we'll supplement it with two custom HMMs, one for NB-ARC, and one for an N-teminal coiled-coil domain that is typical of NLRs, but is not yet in Pfam.Prepare the local pfam for running."
      ]
    },
    {
      "cell_type": "code",
      "metadata": {
        "id": "XrEI8Wgtypzh"
      },
      "source": [
        "##less than 2 minutes\n",
        "!wget ftp://ftp.ebi.ac.uk/pub/databases/Pfam/current_release/Pfam-A.hmm.gz\n",
        "!gunzip Pfam-A.hmm.gz\n",
        "!cat Pfam-A.hmm ProteinFamily/HMM_models/* > Pfam-A.plus.hmm\n",
        "!hmmpress Pfam-A.plus.hmm"
      ],
      "execution_count": null,
      "outputs": []
    },
    {
      "cell_type": "markdown",
      "metadata": {
        "id": "MPps2YBgyxna"
      },
      "source": [
        "##Step 5.2: find all other Pfam domains in your proteins of interest\n",
        "Before we begin, we need to select the proteins of interest out of the available proteome. `grep '>'` gets the names from our .afa alignment file. `cut` removes the NB-ARC coordinates, `tr` removes '>', and `sort` and `uniq` take care of duplicates.\n",
        "There is a perl script in here that's been perfect since the dawn of time. I tried to do this simple task with easel tools and failed.\n",
        "The two `wc` commands check that the number of expected sequences matches the number retrieved."
      ]
    },
    {
      "cell_type": "code",
      "metadata": {
        "id": "pWHbnz40coZK"
      },
      "source": [
        "\n",
        "!grep '>' pbNB-ARC.hmmalign.afa|cut -f 1 -d '/'| tr -d '>' |sort |uniq >108.pbNB-ARC.list\n",
        "!wc 108.pbNB-ARC.list\n",
        "!ProteinFamily/scripts/K-get_fasta_from_ids.pl -f ProteinFamily/Proteomes/108.aa.fa -i 108.pbNB-ARC.list > 108.pbNB-ARC.fulllength.fa\n",
        "!grep '>' 108.pbNB-ARC.fulllength.fa|wc "
      ],
      "execution_count": null,
      "outputs": []
    },
    {
      "cell_type": "markdown",
      "metadata": {
        "id": "4lkP3l6dw5C1"
      },
      "source": [
        "### Time to do the big domain search.\n",
        "This runs very quickly for what it is. Domains in the database are alphabetical, which should give us a sense of progress."
      ]
    },
    {
      "cell_type": "code",
      "metadata": {
        "id": "2FURTgi9erCh"
      },
      "source": [
        "##2-3 minutes\n",
        "!hmmsearch --domtblout 108.pbNB-ARC.Pfam.tbl Pfam-A.plus.hmm 108.pbNB-ARC.fulllength.fa"
      ],
      "execution_count": null,
      "outputs": []
    },
    {
      "cell_type": "markdown",
      "metadata": {
        "id": "AVIUoPGOyALS"
      },
      "source": [
        "###How many hits did we get?\n",
        "Some of these overlap. We'll select the highest scoring hits in a later step."
      ]
    },
    {
      "cell_type": "code",
      "metadata": {
        "id": "SyG2NIkYhhPD"
      },
      "source": [
        "!cat 108.pbNB-ARC.Pfam.tbl|grep -v '#'|wc"
      ],
      "execution_count": null,
      "outputs": []
    },
    {
      "cell_type": "markdown",
      "metadata": {
        "id": "4h0aA6Xvybkc"
      },
      "source": [
        "### Saving results to Drive"
      ]
    },
    {
      "cell_type": "code",
      "metadata": {
        "id": "ZO1_rtHgkeX_"
      },
      "source": [
        "!cp pbNB-ARC* /content/drive/MyDrive/Colab_Results/\n",
        "!cp 108* /content/drive/MyDrive/Colab_Results/"
      ],
      "execution_count": null,
      "outputs": []
    },
    {
      "cell_type": "markdown",
      "metadata": {
        "id": "NS1n1myLytKt"
      },
      "source": [
        "## Step 5.3 Remove weak hits that overlap better ones\n",
        "The first `tr` command collapses spaces in hmmer output. Usually, in R read_delim() does this, but not in Colab for some reason.\n",
        "There are many ways to run R code in colab including executing blocks in R, here we call R code as a standalone script.\n",
        "\n",
        "On first execution R will be installing a bunch of libraries, which will take some time. This is a drawback of Colab, as on a local machine you'd only run this once. The working part of the script runs very quickly.\n",
        "\n",
        "The options:\n",
        "`-e` allows disregarding poorly scoring HMM hits by e-value,\n",
        "`-f` allows disregarding HMM hits by model coverage,\n",
        "`-a` sets a maximum allowed overlap as HMM's can be greedy and bite into neighboring territories."
      ]
    },
    {
      "cell_type": "code",
      "metadata": {
        "id": "TIs8C6YMIUmh"
      },
      "source": [
        "!tr -s ' ' <108.pbNB-ARC.Pfam.tbl > 108.pbNB-ARC.Pfam.ws.tbl\n",
        "!Rscript ProteinFamily/scripts/reduce_pfam.R -i 108.pbNB-ARC.Pfam.ws.tbl -o 108.pbNB-ARC.Pfam.reduced.tbl -e 1e-3 -f 0.3 -a 10"
      ],
      "execution_count": null,
      "outputs": []
    },
    {
      "cell_type": "markdown",
      "metadata": {
        "id": "qMzRo9E_z1jz"
      },
      "source": [
        "##Step 5.4 Produce the annotation track for iToL\n",
        "R has libraries for drawing and annotating trees that are very good and getting better. iToL's main advantage is in the ease of sharing."
      ]
    },
    {
      "cell_type": "code",
      "metadata": {
        "id": "T7BpAnHpIVoQ"
      },
      "source": [
        "!Rscript ProteinFamily/scripts/DomainDiagrams_sm.R -o 108.iTOL.domains.txt -i 108.pbNB-ARC.Pfam.reduced.tbl -f 108.pbNB-ARC.fulllength.fa -a pbNB-ARC.hmmalign.afa"
      ],
      "execution_count": null,
      "outputs": []
    },
    {
      "cell_type": "markdown",
      "metadata": {
        "id": "BJK4TG573iTX"
      },
      "source": [
        "### Saving results to Drive"
      ]
    },
    {
      "cell_type": "code",
      "metadata": {
        "id": "UsSMFvGe86dH"
      },
      "source": [
        "!cp pbNB-ARC* /content/drive/MyDrive/Colab_Results/\n",
        "!cp 108* /content/drive/MyDrive/Colab_Results/"
      ],
      "execution_count": null,
      "outputs": []
    },
    {
      "cell_type": "markdown",
      "metadata": {
        "id": "DsaqSNSm82G5"
      },
      "source": [
        "##Step 6 Display Tree with annotation\n",
        "Use the Files menu on the left to download pbNB-ARC.raxml.support (this is our tree) and 108.iTOL.domains.txt (this is our annotation).\n",
        "\n",
        "\n",
        "Go to [iToL](https://itol.embl.de), create an accont and upload your tree. Drag the annotation file over the opened tree view and look around.\n",
        "Here is my copy: [Tree with annotation](https://itol.embl.de/tree/13124385225132441633160125)."
      ]
    },
    {
      "cell_type": "markdown",
      "metadata": {
        "id": "gmnppxOJETzs"
      },
      "source": [
        "##Additional Resources\n",
        "###Metabolic prediction through KEGG database\n",
        "\n",
        "Identify your protein of interest on the KEGG database \n",
        "\n",
        "https://www.genome.jp/kegg/genes.html\n",
        "\n",
        "Your can enter your gene NCBI ID at the bottom of the page, alternatively, you can search with BLAST https://www.kegg.jp/blastkoala/\n",
        "\n",
        "###Structure prediction with Alphafold in Colab\n",
        "https://colab.research.google.com/github/sokrypton/ColabFold/blob/main/AlphaFold2.ipynb\n",
        "\n",
        "###Overlaying amino acid diversity on structural model \n",
        "\n",
        "Chimera software: https://www.cgl.ucsf.edu/chimera/\n",
        "\n",
        "Mapping sequence conservation on protein structure tutorial: https://www.cgl.ucsf.edu/chimera/data/tutorials/systems/outline.html"
      ]
    },
    {
      "cell_type": "markdown",
      "metadata": {
        "id": "VX7lSdiNEJih"
      },
      "source": [
        "##Appendix - Key terminology \n",
        "\n",
        "**domain** (of a protein)\n",
        "a distinct functional and structural unit of a protein. Often, corresponds to a region of sequence conservation that can function, fold and evolve independently of the rest of the protein chain.\n",
        "\n",
        "**family** (of proteins)\n",
        "a group of proteins of the common evolutionary origin, that share similarity in function, sequence and domain structure.\n",
        "\n",
        "**Profile Hidden Markov Model** (HMM)\n",
        "a statistical model that turns a multiple sequence alignment into a position-specific scoring system suitable for searching databases for remotely homologous sequences. See Eddy SR Bioinformatics 1998 https://doi.org/10.1093/bioinformatics/14.9.755\n",
        "\n",
        "**homologs**\n",
        "sequences that share a common evolutionary origin. Beware of substituting sequence similarity with homology, the former can be expressed in % identity, the latter cannot be partial because two sequences are either homologous (share a common ancestor) or not. \n",
        "\n",
        "**orthologs**\n",
        "sequences that share a common evolutionary origin and that were last separated by speciation\n",
        "\n",
        "**paralogs**\n",
        "sequences that share a common evolutionary origin and that were last separated by gene duplication\n",
        "\n",
        "**branch** (of a phylogenetic tree, includes **branch length**)\n",
        "Lineages of taxonomic units that link nodes within a phylogenetic tree.\n",
        "In a rooted tree, branches indicate direct transmission of genetic information from the taxonomic unit located at one end (parent) of the branch to the other (child). To determine the direction of transmission, consider removing the branch of interest from the tree to yield two unconnected subtrees, each of which contains only one of the nodes directly linked by the branch of interest. The subtree containing the root node contains the more ancestral of the two nodes linked by the branch of interest; hence, the direction of transfer of genetic information is from this more ancestral node to the other node linked by the branch of interest. For an unrooted tree, it is unknown which of the subtrees contains the root node, hence in unrooted trees the direction of transmission of genetic information is not specified.\n",
        "If the branch is part of a scaled phylogenetic tree, then a value is associated with the branch that indicates some measure of the difference between the two taxonomic units directly linked by the branch; this value is often referred to as the \"branch length\". If the tree is \"unscaled\", no such value is associated with the branch, that is, no branch length is specified or defined.\n",
        "A branch that links two internal nodes is known as an internal, inner, or interior branch. Branches linking an internal and an external node are referred to as external branches (also terminal branches).\n",
        "\n",
        "**branch length**\n",
        "See “branch”.\n",
        "\n",
        "**node** (of a phylogenetic tree)\n",
        "In phylogenetic trees, nodes represent taxonomic units. Nodes between which there is direct transfer of genetic information are linked to each other by branches. Nodes in a phylogenetic tree that are attached to only a single terminal branch are referred to as terminal nodes (also external nodes, leaves, or tips), and represent operational taxonomic units. Nodes attached to more than one branch are referred to as internal (also interior) nodes and represent hypothetical taxonomic units.\n",
        "\n",
        "**phylogenetic tree** [includes “root”]\n",
        "A description of a path of transmission of genetic information between a set of operational (and usually also hypothetical, if the tree contains any internal nodes) taxonomic units (see Operational Taxonomic Units (OTUs) and Hypothetical Taxonomic Units (HTUs)). Tree structures, as understood in graph theory, can be used to represent phylogenetic trees. In graph theory, trees are defined as undirected graphs for which exactly one path connects any two nodes (or \"vertices\"), i.e., a tree is any connected graph that does not contain any cycles. Phylogenetic trees consist of nodes (operational or hypothetical taxonomic units) that are connected via branches.\n",
        "Phylogenetic trees are described as either \"rooted\" or \"unrooted\". In a rooted tree, there is one node (the \"root node\") that represents the most recent common ancestor of all other taxa in the tree. While it is assumed that such an ancestor also exists for an unrooted tree, i.e., that all the OTUs share a most recent common ancestor, in an unrooted tree no inference is made about where on the tree this HTU might be.\n",
        "\n",
        "**root**\n",
        "See “phylogenetic tree”\n",
        "\n",
        "**sister group**\n",
        "In a rooted bifurcating tree, any internal node represents an ancestor of two subtrees. These two subtrees are sometimes referred to as \"sister groups\" of each other, i.e., subtree A is the sister group of subtree B (and accordingly subtree B is the sister group of subtree A). As this definition depends on knowing the direction of genetic transmission along the branches of the tree (i.e., which nodes/branches are ancestral and which are descendant), it is only possible to identify sister groups in the context of a rooted phylogenetic tree; in unrooted trees the direction of transmission of genetic information is not specified, so it is not possible to identify which of the subtrees linked to an internal node are ancestral and which are descendant. To overcome this problem, the concept of adjacent groups was developed for referring to subtrees linked to the same internal node in unrooted trees.\n",
        "\n",
        "**subtree**\n",
        "A tree obtained by detaching a branch from a larger phylogenetic tree.\n",
        "\n",
        "**taxonomic unit**\n",
        "Phylogenetic trees can be used to describe patterns of genetic transmission between different kinds of entities, for example: different species, different individuals within a population of the same species, different genes within a gene family. The term \"taxonomic unit\" is used to refer to the entities between which patterns and paths of genetic transfer are described. Thus, for some trees, the taxonomic units will be individuals within a population, in other trees they will be different species.\n",
        "\n",
        "Phylogeny definitions taken from entries written by Aidan Budd and Alexandros Stamantakis in the 2nd edition of the “Dictionary of Bioinformatics and Computational Biology” (eds John M. Hancock and Marketa J. Zvelebil)"
      ]
    }
  ]
}