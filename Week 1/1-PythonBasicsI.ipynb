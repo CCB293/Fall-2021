{
 "cells": [
  {
   "cell_type": "markdown",
   "metadata": {},
   "source": [
    "# Python Basics I\n",
    "\n",
    "## Printing and Commenting"
   ]
  },
  {
   "cell_type": "markdown",
   "metadata": {},
   "source": [
    "This is your first python program! <br>\n",
    "To run cells in a Jupyter notebook, use the shift and enter keys"
   ]
  },
  {
   "cell_type": "code",
   "execution_count": 45,
   "metadata": {
    "code_folding": [
     0
    ]
   },
   "outputs": [
    {
     "name": "stdout",
     "output_type": "stream",
     "text": [
      "Hello World!\n"
     ]
    }
   ],
   "source": [
    "\"\"\"\n",
    "this is your first python program!\n",
    "it doesn't do much... \n",
    "\"\"\"\n",
    "print?\n",
    "print(\"Hello World!\")"
   ]
  },
  {
   "cell_type": "code",
   "execution_count": 46,
   "metadata": {
    "code_folding": [
     0
    ]
   },
   "outputs": [
    {
     "name": "stdout",
     "output_type": "stream",
     "text": [
      "this code is run\n",
      "a # inside quotes is just fine though\n"
     ]
    }
   ],
   "source": [
    "## code can be commented either by prefixing a line with a #\n",
    "\n",
    "\"\"\"\n",
    "or by inserting multiple lines of text \n",
    "in between triple quotation blocks like this\n",
    "\"\"\"\n",
    "\n",
    "print(\"this code is run\") #the code before this comment is run\n",
    "\n",
    "#print(\"this code is not run\")\n",
    "\n",
    "print(\"a # inside quotes is just fine though\")"
   ]
  },
  {
   "cell_type": "markdown",
   "metadata": {},
   "source": [
    "#### Printing mutiple things\n",
    "The print function can take in multiple arguments and will concatenate the string separated by spaces"
   ]
  },
  {
   "cell_type": "code",
   "execution_count": 47,
   "metadata": {
    "code_folding": [
     0
    ],
    "scrolled": false
   },
   "outputs": [
    {
     "name": "stdout",
     "output_type": "stream",
     "text": [
      "we can print out numbers too like 51 or 42\n"
     ]
    }
   ],
   "source": [
    "print(\"we can print out numbers too like\", 51, \"or\", 42)"
   ]
  },
  {
   "cell_type": "markdown",
   "metadata": {},
   "source": [
    "## Simple math, variables, and logic"
   ]
  },
  {
   "cell_type": "markdown",
   "metadata": {},
   "source": [
    "Math is pretty straightforward in python3\n",
    "<br>\n",
    "<br>\n",
    "we can use all the normal symbols:\n",
    "<br>\n",
    "> +: plus <br>\n",
    "-: minus<br>\n",
    "/: divide<br>\n",
    "*: times<br>\n",
    "%: modulo<br>\n",
    "<: less than<br>\n",
    "\\>: greater than<br>\n",
    "\\<=: less than or equal to<br>\n",
    "\\>=: greater than or equal to<br>\n",
    "==: equivalence<br>\n",
    "!=: non-equivalence<br>\n",
    "\n",
    "Further documentation:<br>\n",
    "https://docs.python.org/3/library/stdtypes.html#numeric-types-int-float-complex"
   ]
  },
  {
   "cell_type": "markdown",
   "metadata": {},
   "source": [
    "#### Simple math and variables"
   ]
  },
  {
   "cell_type": "code",
   "execution_count": 48,
   "metadata": {
    "code_folding": [
     0
    ]
   },
   "outputs": [
    {
     "name": "stdout",
     "output_type": "stream",
     "text": [
      "13*2 = 26\n",
      "13+2 = 15\n",
      "30/2 = 15.0\n"
     ]
    }
   ],
   "source": [
    "print(\"13*2 =\", 13*2)\n",
    "print(\"13+2 =\", 13+2)\n",
    "print(\"30/2 =\", 30/2)"
   ]
  },
  {
   "cell_type": "markdown",
   "metadata": {},
   "source": [
    "#### Floats vs integers"
   ]
  },
  {
   "cell_type": "code",
   "execution_count": 8,
   "metadata": {
    "code_folding": [
     0
    ]
   },
   "outputs": [
    {
     "name": "stdout",
     "output_type": "stream",
     "text": [
      "<class 'int'>\n",
      "<class 'float'>\n",
      "True\n"
     ]
    }
   ],
   "source": [
    "print(type(13+2)) \n",
    "print(type(30/2))\n",
    "print((30/2)==(13+2)) # fortunately python is smart enough to compare integers and floats\n"
   ]
  },
  {
   "cell_type": "markdown",
   "metadata": {},
   "source": [
    "#### The modulo operator\n",
    "The '%' modulo operator gives the remainder <br> \n",
    "> e.g. 10 % 4 = 2 , the remainder of 10/4 is 2 <br>\n",
    "This is useful for finding even / odd numbers or counting by \"k\""
   ]
  },
  {
   "cell_type": "code",
   "execution_count": 49,
   "metadata": {
    "code_folding": [
     0
    ]
   },
   "outputs": [
    {
     "name": "stdout",
     "output_type": "stream",
     "text": [
      "1 0 1 0\n"
     ]
    }
   ],
   "source": [
    "print(1%2, 2%2, 3%2, 4%2) \n"
   ]
  },
  {
   "cell_type": "markdown",
   "metadata": {},
   "source": [
    "#### The += operator\n",
    "The operation of incrementing a number by some fixed value\n",
    "e.g. by 1, is so common that there is a shorthand for it:\n",
    "<br>\n",
    "> += x : increment by x"
   ]
  },
  {
   "cell_type": "code",
   "execution_count": 2,
   "metadata": {
    "code_folding": [
     0
    ]
   },
   "outputs": [
    {
     "name": "stdout",
     "output_type": "stream",
     "text": [
      "2\n",
      "3\n",
      "4\n"
     ]
    }
   ],
   "source": [
    "x=2\n",
    "print(x)\n",
    "x=x+1\n",
    "print(x)\n",
    "x+=1\n",
    "print(x)"
   ]
  },
  {
   "cell_type": "markdown",
   "metadata": {},
   "source": [
    "#### Variables\n",
    "Variables can be assigned with the \"=\" operator"
   ]
  },
  {
   "cell_type": "code",
   "execution_count": 50,
   "metadata": {
    "code_folding": [
     0
    ]
   },
   "outputs": [
    {
     "name": "stdout",
     "output_type": "stream",
     "text": [
      "7.5\n"
     ]
    }
   ],
   "source": [
    "x=5\n",
    "y=3\n",
    "z=x*y/2\n",
    "print(z)"
   ]
  },
  {
   "cell_type": "markdown",
   "metadata": {},
   "source": [
    "#### Assignment versus equivalence\n",
    "It is CRITICAL to understand the difference between \"=\" and \"==\""
   ]
  },
  {
   "cell_type": "code",
   "execution_count": 14,
   "metadata": {
    "code_folding": [
     0
    ]
   },
   "outputs": [
    {
     "name": "stdout",
     "output_type": "stream",
     "text": [
      "False\n",
      "True\n",
      "False\n"
     ]
    }
   ],
   "source": [
    "x=10\n",
    "print(x==5)\n",
    "\n",
    "#print(x=5) #This will fail!\n",
    "\n",
    "x=5\n",
    "print(x==5)\n",
    "print(x!=5)"
   ]
  },
  {
   "cell_type": "markdown",
   "metadata": {},
   "source": [
    "#### Boolean logic\n",
    "Simple boolean logic can be performed using english words"
   ]
  },
  {
   "cell_type": "code",
   "execution_count": 15,
   "metadata": {
    "code_folding": [
     0
    ]
   },
   "outputs": [
    {
     "name": "stdout",
     "output_type": "stream",
     "text": [
      "<class 'bool'>\n",
      "False\n",
      "True\n",
      "False\n"
     ]
    }
   ],
   "source": [
    "t = True\n",
    "f = False\n",
    "\n",
    "print(type(t)) # \"<class 'bool'>\"\n",
    "print(t and f) # Logical AND; prints \"False\"\n",
    "print(t or f)  # Logical OR; prints \"True\"\n",
    "print(not t)   # Logical NOT; prints \"False\"\n"
   ]
  },
  {
   "cell_type": "markdown",
   "metadata": {},
   "source": [
    "## Strings"
   ]
  },
  {
   "cell_type": "code",
   "execution_count": 51,
   "metadata": {
    "code_folding": [
     0
    ]
   },
   "outputs": [
    {
     "name": "stdout",
     "output_type": "stream",
     "text": [
      "CCB 293\n",
      "7\n"
     ]
    }
   ],
   "source": [
    "x = \"CCB 293\"\n",
    "print(x)\n",
    "print(len(x))  # String length; prints \"5\""
   ]
  },
  {
   "cell_type": "markdown",
   "metadata": {},
   "source": [
    "#### String formatting\n",
    "You can insert variables inside strings using 'f'"
   ]
  },
  {
   "cell_type": "code",
   "execution_count": 53,
   "metadata": {
    "code_folding": [
     0
    ]
   },
   "outputs": [
    {
     "name": "stdout",
     "output_type": "stream",
     "text": [
      "CCB 293 is my number 1 class!\n"
     ]
    }
   ],
   "source": [
    "x=\"CCB 293\"\n",
    "CCB293_ranking = 1\n",
    "\n",
    "complex_string = f\"{x} is my number {CCB293_ranking} class!\"\n",
    "\n",
    "print(complex_string)\n"
   ]
  },
  {
   "cell_type": "markdown",
   "metadata": {},
   "source": [
    "#### String operations\n",
    "There are all kinds of operations that can be run on strings that are super helpful <br>\n",
    "https://docs.python.org/3/library/stdtypes.html#string-methods"
   ]
  },
  {
   "cell_type": "code",
   "execution_count": 54,
   "metadata": {
    "code_folding": [
     0
    ],
    "scrolled": true
   },
   "outputs": [
    {
     "name": "stdout",
     "output_type": "stream",
     "text": [
      "HELLO\n",
      "he(l)(l)o\n",
      "--TEXT\n",
      "TEXT--\n",
      "TEXT\n",
      "8\n"
     ]
    }
   ],
   "source": [
    "s = \"hello\"\n",
    "print(s.upper())  # Convert a string to uppercase; prints \"HELLO\"\n",
    "print(s.replace('l', '(l)'))  # Replace all instances of one substring with another;\n",
    "print('--TEXT--'.rstrip(\"-\"))  # Strip trailing characters\n",
    "print('--TEXT--'.lstrip(\"-\"))  # Strip leading characters\n",
    "print('--TEXT--'.strip(\"-\"))  # Strip leading and trailing characters\n",
    "print(len('--TEXT--'))  # what is the length of this string?"
   ]
  },
  {
   "cell_type": "markdown",
   "metadata": {},
   "source": [
    "## Containers: lists and dictionaries"
   ]
  },
  {
   "cell_type": "markdown",
   "metadata": {},
   "source": [
    "#### Containers - lists\n",
    "Lists are ordered arrays of elements in some languages this type is called an array"
   ]
  },
  {
   "cell_type": "code",
   "execution_count": 55,
   "metadata": {
    "code_folding": [
     0
    ]
   },
   "outputs": [
    {
     "name": "stdout",
     "output_type": "stream",
     "text": [
      "[9, 5, 12]\n",
      "[9, 5, 12, 201]\n",
      "201\n",
      "[9, 5, 12]\n"
     ]
    }
   ],
   "source": [
    "xs = [9, 5, 12] # Create a list\n",
    "print(xs)\n",
    "\n",
    "xs.append(201)  # add an element to the end of the list\n",
    "print(xs)\n",
    "\n",
    "element = xs.pop() # pop an element off the end of a list returning it\n",
    "print(element)\n",
    "print(xs)\n"
   ]
  },
  {
   "cell_type": "markdown",
   "metadata": {},
   "source": [
    "#### List subsetting"
   ]
  },
  {
   "cell_type": "code",
   "execution_count": 56,
   "metadata": {
    "code_folding": [
     0
    ]
   },
   "outputs": [
    {
     "name": "stdout",
     "output_type": "stream",
     "text": [
      "7\n",
      "9\n",
      "9\n"
     ]
    }
   ],
   "source": [
    "xs = [5,7,1,9]\n",
    "print(xs[1])   # indexing starts at 0! (UNLIKE R!!!)\n",
    "\n",
    "print(xs[-1])  # Negative indices count back from the end of a list\n",
    "print(xs[3])\n"
   ]
  },
  {
   "cell_type": "markdown",
   "metadata": {},
   "source": [
    "#### List slicing"
   ]
  },
  {
   "cell_type": "code",
   "execution_count": 24,
   "metadata": {
    "code_folding": [
     0
    ]
   },
   "outputs": [
    {
     "name": "stdout",
     "output_type": "stream",
     "text": [
      "[1, 9]\n",
      "[1, 9, 201]\n",
      "[5, 7]\n",
      "[5, 7, 1, 9]\n",
      "[5, 7, 1]\n"
     ]
    }
   ],
   "source": [
    "xs = [5, 7, 1, 9, 201]\n",
    "\n",
    "print(xs[2:4])        # Get a slice from index 2 to 4 - exclusive! ie, includes elements 2 and 3, not 4\n",
    "print(xs[2:])         # Get a slice from index 2 to the end; \n",
    "print(xs[:2])         # Get a slice from the start to index 2, doesn't include element 2\n",
    "\n",
    "print(xs[:-1])        # negative slices, all but last element\n",
    "print(xs[:-2])        # negative slices, all but last two elements\n"
   ]
  },
  {
   "cell_type": "markdown",
   "metadata": {},
   "source": [
    "#### List operations"
   ]
  },
  {
   "cell_type": "code",
   "execution_count": 57,
   "metadata": {
    "code_folding": [
     0
    ]
   },
   "outputs": [
    {
     "name": "stdout",
     "output_type": "stream",
     "text": [
      "False\n",
      "True\n",
      "3\n",
      "1\n",
      "201\n"
     ]
    }
   ],
   "source": [
    "xs = [5, 7, 1, 9, 201]\n",
    "\n",
    "print(19 in xs)       #is 19 in the list?\n",
    "print(9 in xs)        #is 9 in the  list?  \n",
    "print(xs.index(9))    #where is 9?\n",
    "\n",
    "print(min(xs))        #the minimum element\n",
    "print(max(xs))        #the maximum element\n"
   ]
  },
  {
   "cell_type": "markdown",
   "metadata": {},
   "source": [
    "#### List concatenation"
   ]
  },
  {
   "cell_type": "code",
   "execution_count": 59,
   "metadata": {
    "code_folding": [
     0
    ]
   },
   "outputs": [
    {
     "name": "stdout",
     "output_type": "stream",
     "text": [
      "[1, 2, 3, 4, 5, 6]\n",
      "[0, 1, 2, 3, 4, 5, 6, 7, 8, 9, 10, 11, 12, 13, 14, 15, 16, 17, 18, 19]\n"
     ]
    }
   ],
   "source": [
    "x1 = [1,2,3]\n",
    "x2 = [4, 5, 6]\n",
    "\n",
    "joined_list = x1 + x2\n",
    "\n",
    "print(joined_list)\n",
    "\n",
    "x3 = list(range(20)) ## range() generates a sequence; range(start, stop, step)\n",
    "print(x3)\n",
    "#print(range(20)) ##notice what happens if you try printing without concatenation using 'list()'\n"
   ]
  },
  {
   "cell_type": "markdown",
   "metadata": {},
   "source": [
    "#### Splitting strings into lists"
   ]
  },
  {
   "cell_type": "code",
   "execution_count": 60,
   "metadata": {
    "code_folding": [
     0
    ]
   },
   "outputs": [
    {
     "name": "stdout",
     "output_type": "stream",
     "text": [
      "['Debora', 'Miguel', 'Stacy', 'Xu']\n"
     ]
    }
   ],
   "source": [
    "student_names = \"Debora,Miguel,Stacy,Xu\"\n",
    "list_of_names = student_names.split(\",\")\n",
    "print(list_of_names)"
   ]
  },
  {
   "cell_type": "markdown",
   "metadata": {},
   "source": [
    "#### Converting strings to numbers\n",
    "Often when we are reading files numbers are encoded as strings. \n",
    "To use these numbers as numbers we need to convert them to floats or integers."
   ]
  },
  {
   "cell_type": "code",
   "execution_count": 61,
   "metadata": {
    "code_folding": [
     0
    ]
   },
   "outputs": [
    {
     "name": "stdout",
     "output_type": "stream",
     "text": [
      "8.3\n"
     ]
    }
   ],
   "source": [
    "string_number = \"5.3\"\n",
    "\n",
    "#print(string_number + 3) # this will fail - you cannot add a string to an integer\n",
    "\n",
    "#print(int(string_number) + 3) # this will fail - 5.3 is not an integer!\n",
    "\n",
    "print(float(string_number) + 3)\n"
   ]
  },
  {
   "cell_type": "markdown",
   "metadata": {},
   "source": [
    "#### SECRET CODE - \n",
    "Make sure to run this cell, but you don't need to understand it...yet\n",
    "\n",
    "In this block I am activating a new function to print out dictionaries in a pretty fashion - it's not part of the lesson"
   ]
  },
  {
   "cell_type": "code",
   "execution_count": 62,
   "metadata": {
    "code_folding": [
     0
    ]
   },
   "outputs": [],
   "source": [
    "import json\n",
    "\n",
    "def dprint(d):\n",
    "    print(json.dumps(d,\n",
    "                     sort_keys=True,\n",
    "                     indent=4))\n",
    "\n"
   ]
  },
  {
   "cell_type": "markdown",
   "metadata": {},
   "source": [
    "#### Containers - Dictionaries\n",
    "\n",
    "Dictionaries hold key:value pairs - \n",
    "in some languages these are called \"hash tables\"\n",
    "\n",
    "** NOTE I have defined a function called dprint above which \n",
    "allows us to print pretty dictionaries that are easier to look at- <br>\n",
    "the print() function works just fine too\n",
    "\n",
    "Dictionaries can store a mixture of different \"types\", also known as keys \n",
    "all keys have to be of the same type, either string or int, but the values can be a mixture of types"
   ]
  },
  {
   "cell_type": "code",
   "execution_count": 63,
   "metadata": {
    "code_folding": [
     0
    ]
   },
   "outputs": [
    {
     "name": "stdout",
     "output_type": "stream",
     "text": [
      "{\n",
      "    \"first_name\": \"Jane\",\n",
      "    \"last_name\": \"dough\",\n",
      "    \"student_ID\": 120120\n",
      "}\n",
      "120120\n",
      "{\n",
      "    \"first_name\": \"Jane\",\n",
      "    \"grade\": \"A+\",\n",
      "    \"last_name\": \"dough\",\n",
      "    \"student_ID\": 120120\n",
      "}\n"
     ]
    }
   ],
   "source": [
    "student_info_dict = {\"student_ID\": 120120, \n",
    "                     \"first_name\": \"Jane\",\n",
    "                     \"last_name\": \"dough\"} \n",
    "\n",
    "##note here also that you can continue writing on the next line\n",
    "\n",
    "dprint(student_info_dict)\n",
    "print(student_info_dict[\"student_ID\"]) ##extract the value associated with the key 'student_ID'\n",
    "\n",
    "student_info_dict[\"grade\"] = \"A+\" ##add an extra key - 'grade'\n",
    "dprint(student_info_dict)"
   ]
  },
  {
   "cell_type": "markdown",
   "metadata": {},
   "source": [
    "#### Combining lists and dictionaries"
   ]
  },
  {
   "cell_type": "code",
   "execution_count": 64,
   "metadata": {
    "code_folding": [
     0
    ]
   },
   "outputs": [
    {
     "name": "stdout",
     "output_type": "stream",
     "text": [
      "[\n",
      "    {\n",
      "        \"first_name\": \"Jane\",\n",
      "        \"last_name\": \"dough\",\n",
      "        \"student_ID\": 120120\n",
      "    },\n",
      "    {\n",
      "        \"first_name\": \"Jake\",\n",
      "        \"last_name\": \"Dunn\",\n",
      "        \"student_ID\": 2\n",
      "    },\n",
      "    {\n",
      "        \"first_name\": \"Mary\",\n",
      "        \"last_name\": \"Claire\",\n",
      "        \"student_ID\": 3\n",
      "    }\n",
      "]\n"
     ]
    }
   ],
   "source": [
    "s1 = {\"student_ID\": 120120, \n",
    "      \"first_name\": \"Jane\",\n",
    "      \"last_name\": \"dough\"}\n",
    "\n",
    "s2 = {\"student_ID\": 2, \n",
    "      \"first_name\": \"Jake\",\n",
    "      \"last_name\": \"Dunn\"}\n",
    "\n",
    "s3 = {\"student_ID\": 3, \n",
    "      \"first_name\": \"Mary\",\n",
    "      \"last_name\": \"Claire\"}\n",
    "\n",
    "students = [s1,s2,s3]\n",
    "\n",
    "dprint(students)\n"
   ]
  },
  {
   "cell_type": "markdown",
   "metadata": {},
   "source": [
    "#### Iterating through dictionaries"
   ]
  },
  {
   "cell_type": "code",
   "execution_count": 65,
   "metadata": {},
   "outputs": [
    {
     "name": "stdout",
     "output_type": "stream",
     "text": [
      "student_ID: 120120\n",
      "first_name: Jane\n",
      "last_name: dough\n",
      "grade: A+\n",
      "\n",
      "\n",
      "dict_keys(['student_ID', 'first_name', 'last_name', 'grade'])\n",
      "dict_values([120120, 'Jane', 'dough', 'A+'])\n"
     ]
    }
   ],
   "source": [
    "for key, value in student_info_dict.items():\n",
    "    print(f\"{key}: {value}\")\n",
    "    \n",
    "#you can also access the keys and values of a dictionary separately \n",
    "print(\"\\n\")\n",
    "print(student_info_dict.keys())\n",
    "print(student_info_dict.values())"
   ]
  },
  {
   "cell_type": "markdown",
   "metadata": {},
   "source": [
    "##  Plotting with matplotlib\n",
    "Import your required packages"
   ]
  },
  {
   "cell_type": "code",
   "execution_count": 66,
   "metadata": {},
   "outputs": [],
   "source": [
    "import numpy as np\n",
    "import matplotlib.pyplot as plt\n",
    "import pandas as pd"
   ]
  },
  {
   "cell_type": "markdown",
   "metadata": {},
   "source": [
    "You can make publication ready figures using matplotlib and you can change almost anything about the plot above (e.g. labels, fonts, colors, resolution, size, grid, axis, save in different formats etc)"
   ]
  },
  {
   "cell_type": "code",
   "execution_count": 67,
   "metadata": {},
   "outputs": [
    {
     "data": {
      "image/png": "[encoded data removed]",
      "text/plain": [
       "<Figure size 432x288 with 1 Axes>"
      ]
     },
     "metadata": {
      "needs_background": "light"
     },
     "output_type": "display_data"
    }
   ],
   "source": [
    "x = np.linspace(0, 5, 6)\n",
    "plt.scatter(x, x ** 2)\n",
    "plt.savefig(\"test.png\")"
   ]
  },
  {
   "cell_type": "markdown",
   "metadata": {},
   "source": [
    "## Make test data, load data, save data using Pandas"
   ]
  },
  {
   "cell_type": "markdown",
   "metadata": {},
   "source": [
    "Make a table"
   ]
  },
  {
   "cell_type": "code",
   "execution_count": 68,
   "metadata": {},
   "outputs": [
    {
     "data": {
      "text/html": [
       "<div>\n",
       "<style scoped>\n",
       "    .dataframe tbody tr th:only-of-type {\n",
       "        vertical-align: middle;\n",
       "    }\n",
       "\n",
       "    .dataframe tbody tr th {\n",
       "        vertical-align: top;\n",
       "    }\n",
       "\n",
       "    .dataframe thead th {\n",
       "        text-align: right;\n",
       "    }\n",
       "</style>\n",
       "<table border=\"1\" class=\"dataframe\">\n",
       "  <thead>\n",
       "    <tr style=\"text-align: right;\">\n",
       "      <th></th>\n",
       "      <th>a</th>\n",
       "      <th>b</th>\n",
       "      <th>c</th>\n",
       "    </tr>\n",
       "  </thead>\n",
       "  <tbody>\n",
       "    <tr>\n",
       "      <th>1</th>\n",
       "      <td>4</td>\n",
       "      <td>7</td>\n",
       "      <td>10</td>\n",
       "    </tr>\n",
       "    <tr>\n",
       "      <th>2</th>\n",
       "      <td>5</td>\n",
       "      <td>8</td>\n",
       "      <td>11</td>\n",
       "    </tr>\n",
       "    <tr>\n",
       "      <th>3</th>\n",
       "      <td>6</td>\n",
       "      <td>9</td>\n",
       "      <td>12</td>\n",
       "    </tr>\n",
       "  </tbody>\n",
       "</table>\n",
       "</div>"
      ],
      "text/plain": [
       "   a  b   c\n",
       "1  4  7  10\n",
       "2  5  8  11\n",
       "3  6  9  12"
      ]
     },
     "execution_count": 68,
     "metadata": {},
     "output_type": "execute_result"
    }
   ],
   "source": [
    "df = pd.DataFrame(\n",
    "              {\"a\" : [4 ,5, 6],\n",
    "               \"b\" : [7, 8, 9],\n",
    "               \"c\" : [10, 11, 12]},\n",
    "            index = [1, 2, 3])\n",
    "df"
   ]
  },
  {
   "cell_type": "markdown",
   "metadata": {},
   "source": [
    "Add a new column"
   ]
  },
  {
   "cell_type": "code",
   "execution_count": 69,
   "metadata": {},
   "outputs": [
    {
     "data": {
      "text/html": [
       "<div>\n",
       "<style scoped>\n",
       "    .dataframe tbody tr th:only-of-type {\n",
       "        vertical-align: middle;\n",
       "    }\n",
       "\n",
       "    .dataframe tbody tr th {\n",
       "        vertical-align: top;\n",
       "    }\n",
       "\n",
       "    .dataframe thead th {\n",
       "        text-align: right;\n",
       "    }\n",
       "</style>\n",
       "<table border=\"1\" class=\"dataframe\">\n",
       "  <thead>\n",
       "    <tr style=\"text-align: right;\">\n",
       "      <th></th>\n",
       "      <th>a</th>\n",
       "      <th>b</th>\n",
       "      <th>c</th>\n",
       "      <th>Another_column</th>\n",
       "    </tr>\n",
       "  </thead>\n",
       "  <tbody>\n",
       "    <tr>\n",
       "      <th>1</th>\n",
       "      <td>4</td>\n",
       "      <td>7</td>\n",
       "      <td>10</td>\n",
       "      <td>0</td>\n",
       "    </tr>\n",
       "    <tr>\n",
       "      <th>2</th>\n",
       "      <td>5</td>\n",
       "      <td>8</td>\n",
       "      <td>11</td>\n",
       "      <td>0</td>\n",
       "    </tr>\n",
       "    <tr>\n",
       "      <th>3</th>\n",
       "      <td>6</td>\n",
       "      <td>9</td>\n",
       "      <td>12</td>\n",
       "      <td>0</td>\n",
       "    </tr>\n",
       "  </tbody>\n",
       "</table>\n",
       "</div>"
      ],
      "text/plain": [
       "   a  b   c  Another_column\n",
       "1  4  7  10               0\n",
       "2  5  8  11               0\n",
       "3  6  9  12               0"
      ]
     },
     "execution_count": 69,
     "metadata": {},
     "output_type": "execute_result"
    }
   ],
   "source": [
    "df[\"Another_column\"]=[0,0,0]\n",
    "df"
   ]
  },
  {
   "cell_type": "markdown",
   "metadata": {},
   "source": [
    "Save table as .csv file"
   ]
  },
  {
   "cell_type": "code",
   "execution_count": 70,
   "metadata": {},
   "outputs": [
    {
     "name": "stdout",
     "output_type": "stream",
     "text": [
      "/Users/kaileyferger/Downloads\r\n"
     ]
    }
   ],
   "source": [
    "df.to_csv(\"Our_Table.csv\") \n",
    "#it's important to always know where you're saving files; \n",
    "#to obtain the path of your current directory, use the command\n",
    "!pwd"
   ]
  },
  {
   "cell_type": "markdown",
   "metadata": {},
   "source": [
    "Load table from .csv file"
   ]
  },
  {
   "cell_type": "code",
   "execution_count": 71,
   "metadata": {},
   "outputs": [
    {
     "data": {
      "text/html": [
       "<div>\n",
       "<style scoped>\n",
       "    .dataframe tbody tr th:only-of-type {\n",
       "        vertical-align: middle;\n",
       "    }\n",
       "\n",
       "    .dataframe tbody tr th {\n",
       "        vertical-align: top;\n",
       "    }\n",
       "\n",
       "    .dataframe thead th {\n",
       "        text-align: right;\n",
       "    }\n",
       "</style>\n",
       "<table border=\"1\" class=\"dataframe\">\n",
       "  <thead>\n",
       "    <tr style=\"text-align: right;\">\n",
       "      <th></th>\n",
       "      <th>a</th>\n",
       "      <th>b</th>\n",
       "      <th>c</th>\n",
       "      <th>Another_column</th>\n",
       "    </tr>\n",
       "  </thead>\n",
       "  <tbody>\n",
       "    <tr>\n",
       "      <th>1</th>\n",
       "      <td>4</td>\n",
       "      <td>7</td>\n",
       "      <td>10</td>\n",
       "      <td>0</td>\n",
       "    </tr>\n",
       "    <tr>\n",
       "      <th>2</th>\n",
       "      <td>5</td>\n",
       "      <td>8</td>\n",
       "      <td>11</td>\n",
       "      <td>0</td>\n",
       "    </tr>\n",
       "    <tr>\n",
       "      <th>3</th>\n",
       "      <td>6</td>\n",
       "      <td>9</td>\n",
       "      <td>12</td>\n",
       "      <td>0</td>\n",
       "    </tr>\n",
       "  </tbody>\n",
       "</table>\n",
       "</div>"
      ],
      "text/plain": [
       "   a  b   c  Another_column\n",
       "1  4  7  10               0\n",
       "2  5  8  11               0\n",
       "3  6  9  12               0"
      ]
     },
     "execution_count": 71,
     "metadata": {},
     "output_type": "execute_result"
    }
   ],
   "source": [
    "df_from_file= pd.read_csv(\"Our_Table.csv\", index_col=0)\n",
    "df_from_file"
   ]
  },
  {
   "cell_type": "code",
   "execution_count": null,
   "metadata": {},
   "outputs": [],
   "source": []
  }
 ],
 "metadata": {
  "history": [
   {
    "code": "## the modulo operator\n\"\"\"\n# the '%' modulo operator gives the remainder \ne.g. 10 % 4 = 2 , the remainder of 10/4 is 2 \nuseful for finding even / odd numbers or counting by \"k\"\n\"\"\"\n\nprint(1%2, 2%2, 3%2, 4%2) \n",
    "id": "f053b69109d7423d885df6ad7b7672d7",
    "idx": 7,
    "time": "2021-01-22T22:37:18.339Z",
    "type": "execution"
   },
   {
    "id": "f053b69109d7423d885df6ad7b7672d7",
    "time": "2021-01-22T22:37:18.406Z",
    "type": "completion"
   },
   {
    "code": "## The += operator\n\n\"\"\"\nThe operation of incrementing a number by some fixed value\ne.g. by 1, is so common that there is a shorthand for it\n\n+=x : increment by x\n\"\"\"\n\nx=2\nprint(x)\nx=x+1\nprint(x)\nx+=1\nprint(x)",
    "id": "3d182a60876b4f4eb705d17efdba674f",
    "idx": 8,
    "time": "2021-01-22T22:38:02.069Z",
    "type": "execution"
   },
   {
    "id": "3d182a60876b4f4eb705d17efdba674f",
    "time": "2021-01-22T22:38:02.140Z",
    "type": "completion"
   },
   {
    "code": "## Variables\n\"\"\"\nvariables can be assigned with the \"=\" operator\n\"\"\"\n\nx=5\ny=3\nz=x*y/2\nprint(z)",
    "id": "251f582b6166454287dac7cbf452afc1",
    "idx": 9,
    "time": "2021-01-22T22:38:31.211Z",
    "type": "execution"
   },
   {
    "id": "251f582b6166454287dac7cbf452afc1",
    "time": "2021-01-22T22:38:31.269Z",
    "type": "completion"
   },
   {
    "code": "## Assignment versus equivalence\n\"\"\"\nit is CRITICAL to understand the difference between \"=\" and \"==\"\n\"\"\"\n\nx=10\nprint(x==5)\n\n#print(x=5) #This will fail!\n\nx=5\nprint(x==5)\nprint(x!=5)",
    "id": "15adcddd784e45598246f6577bbadabd",
    "idx": 10,
    "time": "2021-01-22T22:39:15.921Z",
    "type": "execution"
   },
   {
    "id": "15adcddd784e45598246f6577bbadabd",
    "time": "2021-01-22T22:39:15.979Z",
    "type": "completion"
   },
   {
    "code": "## Boolean logic\n\"\"\"\nsimple boolean logic can be performed using english words\n\"\"\"\n\nt = True\nf = False\n\nprint(type(t)) # \"<class 'bool'>\"\nprint(t and f) # Logical AND; prints \"False\"\nprint(t or f)  # Logical OR; prints \"True\"\nprint(not t)   # Logical NOT; prints \"False\"\n",
    "id": "e3bb42cde2534bf89af5c68e08e697d3",
    "idx": 11,
    "time": "2021-01-22T22:40:29.572Z",
    "type": "execution"
   },
   {
    "id": "e3bb42cde2534bf89af5c68e08e697d3",
    "time": "2021-01-22T22:40:29.630Z",
    "type": "completion"
   },
   {
    "code": "## Strings\n\nx = \"IB120\"\nprint(x)\nprint(len(x))  # String length; prints \"5\"",
    "id": "97d2ddf7f8f74a8f8cda426b501c2d65",
    "idx": 13,
    "time": "2021-01-22T22:43:27.103Z",
    "type": "execution"
   },
   {
    "id": "97d2ddf7f8f74a8f8cda426b501c2d65",
    "time": "2021-01-22T22:43:27.159Z",
    "type": "completion"
   },
   {
    "code": "## String formatting\n\nx=\"IB120\"\nIB201_ranking = 1\n\ncomplex_string = \"{v1} is my number {v2} class!\".format(v1=x, v2=IB201_ranking)\n\nprint(complex_string)\n\n",
    "id": "4f573288a3a2439da2e3b9c6fd1558e0",
    "idx": 14,
    "time": "2021-01-22T22:44:05.449Z",
    "type": "execution"
   },
   {
    "id": "4f573288a3a2439da2e3b9c6fd1558e0",
    "time": "2021-01-22T22:44:05.507Z",
    "type": "completion"
   },
   {
    "code": "## String formatting\n\nx=\"IB120\"\nIB201_ranking = 1\n\ncomplex_string = \"(v1) is my number (v2) class!\".format(v1=x, v2=IB201_ranking)\n\nprint(complex_string)\n\n",
    "id": "4f573288a3a2439da2e3b9c6fd1558e0",
    "idx": 14,
    "time": "2021-01-22T22:47:11.805Z",
    "type": "execution"
   },
   {
    "id": "4f573288a3a2439da2e3b9c6fd1558e0",
    "time": "2021-01-22T22:47:11.874Z",
    "type": "completion"
   },
   {
    "code": "## String formatting\n\nx=\"IB120\"\nIB201_ranking = 1\n\ncomplex_string = \"{v1} is my number {v2} class!\".format(v1=x, v2=IB201_ranking)\n\nprint(complex_string)\n\n",
    "id": "4f573288a3a2439da2e3b9c6fd1558e0",
    "idx": 14,
    "time": "2021-01-22T22:47:30.257Z",
    "type": "execution"
   },
   {
    "id": "4f573288a3a2439da2e3b9c6fd1558e0",
    "time": "2021-01-22T22:47:30.315Z",
    "type": "completion"
   },
   {
    "code": "## String operations\n\"\"\"\nthere are all kinds of operations that can be \nrun on strings that are super helpful\n\nhttps://docs.python.org/3/library/stdtypes.html#string-methods\n\"\"\"\n\ns = \"hello\"\nprint(s.upper())  # Convert a string to uppercase; prints \"HELLO\"\nprint(s.replace('l', '(l)'))  # Replace all instances of one substring with another;\nprint('--TEXT--'.rstrip(\"-\"))  # Strip trailing characters\nprint('--TEXT--'.lstrip(\"-\"))  # Strip leading characters\nprint('--TEXT--'.strip(\"-\"))  # Strip leading and trailing characters\nprint(len('--TEXT--'))  # what is the length of this string?",
    "id": "c1e16516ac9443649162ffd65a00b24c",
    "idx": 15,
    "time": "2021-01-22T22:47:50.742Z",
    "type": "execution"
   },
   {
    "id": "c1e16516ac9443649162ffd65a00b24c",
    "time": "2021-01-22T22:47:50.801Z",
    "type": "completion"
   },
   {
    "code": "## String operations\n\"\"\"\nthere are all kinds of operations that can be \nrun on strings that are super helpful\n\nhttps://docs.python.org/3/library/stdtypes.html#string-methods\n\"\"\"\n\ns = \"hello\"\nprint(s.upper())  # Convert a string to uppercase; prints \"HELLO\"\n  # what is the length of this string?",
    "id": "c1e16516ac9443649162ffd65a00b24c",
    "idx": 15,
    "time": "2021-01-22T22:51:21.345Z",
    "type": "execution"
   },
   {
    "id": "c1e16516ac9443649162ffd65a00b24c",
    "time": "2021-01-22T22:51:21.403Z",
    "type": "completion"
   },
   {
    "code": "## String operations\n\"\"\"\nthere are all kinds of operations that can be \nrun on strings that are super helpful\n\nhttps://docs.python.org/3/library/stdtypes.html#string-methods\n\"\"\"\n\ns = \"hello\"\nprint(s.upper())  # Convert a string to uppercase; prints \"HELLO\"\nprint(s.replace('l', '(l)'))  # Replace all instances of one substring with another;\nprint('--TEXT--'.rstrip(\"-\"))  # Strip trailing characters\nprint('--TEXT--'.lstrip(\"-\"))  # Strip leading characters\nprint('--TEXT--'.strip(\"-\"))  # Strip leading and trailing characters\nprint(len('--TEXT--'))  # what is the length of this string?",
    "id": "c1e16516ac9443649162ffd65a00b24c",
    "idx": 15,
    "time": "2021-01-22T22:51:34.360Z",
    "type": "execution"
   },
   {
    "id": "c1e16516ac9443649162ffd65a00b24c",
    "time": "2021-01-22T22:51:34.417Z",
    "type": "completion"
   },
   {
    "code": "#1.4 Containers - lists\n\"\"\"\nlists are ordered arrays of elements\nin some languages this type is called an array\n\"\"\"\n\nxs = [9, 5, 12] # Create a list\nprint(xs)\n\nxs.append(201)  # add an element to the end of the list\nprint(xs)\n\nelement = xs.pop() # pop an element off the end of a list returning it\nprint(element)\nprint(xs)\n",
    "id": "a7eab1b0872847f78c973ea3827be8b8",
    "idx": 17,
    "time": "2021-01-22T22:56:46.184Z",
    "type": "execution"
   },
   {
    "id": "a7eab1b0872847f78c973ea3827be8b8",
    "time": "2021-01-22T22:56:46.241Z",
    "type": "completion"
   },
   {
    "code": "#1.4 Containers - lists\n\"\"\"\nlists are ordered arrays of elements\nin some languages this type is called an array\n\"\"\"\n\nxs = (9, 5, 12) # Create a list\nprint(xs)\n\nxs.append(201)  # add an element to the end of the list\nprint(xs)\n\nelement = xs.pop() # pop an element off the end of a list returning it\nprint(element)\nprint(xs)\n",
    "id": "a7eab1b0872847f78c973ea3827be8b8",
    "idx": 17,
    "time": "2021-01-22T22:57:30.512Z",
    "type": "execution"
   },
   {
    "id": "a7eab1b0872847f78c973ea3827be8b8",
    "time": "2021-01-22T22:57:30.648Z",
    "type": "completion"
   },
   {
    "code": "#1.4 Containers - lists\n\"\"\"\nlists are ordered arrays of elements\nin some languages this type is called an array\n\"\"\"\n\nxs = [9, 5, 12] # Create a list\nprint(xs)\n\nxs.append(201)  # add an element to the end of the list\nprint(xs)\n\nelement = xs.pop() # pop an element off the end of a list returning it\nprint(element)\nprint(xs)\n",
    "id": "a7eab1b0872847f78c973ea3827be8b8",
    "idx": 17,
    "time": "2021-01-22T22:57:36.695Z",
    "type": "execution"
   },
   {
    "id": "a7eab1b0872847f78c973ea3827be8b8",
    "time": "2021-01-22T22:57:36.750Z",
    "type": "completion"
   },
   {
    "code": "## list subsetting\n\nxs = [5,7,1,9]\nprint(xs[1])   # indexing starts at 0! (UNLIKE R!!!)\n\nprint(xs[-1])  # Negative indices count back from the end of a list\nprint(xs[3])\n",
    "id": "b0d35204f2bd400e8dec2b0e55ca72a9",
    "idx": 18,
    "time": "2021-01-22T22:59:00.159Z",
    "type": "execution"
   },
   {
    "id": "b0d35204f2bd400e8dec2b0e55ca72a9",
    "time": "2021-01-22T22:59:00.218Z",
    "type": "completion"
   },
   {
    "code": "## list subsetting\n\nxs = [5,7,1,9]\nprint(xs[0])   # indexing starts at 0! (UNLIKE R!!!)\n\nprint(xs[-1])  # Negative indices count back from the end of a list\nprint(xs[3])\n",
    "id": "b0d35204f2bd400e8dec2b0e55ca72a9",
    "idx": 18,
    "time": "2021-01-22T22:59:21.513Z",
    "type": "execution"
   },
   {
    "id": "b0d35204f2bd400e8dec2b0e55ca72a9",
    "time": "2021-01-22T22:59:21.590Z",
    "type": "completion"
   },
   {
    "code": "## list subsetting\n\nxs = [5,7,1,9]\nprint(xs[1])   # indexing starts at 0! (UNLIKE R!!!)\n\nprint(xs[-1])  # Negative indices count back from the end of a list\nprint(xs[3])\n",
    "id": "b0d35204f2bd400e8dec2b0e55ca72a9",
    "idx": 18,
    "time": "2021-01-22T22:59:25.894Z",
    "type": "execution"
   },
   {
    "id": "b0d35204f2bd400e8dec2b0e55ca72a9",
    "time": "2021-01-22T22:59:25.952Z",
    "type": "completion"
   },
   {
    "code": "## list slicing\n\nxs = [5, 7, 1, 9, 201]\n\nprint(xs[2:4])        # Get a slice from index 2 to 4 - exclusive! ie, includes elements 2 and 3, not 4\nprint(xs[2:])         # Get a slice from index 2 to the end; \nprint(xs[:2])         # Get a slice from the start to index 2, doesn't include element 2\n\nprint(xs[:-1])        # negative slices, all but last element\nprint(xs[:-2])        # negative slices, all but last two elements\n",
    "id": "2eb6dbe991e34a95a550edaee7c8050a",
    "idx": 19,
    "time": "2021-01-22T22:59:48.820Z",
    "type": "execution"
   },
   {
    "id": "2eb6dbe991e34a95a550edaee7c8050a",
    "time": "2021-01-22T22:59:48.885Z",
    "type": "completion"
   },
   {
    "code": "## super slicing\n\"\"\"\n    array[start:end:step] <-- formatting\n\"\"\"\n\nxs = [5, 7, 1, 9, 201]\n\nprint(xs)\nprint(xs[::])     #the whole list\nprint(xs[::2])    #every second element\nprint(xs[2::2])    #every second element starting at element 1\nprint(xs[::-1])   #reverse the list\nprint(xs[:1:-1]) #reverse the list, and stop at element 1",
    "id": "ba2ac32539054bb18269b6afca237c5e",
    "idx": 20,
    "time": "2021-01-22T23:01:16.246Z",
    "type": "execution"
   },
   {
    "id": "ba2ac32539054bb18269b6afca237c5e",
    "time": "2021-01-22T23:01:16.303Z",
    "type": "completion"
   },
   {
    "code": "## super slicing\n\"\"\"\n    array[start:end:step] <-- formatting\n\"\"\"\n\nxs = [\"a\", \"b\", \"c\", \"d\", \"e\"]\n\nprint(xs)\nprint(xs[::])     #the whole list\nprint(xs[::2])    #every second element\nprint(xs[2::2])    #every second element starting at element 1\nprint(xs[::-1])   #reverse the list\nprint(xs[:1:-1]) #reverse the list, and stop at element 1",
    "id": "ba2ac32539054bb18269b6afca237c5e",
    "idx": 20,
    "time": "2021-01-22T23:03:21.709Z",
    "type": "execution"
   },
   {
    "id": "ba2ac32539054bb18269b6afca237c5e",
    "time": "2021-01-22T23:03:21.941Z",
    "type": "completion"
   },
   {
    "code": "## super slicing\n\"\"\"\n    array[start:end:step] <-- formatting\n\"\"\"\n\nxs = [\"a\", \"b\", \"c\", \"d\", \"e\"]\n\nprint(xs)\nprint(xs[::])     #the whole list\nprint(xs[::2])    #every second element\nprint(xs[2::2])    #every second element starting at element 1\nprint(xs[::-1])   #reverse the list\nprint(xs[:1:-1]) #reverse the list, and stop at element 1\n\nsplit?",
    "id": "ba2ac32539054bb18269b6afca237c5e",
    "idx": 20,
    "time": "2021-01-22T23:05:06.626Z",
    "type": "execution"
   },
   {
    "id": "ba2ac32539054bb18269b6afca237c5e",
    "time": "2021-01-22T23:05:06.685Z",
    "type": "completion"
   },
   {
    "code": "## super slicing\n\"\"\"\n    array[start:end:step] <-- formatting\n\"\"\"\n\nxs = [\"a\", \"b\", \"c\", \"d\", \"e\"]\nx = \"abcde\"\n\nprint(xs)\nprint(xs[::])     #the whole list\nprint(xs[::2])    #every second element\nprint(xs[2::2])    #every second element starting at element 1\nprint(xs[::-1])   #reverse the list\nprint(xs[:1:-1]) #reverse the list, and stop at element 1\n\nx.split?",
    "id": "ba2ac32539054bb18269b6afca237c5e",
    "idx": 20,
    "time": "2021-01-22T23:05:20.786Z",
    "type": "execution"
   },
   {
    "id": "ba2ac32539054bb18269b6afca237c5e",
    "time": "2021-01-22T23:05:20.928Z",
    "type": "completion"
   },
   {
    "code": "## list operations\n\nxs = [5, 7, 1, 9, 201]\n\nprint(19 in xs)       #is 19 in the list?\nprint(9 in xs)        #is 9 in the  list?  \nprint(xs.index(9))    #where is 9?\n\nprint(min(xs))        #the minimum element\nprint(max(xs))        #the maximum element\n",
    "id": "141174238ce24e138be12cceb7fa8f36",
    "idx": 21,
    "time": "2021-01-22T23:06:45.323Z",
    "type": "execution"
   },
   {
    "id": "141174238ce24e138be12cceb7fa8f36",
    "time": "2021-01-22T23:06:45.387Z",
    "type": "completion"
   },
   {
    "code": "## list concatenation\n\nx1 = [1,2,3]\nx2 = [4, 5, 6]\n\njoined_list = x1 + x2\n\nprint(joined_list)\n\nx3 = list(range(20)) ## range() generates a sequence; range(start, stop, step)\nprint(x3)\n#print(range(20)) ##notice what happens if you try printing without concatenation using 'list()'\n",
    "id": "b9cf7614673e4355b75de00d341c94a4",
    "idx": 22,
    "time": "2021-01-22T23:07:45.230Z",
    "type": "execution"
   },
   {
    "id": "b9cf7614673e4355b75de00d341c94a4",
    "time": "2021-01-22T23:07:45.291Z",
    "type": "completion"
   },
   {
    "code": "\"atcgt[::-1]",
    "id": "dbf40004b02f43489ef94eedc5e3d9a3",
    "idx": 22,
    "time": "2021-01-22T23:10:17.128Z",
    "type": "execution"
   },
   {
    "id": "dbf40004b02f43489ef94eedc5e3d9a3",
    "time": "2021-01-22T23:10:17.203Z",
    "type": "completion"
   },
   {
    "code": "x = \"atcgt\"\nprint(x[::-1])",
    "id": "dbf40004b02f43489ef94eedc5e3d9a3",
    "idx": 22,
    "time": "2021-01-22T23:10:34.353Z",
    "type": "execution"
   },
   {
    "id": "dbf40004b02f43489ef94eedc5e3d9a3",
    "time": "2021-01-22T23:10:34.420Z",
    "type": "completion"
   },
   {
    "code": "#CONTINUE ON YOUR OWN HERE\n## splitting strings into lists\n\nstudent_names = \"Debora,Miguel,Stacy,Xu\"\nlist_of_names = student_names.split(\",\")\nprint(list_of_names)",
    "id": "b4973d92904a45888762445ea15c7d7a",
    "idx": 23,
    "time": "2021-01-22T23:13:12.564Z",
    "type": "execution"
   },
   {
    "id": "b4973d92904a45888762445ea15c7d7a",
    "time": "2021-01-22T23:13:12.621Z",
    "type": "completion"
   },
   {
    "code": "## converting strings to numbers\n\n\"\"\"\noften when we are reading files numbers are encoded as\nstrings. To use these numbers as numbers we need to\nconvert them to floats or integers.\n\"\"\"\n\nstring_number = \"5.3\"\n\n#print(string_number + 3) # this will fail - you cannot add a string to an integer\n\n#print(int(string_number) + 3) # this will fail - 5.3 is not an integer!\n\nprint(float(string_number) + 3)\n",
    "id": "7e7d5e77d73641e7aa894846a8cd9a5d",
    "idx": 24,
    "time": "2021-01-22T23:13:16.405Z",
    "type": "execution"
   },
   {
    "id": "7e7d5e77d73641e7aa894846a8cd9a5d",
    "time": "2021-01-22T23:13:16.473Z",
    "type": "completion"
   },
   {
    "code": "#####SECRET CODE - make sure to run this cell, but you don't need to understand it...yet#####\n\"\"\"\nIn this block I am activating a new function to print out dictionaries \nin a pretty fashion - it's not part of the lesson\n\"\"\"\nimport json\n\ndef dprint(d):\n    print(json.dumps(d,\n                     sort_keys=True,\n                     indent=4))\n\n",
    "id": "a3afdccab214498b82c8e1854231a3e1",
    "idx": 25,
    "time": "2021-01-22T23:14:18.765Z",
    "type": "execution"
   },
   {
    "id": "a3afdccab214498b82c8e1854231a3e1",
    "time": "2021-01-22T23:14:18.822Z",
    "type": "completion"
   },
   {
    "code": "#1.5 Containers - Dictionaries\n\n\"\"\"\nDictionaries hold key:value pairs\n\nin some languages these are called \"hash tables\"\n\n*** NOTE I HAVE DEFINED A FUNCTION CALLED dprint above which \nallows us to print pretty dictionaries that are easier to look at\nthe print() function works just fine too - we will learn more about\nfunctions at a later date so you can ignore that code for now***\n\n\"\"\"\n\n#dictionaries can store a mixture of different \"types\", also known as keys \n#all keys have to be of the same type, either string or int, but the values can be a mixture of types\n\nstudent_info_dict = {\"student_ID\": 120120, \n                     \"first_name\": \"Jane\",\n                     \"last_name\": \"dough\"} \n\n##note here also that you can continue writing on the next line\n\ndprint(student_info_dict)\nprint(student_info_dict[\"student_ID\"]) ##extract the value associated with the key 'student_ID'\n\nstudent_info_dict[\"grade\"] = \"A+\" ##add an extra key - 'grade'\ndprint(student_info_dict)",
    "id": "b6c3ec0937ff453e842f4b69eed95288",
    "idx": 26,
    "time": "2021-01-22T23:15:43.728Z",
    "type": "execution"
   },
   {
    "id": "b6c3ec0937ff453e842f4b69eed95288",
    "time": "2021-01-22T23:15:43.784Z",
    "type": "completion"
   },
   {
    "code": "## combining lists and dictionaries\n\ns1 = {\"student_ID\": 120120, \n      \"first_name\": \"Jane\",\n      \"last_name\": \"dough\"}\n\ns2 = {\"student_ID\": 2, \n      \"first_name\": \"Jake\",\n      \"last_name\": \"Dunn\"}\n\ns3 = {\"student_ID\": 3, \n      \"first_name\": \"Mary\",\n      \"last_name\": \"Claire\"}\n\nstudents = [s1,s2,s3]\n\ndprint(students)\n",
    "id": "94d2346b5bb04ff39232bc3a824e72e0",
    "idx": 27,
    "time": "2021-01-22T23:18:04.910Z",
    "type": "execution"
   },
   {
    "id": "94d2346b5bb04ff39232bc3a824e72e0",
    "time": "2021-01-22T23:18:04.967Z",
    "type": "completion"
   },
   {
    "code": "## dictionaries of dictionaries\n\ns1 = {\"student_ID\": 120120, \n      \"first_name\": \"Jane\",\n      \"last_name\": \"dough\"}\n\ns2 = {\"student_ID\": 2, \n      \"first_name\": \"Jake\",\n      \"last_name\": \"Dunn\"}\n\ns3 = {\"student_ID\": 3, \n      \"first_name\": \"Mary\",\n      \"last_name\": \"Claire\"}\n\nstudents_by_id = {\"student1\":s1,    ##assigns dictionaries to keys\n                  \"student2\":s2,\n                  \"student3\":s3}\n\ndprint(students_by_id)",
    "id": "86dd5444046c4bf589500dbc1a989196",
    "idx": 28,
    "time": "2021-01-22T23:18:59.696Z",
    "type": "execution"
   },
   {
    "id": "86dd5444046c4bf589500dbc1a989196",
    "time": "2021-01-22T23:18:59.753Z",
    "type": "completion"
   },
   {
    "code": "## dictionaries of dictionaries\n\"\"\"\ndictionaries are very useful ways to store data\n\"\"\"\ndprint(students_by_id['student3'])",
    "id": "2db40e9f0c4e4dfc8ec021b54444ffc2",
    "idx": 29,
    "time": "2021-01-22T23:20:10.983Z",
    "type": "execution"
   },
   {
    "id": "2db40e9f0c4e4dfc8ec021b54444ffc2",
    "time": "2021-01-22T23:20:11.059Z",
    "type": "completion"
   }
  ],
  "kernelspec": {
   "display_name": "Python 3",
   "language": "python",
   "name": "python3"
  },
  "language_info": {
   "codemirror_mode": {
    "name": "ipython",
    "version": 3
   },
   "file_extension": ".py",
   "mimetype": "text/x-python",
   "name": "python",
   "nbconvert_exporter": "python",
   "pygments_lexer": "ipython3",
   "version": "3.8.3"
  }
 },
 "nbformat": 4,
 "nbformat_minor": 4
}
