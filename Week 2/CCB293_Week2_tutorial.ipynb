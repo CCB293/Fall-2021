{
  "nbformat": 4,
  "nbformat_minor": 0,
  "metadata": {
    "colab": {
      "name": "CCB293_Week2_tutorial.ipynb",
      "provenance": [],
      "collapsed_sections": []
    },
    "kernelspec": {
      "display_name": "Python 3",
      "language": "python",
      "name": "python3"
    },
    "language_info": {
      "codemirror_mode": {
        "name": "ipython",
        "version": 3
      },
      "file_extension": ".py",
      "mimetype": "text/x-python",
      "name": "python",
      "nbconvert_exporter": "python",
      "pygments_lexer": "ipython3",
      "version": "3.8.3"
    }
  },
  "cells": [
    {
      "cell_type": "code",
      "metadata": {
        "id": "F5b-fuLk7lBo"
      },
      "source": [
        "# REPLACE with your individual\n",
        "my_individual = 'HG01149'"
      ],
      "execution_count": 1,
      "outputs": []
    },
    {
      "cell_type": "markdown",
      "metadata": {
        "id": "3fiJYnPtHOlI"
      },
      "source": [
        "## Installing requirements"
      ]
    },
    {
      "cell_type": "markdown",
      "metadata": {
        "id": "k7BUkK6AcXln"
      },
      "source": [
        "Connect to github and load the necessary data and tools"
      ]
    },
    {
      "cell_type": "code",
      "metadata": {
        "colab": {
          "base_uri": "https://localhost:8080/"
        },
        "id": "7OoO64kwB9nK",
        "outputId": "c4526a0d-4415-4166-e872-8e3d62add00c"
      },
      "source": [
        "# %%capture\n",
        "!export LD_LIBARY_PATH=/usr/lib/x86_64-linux-gnu:$LD_LIBRARY_PATH\n",
        "!apt install libgsl-dev\n",
        "!ln -s /usr/lib/x86_64-linux-gnu/libgsl.so /usr/lib/x86_64-linux-gnu/libgsl.so.0\n",
        "!git clone https://github.com/CCB293/Fall-2021 \n",
        "!chmod +x Fall-2021/bin/smartpca\n",
        "!chmod +x Fall-2021/bin/admixture\n",
        "!cd Fall-2021/data/1000G && unzip 1000G.geno.zip"
      ],
      "execution_count": 2,
      "outputs": [
        {
          "output_type": "stream",
          "name": "stdout",
          "text": [
            "Reading package lists... Done\n",
            "Building dependency tree       \n",
            "Reading state information... Done\n",
            "The following package was automatically installed and is no longer required:\n",
            "  libnvidia-common-460\n",
            "Use 'apt autoremove' to remove it.\n",
            "The following additional packages will be installed:\n",
            "  libgsl23 libgslcblas0\n",
            "Suggested packages:\n",
            "  gsl-ref-psdoc | gsl-doc-pdf | gsl-doc-info | gsl-ref-html\n",
            "The following NEW packages will be installed:\n",
            "  libgsl-dev libgsl23 libgslcblas0\n",
            "0 upgraded, 3 newly installed, 0 to remove and 40 not upgraded.\n",
            "Need to get 1,926 kB of archives.\n",
            "After this operation, 9,474 kB of additional disk space will be used.\n",
            "Get:1 http://archive.ubuntu.com/ubuntu bionic/universe amd64 libgslcblas0 amd64 2.4+dfsg-6 [79.7 kB]\n",
            "Get:2 http://archive.ubuntu.com/ubuntu bionic/universe amd64 libgsl23 amd64 2.4+dfsg-6 [823 kB]\n",
            "Get:3 http://archive.ubuntu.com/ubuntu bionic/universe amd64 libgsl-dev amd64 2.4+dfsg-6 [1,023 kB]\n",
            "Fetched 1,926 kB in 2s (1,274 kB/s)\n",
            "Selecting previously unselected package libgslcblas0:amd64.\n",
            "(Reading database ... 148489 files and directories currently installed.)\n",
            "Preparing to unpack .../libgslcblas0_2.4+dfsg-6_amd64.deb ...\n",
            "Unpacking libgslcblas0:amd64 (2.4+dfsg-6) ...\n",
            "Selecting previously unselected package libgsl23:amd64.\n",
            "Preparing to unpack .../libgsl23_2.4+dfsg-6_amd64.deb ...\n",
            "Unpacking libgsl23:amd64 (2.4+dfsg-6) ...\n",
            "Selecting previously unselected package libgsl-dev.\n",
            "Preparing to unpack .../libgsl-dev_2.4+dfsg-6_amd64.deb ...\n",
            "Unpacking libgsl-dev (2.4+dfsg-6) ...\n",
            "Setting up libgslcblas0:amd64 (2.4+dfsg-6) ...\n",
            "Setting up libgsl23:amd64 (2.4+dfsg-6) ...\n",
            "Setting up libgsl-dev (2.4+dfsg-6) ...\n",
            "Processing triggers for man-db (2.8.3-2ubuntu0.1) ...\n",
            "Processing triggers for libc-bin (2.27-3ubuntu1.2) ...\n",
            "/sbin/ldconfig.real: /usr/local/lib/python3.7/dist-packages/ideep4py/lib/libmkldnn.so.0 is not a symbolic link\n",
            "\n",
            "Cloning into 'Fall-2021'...\n",
            "remote: Enumerating objects: 337, done.\u001b[K\n",
            "remote: Counting objects: 100% (337/337), done.\u001b[K\n",
            "remote: Compressing objects: 100% (324/324), done.\u001b[K\n",
            "remote: Total 337 (delta 160), reused 10 (delta 3), pack-reused 0\u001b[K\n",
            "Receiving objects: 100% (337/337), 30.72 MiB | 8.63 MiB/s, done.\n",
            "Resolving deltas: 100% (160/160), done.\n",
            "Archive:  1000G.geno.zip\n",
            "  inflating: 1000G.geno              \n"
          ]
        }
      ]
    },
    {
      "cell_type": "code",
      "metadata": {
        "id": "J9v4RA4IPEGW"
      },
      "source": [
        "# SKIP\n",
        "#%%capture\n",
        "#!wget ftp://ftp.1000genomes.ebi.ac.uk/vol1/ftp/release/20130502/supporting/accessible_genome_masks/StrictMask/20140520.chr17.strict_mask.fasta.gz -O 20140520.chr17.strict_mask.fasta.gz\n",
        "#!wget http://hgdownload.cse.ucsc.edu/goldenpath/hg19/bigZips/chromFaMasked.tar.gz\n",
        "#!tar xzvf chromFaMasked.tar.gz\n",
        "#!wget http://web.corral.tacc.utexas.edu/WGSAdownload/resources/human_ancestor_GRCh37_e71/homo_sapiens_ancestor_17.fa.gz\n",
        "#!wget ftp://ftp.1000genomes.ebi.ac.uk/vol1/ftp/release/20130502/integrated_call_samples_v3.20130502.ALL.panel\n",
        "#!apt install autoconf autogen\n",
        "#!git clone https://github.com/vcftools/vcftools.git\n",
        "#!cd vcftools && ./autogen.sh && ./configure && make && make install\n",
        "#!git clone https://github.com/samtools/htslib.git\n",
        "#!cd htslib && autoheader && autoconf && ./configure && make && make install\n",
        "#!wget ftp://ftp.1000genomes.ebi.ac.uk/vol1/ftp/release/20130502/ALL.chr17.phase3_shapeit2_mvncall_integrated_v5a.20130502.genotypes.vcf.gz\n",
        "#!wget ftp://ftp.1000genomes.ebi.ac.uk/vol1/ftp/release/20130502/ALL.chr17.phase3_shapeit2_mvncall_integrated_v5a.20130502.genotypes.vcf.gz.tbi\n",
        "#!gunzip homo_sapiens_ancestor_17.fa.gz"
      ],
      "execution_count": null,
      "outputs": []
    },
    {
      "cell_type": "code",
      "metadata": {
        "id": "wuDs7KIdHqB6"
      },
      "source": [
        "# load the libraries\n",
        "import matplotlib.pyplot as plt\n",
        "from collections import Counter\n",
        "import numpy as np\n",
        "import pandas as pd\n",
        "import colorsys\n",
        "import seaborn as sns\n",
        "from IPython.display import Image\n",
        "import os"
      ],
      "execution_count": 3,
      "outputs": []
    },
    {
      "cell_type": "code",
      "metadata": {
        "id": "Io8WDoS3MPpH"
      },
      "source": [
        "# define plotting functions\n",
        "\n",
        "def plot_pcs(pcs, I, J, labels, indivs=None):\n",
        "    PCI = 'PC{}'.format(I)\n",
        "    PCJ = 'PC{}'.format(J)\n",
        "    plt.figure(figsize=(10,10))\n",
        "    #colors = [colorsys.hsv_to_rgb(h,0.9,0.7) for h in np.linspace(0,1,len(np.unique(labels))+1)[:-1]]\n",
        "    #colors = ['#acc2d9', '#653700', '#b2996e', '#a8ff04', 'xkcd:orange', '#894585',\n",
        "    #          '#70b23f', '#d4ffff', '#65ab7c', '#952e8f', '#fcfc81', '#a5a391',\n",
        "    #          '#388004', '#4c9085', '#5e9b8a', '#efb435', '#d99b82', '#0a5f38',\n",
        "    #          '#0c06f7', '#61de2a', '#3778bf', '#2242c7', '#533cc6', '#9bb53c',\n",
        "    #          '#05ffa6', '#1f6357', '#017374', '#0cb577']\n",
        "\n",
        "    colors = [\n",
        "        \"#7e1e9c\", \"#15b01a\", \"#0343df\", \"#ff81c0\",\"#653700\",\"#e50000\",\"#029386\",\n",
        "        \"#f97306\", \"#96f97b\", \"#c20078\", \"#ffff14\", \"#95d0fc\", \"#929591\",\n",
        "        \"#9a0eea\",\n",
        "        \"#033500\",\n",
        "        \"#00035b\",\n",
        "        \"#06c2ac\",\n",
        "        \"#d1b26f\",\n",
        "        \"#00ffff\",\n",
        "        \"#650021\",\n",
        "        \"#ffb07c\",\n",
        "        \"#ff796c\",\n",
        "        \"#36013f\",\n",
        "        \"#c65102\",\n",
        "        \"#000000\",\n",
        "        \"#c1f80a\",\n",
        "        \"#4b5d16\",\n",
        "        \"#0652ff\"\n",
        "    ]\n",
        "    \n",
        "\n",
        "    print(len(np.unique(labels)))\n",
        "    for i, p in enumerate(np.unique(labels)):\n",
        "        pcs_p = pcs[labels==p]\n",
        "        plt.scatter(pcs_p[PCI], pcs_p[PCJ], label=p, color=colors[i])\n",
        "    plt.legend(loc=(1.04,0))\n",
        "    if indivs is not None:\n",
        "        for individual in indivs:\n",
        "            pcs_i = pcs[pcs.Sample==individual]\n",
        "            plt.annotate(individual, [pcs_i[PCI], pcs_i[PCJ]])\n",
        "            plt.plot(pcs_i[PCI], pcs_i[PCJ], 'o', color='black')\n",
        "    plt.xlabel(PCI)\n",
        "    plt.ylabel(PCJ);\n",
        "\n",
        "\n",
        "def plot_admixture(admixture, population_indices, population_labels):\n",
        "    plot = plt\n",
        "\n",
        "    N,K = admixture.shape\n",
        "    colors = [colorsys.hsv_to_rgb(h,0.9,0.7) for h in np.linspace(0,1,K+1)[:-1]]\n",
        "    text_color = 'k'\n",
        "    bg_color = 'w'\n",
        "    fontsize = 24\n",
        "\n",
        "    figure = plot.figure(figsize=(5,3))\n",
        "\n",
        "    xmin = 0.13\n",
        "    ymin = 0.2\n",
        "    height = 1.2#0.6\n",
        "    width = 1.5#0.74\n",
        "    indiv_width = width/N\n",
        "    subplot = figure.add_axes([xmin,ymin,width,height])\n",
        "    [spine.set_linewidth(0.001) for spine in subplot.spines.values()]\n",
        "\n",
        "    for k in np.arange(K):\n",
        "        if k:\n",
        "            bottoms = admixture[:,:k].sum(1)\n",
        "        else:\n",
        "            bottoms = np.zeros((N,),dtype=float)\n",
        "\n",
        "        lefts = np.arange(N)*indiv_width\n",
        "        subplot.bar(lefts, admixture[:,k], width=indiv_width, bottom=bottoms, facecolor=colors[k], edgecolor=colors[k], linewidth=0.4)\n",
        "\n",
        "        subplot.axis([0, N*indiv_width, 0, 1])\n",
        "        subplot.tick_params(axis='both', top=False, right=False, left=False, bottom=False)\n",
        "        xtick_labels = tuple(map(str,['']*N))\n",
        "        subplot.set_xticklabels(xtick_labels)\n",
        "        ytick_labels = tuple(map(str,['']*K))\n",
        "        subplot.set_yticklabels(ytick_labels)\n",
        "\n",
        "    for p,popname in enumerate(population_labels):\n",
        "        indices = np.where(population_indices==p)[0]\n",
        "        if indices.size>0:\n",
        "            vline_pos = (indices.max()+1)*indiv_width \n",
        "            subplot.axvline(vline_pos, linestyle='-', linewidth=0.2, c='#888888')\n",
        "            label_position = (xmin+(2*indices.min()+indices.size)*0.5*indiv_width, ymin-0.01)\n",
        "            figure.text(label_position[0], label_position[1], popname, fontsize=12, color='k', \\\n",
        "                horizontalalignment='right', verticalalignment='top', rotation=70)\n",
        "\n",
        "    return figure\n",
        "\n",
        "def plot_admix_individual(admix, individual):\n",
        "    K = admix.shape[1]\n",
        "    colors = [colorsys.hsv_to_rgb(h,0.9,0.7) for h in np.linspace(0,1,K+1)[:-1]]\n",
        "    plt.pie(admix[individuals.individual==individual][0], colors=colors)\n",
        "    plt.title(individual);\n",
        "\n",
        "def plot_window_assignment(window_assignment):\n",
        "    plt.scatter(np.arange(len(window_assignment)), window_assignment, s=8)\n",
        "    plt.xlabel('window')\n",
        "    plt.yticks([0,1], ['Human', 'Archaic'])"
      ],
      "execution_count": 4,
      "outputs": []
    },
    {
      "cell_type": "markdown",
      "metadata": {
        "id": "iBpVEyp7TmPJ"
      },
      "source": [
        "## Exploring the data"
      ]
    },
    {
      "cell_type": "code",
      "metadata": {
        "colab": {
          "base_uri": "https://localhost:8080/"
        },
        "id": "BzaSNde0YLPb",
        "outputId": "e78462b1-93b6-441c-ebff-8e23648ce3ad"
      },
      "source": [
        "# set current directory\n",
        "%cd Fall-2021/data/1000G/"
      ],
      "execution_count": 5,
      "outputs": [
        {
          "output_type": "stream",
          "name": "stdout",
          "text": [
            "/content/Fall-2021/data/1000G\n"
          ]
        }
      ]
    },
    {
      "cell_type": "markdown",
      "metadata": {
        "id": "kBv0jkUEcXlp"
      },
      "source": [
        "Read the individual file. For more information about file formats, refer to: https://reich.hms.harvard.edu/software/InputFileFormats \n"
      ]
    },
    {
      "cell_type": "code",
      "metadata": {
        "id": "xdZlhytqZBrx"
      },
      "source": [
        "individuals = pd.read_csv('1000G.ind', delim_whitespace=True, header=None, names=['individual', 'sex', 'population'])"
      ],
      "execution_count": 6,
      "outputs": []
    },
    {
      "cell_type": "markdown",
      "metadata": {
        "id": "8yB3DMGucXlq"
      },
      "source": [
        "#### 1000 Genomes Populations and 3 letter codes. \n",
        "For reference, see population_info.csv"
      ]
    },
    {
      "cell_type": "code",
      "metadata": {
        "colab": {
          "base_uri": "https://localhost:8080/"
        },
        "id": "6GYcQn5axpaz",
        "outputId": "276b74d3-6a8a-47f2-ceb7-d3c57cb5040a"
      },
      "source": [
        "%%writefile population_info.csv\n",
        "population,description,super_population\n",
        "CHB,Han Chinese in Beijing China,EAS\n",
        "JPT,Japanese in Tokyo - Japan,EAS\n",
        "CHS,Southern Han Chinese,EAS\n",
        "CDX,Chinese Dai in Xishuangbanna - China,EAS\n",
        "KHV,Kinh in Ho Chi Minh City - Vietnam,EAS\n",
        "CEU,Utah Residents (CEPH) with Northern and Western European Ancestry,EUR\n",
        "TSI,Toscani in Italia,EUR\n",
        "FIN,Finnish in Finland,EUR\n",
        "GBR,British in England and Scotland,EUR\n",
        "IBS,Iberian Population in Spain,EUR\n",
        "YRI,Yoruba in Ibadan - Nigeria,AFR\n",
        "LWK,Luhya in Webuye - Kenya,AFR\n",
        "GWD,Gambian in Western Divisions in the Gambia,AFR\n",
        "MSL,Mende in Sierra Leone,AFR\n",
        "ESN,Esan in Nigeria,AFR\n",
        "ASW,Americans of African Ancestry in SW USA,AFR\n",
        "ACB,African Caribbeans in Barbados,AFR\n",
        "MXL,Mexican Ancestry from Los Angeles USA,AMR\n",
        "PUR,Puerto Ricans from Puerto Rico,AMR\n",
        "CLM,Colombians from Medellin - Colombia,AMR\n",
        "PEL,Peruvians from Lima - Peru,AMR\n",
        "GIH,Gujarati Indian from Houston - Texas,SAS\n",
        "PJL,Punjabi from Lahore - Pakistan,SAS\n",
        "BEB,Bengali from Bangladesh,SAS\n",
        "STU,Sri Lankan Tamil from the UK,SAS\n",
        "ITU,Indian Telugu from the UK,SAS"
      ],
      "execution_count": 7,
      "outputs": [
        {
          "output_type": "stream",
          "name": "stdout",
          "text": [
            "Writing population_info.csv\n"
          ]
        }
      ]
    },
    {
      "cell_type": "markdown",
      "metadata": {
        "id": "I27ARMD-cXlq"
      },
      "source": [
        "Display population labels\n"
      ]
    },
    {
      "cell_type": "code",
      "metadata": {
        "colab": {
          "base_uri": "https://localhost:8080/",
          "height": 855
        },
        "id": "90wGDaovxyvx",
        "outputId": "3707a302-ecd8-4068-cbaa-534a850379ef"
      },
      "source": [
        "population_info = pd.read_csv('population_info.csv')\n",
        "population_info"
      ],
      "execution_count": 8,
      "outputs": [
        {
          "output_type": "execute_result",
          "data": {
            "text/html": [
              "<div>\n",
              "<style scoped>\n",
              "    .dataframe tbody tr th:only-of-type {\n",
              "        vertical-align: middle;\n",
              "    }\n",
              "\n",
              "    .dataframe tbody tr th {\n",
              "        vertical-align: top;\n",
              "    }\n",
              "\n",
              "    .dataframe thead th {\n",
              "        text-align: right;\n",
              "    }\n",
              "</style>\n",
              "<table border=\"1\" class=\"dataframe\">\n",
              "  <thead>\n",
              "    <tr style=\"text-align: right;\">\n",
              "      <th></th>\n",
              "      <th>population</th>\n",
              "      <th>description</th>\n",
              "      <th>super_population</th>\n",
              "    </tr>\n",
              "  </thead>\n",
              "  <tbody>\n",
              "    <tr>\n",
              "      <th>0</th>\n",
              "      <td>CHB</td>\n",
              "      <td>Han Chinese in Beijing China</td>\n",
              "      <td>EAS</td>\n",
              "    </tr>\n",
              "    <tr>\n",
              "      <th>1</th>\n",
              "      <td>JPT</td>\n",
              "      <td>Japanese in Tokyo - Japan</td>\n",
              "      <td>EAS</td>\n",
              "    </tr>\n",
              "    <tr>\n",
              "      <th>2</th>\n",
              "      <td>CHS</td>\n",
              "      <td>Southern Han Chinese</td>\n",
              "      <td>EAS</td>\n",
              "    </tr>\n",
              "    <tr>\n",
              "      <th>3</th>\n",
              "      <td>CDX</td>\n",
              "      <td>Chinese Dai in Xishuangbanna - China</td>\n",
              "      <td>EAS</td>\n",
              "    </tr>\n",
              "    <tr>\n",
              "      <th>4</th>\n",
              "      <td>KHV</td>\n",
              "      <td>Kinh in Ho Chi Minh City - Vietnam</td>\n",
              "      <td>EAS</td>\n",
              "    </tr>\n",
              "    <tr>\n",
              "      <th>5</th>\n",
              "      <td>CEU</td>\n",
              "      <td>Utah Residents (CEPH) with Northern and Wester...</td>\n",
              "      <td>EUR</td>\n",
              "    </tr>\n",
              "    <tr>\n",
              "      <th>6</th>\n",
              "      <td>TSI</td>\n",
              "      <td>Toscani in Italia</td>\n",
              "      <td>EUR</td>\n",
              "    </tr>\n",
              "    <tr>\n",
              "      <th>7</th>\n",
              "      <td>FIN</td>\n",
              "      <td>Finnish in Finland</td>\n",
              "      <td>EUR</td>\n",
              "    </tr>\n",
              "    <tr>\n",
              "      <th>8</th>\n",
              "      <td>GBR</td>\n",
              "      <td>British in England and Scotland</td>\n",
              "      <td>EUR</td>\n",
              "    </tr>\n",
              "    <tr>\n",
              "      <th>9</th>\n",
              "      <td>IBS</td>\n",
              "      <td>Iberian Population in Spain</td>\n",
              "      <td>EUR</td>\n",
              "    </tr>\n",
              "    <tr>\n",
              "      <th>10</th>\n",
              "      <td>YRI</td>\n",
              "      <td>Yoruba in Ibadan - Nigeria</td>\n",
              "      <td>AFR</td>\n",
              "    </tr>\n",
              "    <tr>\n",
              "      <th>11</th>\n",
              "      <td>LWK</td>\n",
              "      <td>Luhya in Webuye - Kenya</td>\n",
              "      <td>AFR</td>\n",
              "    </tr>\n",
              "    <tr>\n",
              "      <th>12</th>\n",
              "      <td>GWD</td>\n",
              "      <td>Gambian in Western Divisions in the Gambia</td>\n",
              "      <td>AFR</td>\n",
              "    </tr>\n",
              "    <tr>\n",
              "      <th>13</th>\n",
              "      <td>MSL</td>\n",
              "      <td>Mende in Sierra Leone</td>\n",
              "      <td>AFR</td>\n",
              "    </tr>\n",
              "    <tr>\n",
              "      <th>14</th>\n",
              "      <td>ESN</td>\n",
              "      <td>Esan in Nigeria</td>\n",
              "      <td>AFR</td>\n",
              "    </tr>\n",
              "    <tr>\n",
              "      <th>15</th>\n",
              "      <td>ASW</td>\n",
              "      <td>Americans of African Ancestry in SW USA</td>\n",
              "      <td>AFR</td>\n",
              "    </tr>\n",
              "    <tr>\n",
              "      <th>16</th>\n",
              "      <td>ACB</td>\n",
              "      <td>African Caribbeans in Barbados</td>\n",
              "      <td>AFR</td>\n",
              "    </tr>\n",
              "    <tr>\n",
              "      <th>17</th>\n",
              "      <td>MXL</td>\n",
              "      <td>Mexican Ancestry from Los Angeles USA</td>\n",
              "      <td>AMR</td>\n",
              "    </tr>\n",
              "    <tr>\n",
              "      <th>18</th>\n",
              "      <td>PUR</td>\n",
              "      <td>Puerto Ricans from Puerto Rico</td>\n",
              "      <td>AMR</td>\n",
              "    </tr>\n",
              "    <tr>\n",
              "      <th>19</th>\n",
              "      <td>CLM</td>\n",
              "      <td>Colombians from Medellin - Colombia</td>\n",
              "      <td>AMR</td>\n",
              "    </tr>\n",
              "    <tr>\n",
              "      <th>20</th>\n",
              "      <td>PEL</td>\n",
              "      <td>Peruvians from Lima - Peru</td>\n",
              "      <td>AMR</td>\n",
              "    </tr>\n",
              "    <tr>\n",
              "      <th>21</th>\n",
              "      <td>GIH</td>\n",
              "      <td>Gujarati Indian from Houston - Texas</td>\n",
              "      <td>SAS</td>\n",
              "    </tr>\n",
              "    <tr>\n",
              "      <th>22</th>\n",
              "      <td>PJL</td>\n",
              "      <td>Punjabi from Lahore - Pakistan</td>\n",
              "      <td>SAS</td>\n",
              "    </tr>\n",
              "    <tr>\n",
              "      <th>23</th>\n",
              "      <td>BEB</td>\n",
              "      <td>Bengali from Bangladesh</td>\n",
              "      <td>SAS</td>\n",
              "    </tr>\n",
              "    <tr>\n",
              "      <th>24</th>\n",
              "      <td>STU</td>\n",
              "      <td>Sri Lankan Tamil from the UK</td>\n",
              "      <td>SAS</td>\n",
              "    </tr>\n",
              "    <tr>\n",
              "      <th>25</th>\n",
              "      <td>ITU</td>\n",
              "      <td>Indian Telugu from the UK</td>\n",
              "      <td>SAS</td>\n",
              "    </tr>\n",
              "  </tbody>\n",
              "</table>\n",
              "</div>"
            ],
            "text/plain": [
              "   population  ... super_population\n",
              "0         CHB  ...              EAS\n",
              "1         JPT  ...              EAS\n",
              "2         CHS  ...              EAS\n",
              "3         CDX  ...              EAS\n",
              "4         KHV  ...              EAS\n",
              "5         CEU  ...              EUR\n",
              "6         TSI  ...              EUR\n",
              "7         FIN  ...              EUR\n",
              "8         GBR  ...              EUR\n",
              "9         IBS  ...              EUR\n",
              "10        YRI  ...              AFR\n",
              "11        LWK  ...              AFR\n",
              "12        GWD  ...              AFR\n",
              "13        MSL  ...              AFR\n",
              "14        ESN  ...              AFR\n",
              "15        ASW  ...              AFR\n",
              "16        ACB  ...              AFR\n",
              "17        MXL  ...              AMR\n",
              "18        PUR  ...              AMR\n",
              "19        CLM  ...              AMR\n",
              "20        PEL  ...              AMR\n",
              "21        GIH  ...              SAS\n",
              "22        PJL  ...              SAS\n",
              "23        BEB  ...              SAS\n",
              "24        STU  ...              SAS\n",
              "25        ITU  ...              SAS\n",
              "\n",
              "[26 rows x 3 columns]"
            ]
          },
          "metadata": {},
          "execution_count": 8
        }
      ]
    },
    {
      "cell_type": "markdown",
      "metadata": {
        "id": "pMOBE0dLcXlq"
      },
      "source": [
        "**1000 Genomes superpopulations:** <br>\n",
        "&emsp;&emsp;AFR = Africa<br>\n",
        "&emsp;&emsp;EUR = Europe<br>\n",
        "&emsp;&emsp;SAS = South Asia<br>\n",
        "&emsp;&emsp;EAS = East Asia<br>\n",
        "&emsp;&emsp;AMR = Americas<br>"
      ]
    },
    {
      "cell_type": "code",
      "metadata": {
        "id": "LD01RVRXcXlr"
      },
      "source": [
        "individuals = individuals.merge(population_info, on='population', how='left')"
      ],
      "execution_count": 9,
      "outputs": []
    },
    {
      "cell_type": "code",
      "metadata": {
        "id": "muGCmSsdyIsn"
      },
      "source": [
        "individuals.population = individuals.population.astype('category')\n",
        "individuals.super_population = pd.Categorical(\n",
        "    individuals.super_population, \n",
        "    categories=['AFR', 'EUR', 'SAS', 'EAS', 'AMR'],\n",
        "    ordered=True)"
      ],
      "execution_count": 10,
      "outputs": []
    },
    {
      "cell_type": "code",
      "metadata": {
        "id": "TbZLNt-ftSEq"
      },
      "source": [
        "# sort individuals by population\n",
        "individuals = individuals.sort_values(['super_population', 'population'])"
      ],
      "execution_count": 11,
      "outputs": []
    },
    {
      "cell_type": "code",
      "metadata": {
        "colab": {
          "base_uri": "https://localhost:8080/",
          "height": 204
        },
        "id": "pueNJL9IikLR",
        "outputId": "5ff195ec-440c-443f-b63f-b927403d0833"
      },
      "source": [
        "individuals.tail()"
      ],
      "execution_count": 12,
      "outputs": [
        {
          "output_type": "execute_result",
          "data": {
            "text/html": [
              "<div>\n",
              "<style scoped>\n",
              "    .dataframe tbody tr th:only-of-type {\n",
              "        vertical-align: middle;\n",
              "    }\n",
              "\n",
              "    .dataframe tbody tr th {\n",
              "        vertical-align: top;\n",
              "    }\n",
              "\n",
              "    .dataframe thead th {\n",
              "        text-align: right;\n",
              "    }\n",
              "</style>\n",
              "<table border=\"1\" class=\"dataframe\">\n",
              "  <thead>\n",
              "    <tr style=\"text-align: right;\">\n",
              "      <th></th>\n",
              "      <th>individual</th>\n",
              "      <th>sex</th>\n",
              "      <th>population</th>\n",
              "      <th>description</th>\n",
              "      <th>super_population</th>\n",
              "    </tr>\n",
              "  </thead>\n",
              "  <tbody>\n",
              "    <tr>\n",
              "      <th>466</th>\n",
              "      <td>HG01403</td>\n",
              "      <td>f</td>\n",
              "      <td>PUR</td>\n",
              "      <td>Puerto Ricans from Puerto Rico</td>\n",
              "      <td>AMR</td>\n",
              "    </tr>\n",
              "    <tr>\n",
              "      <th>467</th>\n",
              "      <td>HG01405</td>\n",
              "      <td>m</td>\n",
              "      <td>PUR</td>\n",
              "      <td>Puerto Ricans from Puerto Rico</td>\n",
              "      <td>AMR</td>\n",
              "    </tr>\n",
              "    <tr>\n",
              "      <th>468</th>\n",
              "      <td>HG01412</td>\n",
              "      <td>m</td>\n",
              "      <td>PUR</td>\n",
              "      <td>Puerto Ricans from Puerto Rico</td>\n",
              "      <td>AMR</td>\n",
              "    </tr>\n",
              "    <tr>\n",
              "      <th>469</th>\n",
              "      <td>HG01413</td>\n",
              "      <td>m</td>\n",
              "      <td>PUR</td>\n",
              "      <td>Puerto Ricans from Puerto Rico</td>\n",
              "      <td>AMR</td>\n",
              "    </tr>\n",
              "    <tr>\n",
              "      <th>470</th>\n",
              "      <td>HG01414</td>\n",
              "      <td>f</td>\n",
              "      <td>PUR</td>\n",
              "      <td>Puerto Ricans from Puerto Rico</td>\n",
              "      <td>AMR</td>\n",
              "    </tr>\n",
              "  </tbody>\n",
              "</table>\n",
              "</div>"
            ],
            "text/plain": [
              "    individual sex population                     description super_population\n",
              "466    HG01403   f        PUR  Puerto Ricans from Puerto Rico              AMR\n",
              "467    HG01405   m        PUR  Puerto Ricans from Puerto Rico              AMR\n",
              "468    HG01412   m        PUR  Puerto Ricans from Puerto Rico              AMR\n",
              "469    HG01413   m        PUR  Puerto Ricans from Puerto Rico              AMR\n",
              "470    HG01414   f        PUR  Puerto Ricans from Puerto Rico              AMR"
            ]
          },
          "metadata": {},
          "execution_count": 12
        }
      ]
    },
    {
      "cell_type": "markdown",
      "metadata": {
        "id": "lGIhyam7cXlr"
      },
      "source": [
        "### Stop! Check your understanding\n",
        "1. How many individuals are there in this dataset?\n",
        "2. How many populations are there in this dataset?\n",
        "3. How many males are in this dataset?"
      ]
    },
    {
      "cell_type": "code",
      "metadata": {
        "id": "wIuPtWYpcXls"
      },
      "source": [
        ""
      ],
      "execution_count": null,
      "outputs": []
    },
    {
      "cell_type": "code",
      "metadata": {
        "id": "3E7fXJIMcXls"
      },
      "source": [
        ""
      ],
      "execution_count": null,
      "outputs": []
    },
    {
      "cell_type": "code",
      "metadata": {
        "id": "3BcD_bPYtaBW"
      },
      "source": [
        "# order individual indexes\n",
        "order = individuals.index"
      ],
      "execution_count": 13,
      "outputs": []
    },
    {
      "cell_type": "code",
      "metadata": {
        "id": "xEScE5wG7fJY"
      },
      "source": [
        "# Set my_individual's continental group\n",
        "my_individual_index = np.where(individuals.individual==my_individual)[0][0]\n",
        "my_continental_group = individuals.iloc[my_individual_index].super_population"
      ],
      "execution_count": 14,
      "outputs": []
    },
    {
      "cell_type": "markdown",
      "metadata": {
        "id": "kn4olNXccXls"
      },
      "source": [
        "### Working with genetic data - converting from VCF to eigen\n",
        "Here is an example of a VCF file. Each row records a variant, and columns record information about a variant, as well as the genotype of every individual.<br>More VCF documentation: https://samtools.github.io/hts-specs/VCFv4.2.pdf"
      ]
    },
    {
      "cell_type": "code",
      "metadata": {
        "colab": {
          "base_uri": "https://localhost:8080/"
        },
        "id": "gRj83oskcXls",
        "outputId": "7bbb252d-8e1b-44c7-d159-a4a50caa423c"
      },
      "source": [
        "vcf = pd.read_csv(\"ALL.chr.phase3_shapeit2_mvncall_integrated_v5a.20130502.genotypes.subset_head1000.vcf\", \n",
        "                  skiprows=254, \n",
        "                  header=0, sep=\"\\t\")\n",
        "vcf.head()"
      ],
      "execution_count": null,
      "outputs": [
        {
          "output_type": "stream",
          "name": "stdout",
          "text": [
            "[]\n"
          ]
        }
      ]
    },
    {
      "cell_type": "markdown",
      "metadata": {
        "id": "TrGGjRWycXls"
      },
      "source": [
        "To use various genomic tools in this tutorial, we need the data to be in eigen format. Below is the command for this data conversion.<br>\n",
        "-v : name of vcf file (can be .gz or not)<br>\n",
        "-o : output prefix"
      ]
    },
    {
      "cell_type": "code",
      "metadata": {
        "colab": {
          "base_uri": "https://localhost:8080/"
        },
        "id": "4_16kG3rcXlt",
        "outputId": "f6599d9e-8c28-405c-aad0-37c5bb4b5036"
      },
      "source": [
        "##conversion command\n",
        "# !python ../../bin/vcf2eigenstrat.py -v ALL.chr.phase3_shapeit2_mvncall_integrated_v5a.20130502.genotypes.subset.vcf \\\n",
        "#-o 1000G_test\n"
      ],
      "execution_count": null,
      "outputs": [
        {
          "output_type": "stream",
          "name": "stdout",
          "text": [
            "  File \"../../bin/vcf2eigenstrat.py\", line 22\n",
            "    print opts, args\n",
            "             ^\n",
            "SyntaxError: Missing parentheses in call to 'print'. Did you mean print(opts, args)?\n"
          ]
        }
      ]
    },
    {
      "cell_type": "markdown",
      "metadata": {
        "id": "ene34QFAcXlt"
      },
      "source": [
        "To make things easier, we have already done the conversion for you. Now let's load the data and take a look at it."
      ]
    },
    {
      "cell_type": "code",
      "metadata": {
        "colab": {
          "base_uri": "https://localhost:8080/",
          "height": 221
        },
        "id": "Bc2FdZTmF0pc",
        "outputId": "48b628c5-b98f-418c-d934-cbe54f5b3c57"
      },
      "source": [
        "snps = pd.read_csv('1000G.snp', delim_whitespace=True, header=None, names=['id', 'chr', 'recomb. rate', 'position', 'allele 1', 'allele 2'])\n",
        "print(snps.shape)\n",
        "snps.head()"
      ],
      "execution_count": 15,
      "outputs": [
        {
          "output_type": "stream",
          "name": "stdout",
          "text": [
            "(19998, 6)\n"
          ]
        },
        {
          "output_type": "execute_result",
          "data": {
            "text/html": [
              "<div>\n",
              "<style scoped>\n",
              "    .dataframe tbody tr th:only-of-type {\n",
              "        vertical-align: middle;\n",
              "    }\n",
              "\n",
              "    .dataframe tbody tr th {\n",
              "        vertical-align: top;\n",
              "    }\n",
              "\n",
              "    .dataframe thead th {\n",
              "        text-align: right;\n",
              "    }\n",
              "</style>\n",
              "<table border=\"1\" class=\"dataframe\">\n",
              "  <thead>\n",
              "    <tr style=\"text-align: right;\">\n",
              "      <th></th>\n",
              "      <th>id</th>\n",
              "      <th>chr</th>\n",
              "      <th>recomb. rate</th>\n",
              "      <th>position</th>\n",
              "      <th>allele 1</th>\n",
              "      <th>allele 2</th>\n",
              "    </tr>\n",
              "  </thead>\n",
              "  <tbody>\n",
              "    <tr>\n",
              "      <th>0</th>\n",
              "      <td>rs4970443</td>\n",
              "      <td>1</td>\n",
              "      <td>0.000000</td>\n",
              "      <td>1316887</td>\n",
              "      <td>G</td>\n",
              "      <td>A</td>\n",
              "    </tr>\n",
              "    <tr>\n",
              "      <th>1</th>\n",
              "      <td>rs61776606</td>\n",
              "      <td>1</td>\n",
              "      <td>0.000001</td>\n",
              "      <td>2086497</td>\n",
              "      <td>G</td>\n",
              "      <td>A</td>\n",
              "    </tr>\n",
              "    <tr>\n",
              "      <th>2</th>\n",
              "      <td>rs2036084</td>\n",
              "      <td>1</td>\n",
              "      <td>0.000002</td>\n",
              "      <td>2269881</td>\n",
              "      <td>A</td>\n",
              "      <td>G</td>\n",
              "    </tr>\n",
              "    <tr>\n",
              "      <th>3</th>\n",
              "      <td>rs10910061</td>\n",
              "      <td>1</td>\n",
              "      <td>0.000002</td>\n",
              "      <td>2303512</td>\n",
              "      <td>G</td>\n",
              "      <td>A</td>\n",
              "    </tr>\n",
              "    <tr>\n",
              "      <th>4</th>\n",
              "      <td>rs3791182</td>\n",
              "      <td>1</td>\n",
              "      <td>0.000007</td>\n",
              "      <td>2448188</td>\n",
              "      <td>A</td>\n",
              "      <td>G</td>\n",
              "    </tr>\n",
              "  </tbody>\n",
              "</table>\n",
              "</div>"
            ],
            "text/plain": [
              "           id  chr  recomb. rate  position allele 1 allele 2\n",
              "0   rs4970443    1      0.000000   1316887        G        A\n",
              "1  rs61776606    1      0.000001   2086497        G        A\n",
              "2   rs2036084    1      0.000002   2269881        A        G\n",
              "3  rs10910061    1      0.000002   2303512        G        A\n",
              "4   rs3791182    1      0.000007   2448188        A        G"
            ]
          },
          "metadata": {},
          "execution_count": 15
        }
      ]
    },
    {
      "cell_type": "code",
      "metadata": {
        "colab": {
          "base_uri": "https://localhost:8080/",
          "height": 270
        },
        "id": "bUrJwelIWZWc",
        "outputId": "040704b1-a89a-43fd-d309-3c2b866c089d"
      },
      "source": [
        "genotypes = pd.read_fwf('1000G.geno', widths=np.ones(2506, dtype=int).tolist(), header=None)\n",
        "print(genotypes.shape)\n",
        "genotypes.head()"
      ],
      "execution_count": 17,
      "outputs": [
        {
          "output_type": "stream",
          "name": "stdout",
          "text": [
            "(19998, 2506)\n"
          ]
        },
        {
          "output_type": "execute_result",
          "data": {
            "text/html": [
              "<div>\n",
              "<style scoped>\n",
              "    .dataframe tbody tr th:only-of-type {\n",
              "        vertical-align: middle;\n",
              "    }\n",
              "\n",
              "    .dataframe tbody tr th {\n",
              "        vertical-align: top;\n",
              "    }\n",
              "\n",
              "    .dataframe thead th {\n",
              "        text-align: right;\n",
              "    }\n",
              "</style>\n",
              "<table border=\"1\" class=\"dataframe\">\n",
              "  <thead>\n",
              "    <tr style=\"text-align: right;\">\n",
              "      <th></th>\n",
              "      <th>0</th>\n",
              "      <th>1</th>\n",
              "      <th>2</th>\n",
              "      <th>3</th>\n",
              "      <th>4</th>\n",
              "      <th>5</th>\n",
              "      <th>6</th>\n",
              "      <th>7</th>\n",
              "      <th>8</th>\n",
              "      <th>9</th>\n",
              "      <th>10</th>\n",
              "      <th>11</th>\n",
              "      <th>12</th>\n",
              "      <th>13</th>\n",
              "      <th>14</th>\n",
              "      <th>15</th>\n",
              "      <th>16</th>\n",
              "      <th>17</th>\n",
              "      <th>18</th>\n",
              "      <th>19</th>\n",
              "      <th>20</th>\n",
              "      <th>21</th>\n",
              "      <th>22</th>\n",
              "      <th>23</th>\n",
              "      <th>24</th>\n",
              "      <th>25</th>\n",
              "      <th>26</th>\n",
              "      <th>27</th>\n",
              "      <th>28</th>\n",
              "      <th>29</th>\n",
              "      <th>30</th>\n",
              "      <th>31</th>\n",
              "      <th>32</th>\n",
              "      <th>33</th>\n",
              "      <th>34</th>\n",
              "      <th>35</th>\n",
              "      <th>36</th>\n",
              "      <th>37</th>\n",
              "      <th>38</th>\n",
              "      <th>39</th>\n",
              "      <th>...</th>\n",
              "      <th>2466</th>\n",
              "      <th>2467</th>\n",
              "      <th>2468</th>\n",
              "      <th>2469</th>\n",
              "      <th>2470</th>\n",
              "      <th>2471</th>\n",
              "      <th>2472</th>\n",
              "      <th>2473</th>\n",
              "      <th>2474</th>\n",
              "      <th>2475</th>\n",
              "      <th>2476</th>\n",
              "      <th>2477</th>\n",
              "      <th>2478</th>\n",
              "      <th>2479</th>\n",
              "      <th>2480</th>\n",
              "      <th>2481</th>\n",
              "      <th>2482</th>\n",
              "      <th>2483</th>\n",
              "      <th>2484</th>\n",
              "      <th>2485</th>\n",
              "      <th>2486</th>\n",
              "      <th>2487</th>\n",
              "      <th>2488</th>\n",
              "      <th>2489</th>\n",
              "      <th>2490</th>\n",
              "      <th>2491</th>\n",
              "      <th>2492</th>\n",
              "      <th>2493</th>\n",
              "      <th>2494</th>\n",
              "      <th>2495</th>\n",
              "      <th>2496</th>\n",
              "      <th>2497</th>\n",
              "      <th>2498</th>\n",
              "      <th>2499</th>\n",
              "      <th>2500</th>\n",
              "      <th>2501</th>\n",
              "      <th>2502</th>\n",
              "      <th>2503</th>\n",
              "      <th>2504</th>\n",
              "      <th>2505</th>\n",
              "    </tr>\n",
              "  </thead>\n",
              "  <tbody>\n",
              "    <tr>\n",
              "      <th>0</th>\n",
              "      <td>2</td>\n",
              "      <td>2</td>\n",
              "      <td>2</td>\n",
              "      <td>2</td>\n",
              "      <td>2</td>\n",
              "      <td>2</td>\n",
              "      <td>1</td>\n",
              "      <td>2</td>\n",
              "      <td>2</td>\n",
              "      <td>1</td>\n",
              "      <td>2</td>\n",
              "      <td>2</td>\n",
              "      <td>2</td>\n",
              "      <td>2</td>\n",
              "      <td>2</td>\n",
              "      <td>2</td>\n",
              "      <td>2</td>\n",
              "      <td>2</td>\n",
              "      <td>2</td>\n",
              "      <td>2</td>\n",
              "      <td>2</td>\n",
              "      <td>2</td>\n",
              "      <td>2</td>\n",
              "      <td>2</td>\n",
              "      <td>2</td>\n",
              "      <td>2</td>\n",
              "      <td>2</td>\n",
              "      <td>2</td>\n",
              "      <td>2</td>\n",
              "      <td>2</td>\n",
              "      <td>2</td>\n",
              "      <td>2</td>\n",
              "      <td>2</td>\n",
              "      <td>2</td>\n",
              "      <td>2</td>\n",
              "      <td>2</td>\n",
              "      <td>2</td>\n",
              "      <td>2</td>\n",
              "      <td>2</td>\n",
              "      <td>2</td>\n",
              "      <td>...</td>\n",
              "      <td>1</td>\n",
              "      <td>2</td>\n",
              "      <td>2</td>\n",
              "      <td>2</td>\n",
              "      <td>2</td>\n",
              "      <td>1</td>\n",
              "      <td>2</td>\n",
              "      <td>2</td>\n",
              "      <td>2</td>\n",
              "      <td>2</td>\n",
              "      <td>2</td>\n",
              "      <td>2</td>\n",
              "      <td>2</td>\n",
              "      <td>2</td>\n",
              "      <td>2</td>\n",
              "      <td>2</td>\n",
              "      <td>2</td>\n",
              "      <td>2</td>\n",
              "      <td>2</td>\n",
              "      <td>2</td>\n",
              "      <td>2</td>\n",
              "      <td>2</td>\n",
              "      <td>2</td>\n",
              "      <td>2</td>\n",
              "      <td>2</td>\n",
              "      <td>2</td>\n",
              "      <td>2</td>\n",
              "      <td>1</td>\n",
              "      <td>2</td>\n",
              "      <td>2</td>\n",
              "      <td>2</td>\n",
              "      <td>1</td>\n",
              "      <td>2</td>\n",
              "      <td>2</td>\n",
              "      <td>2</td>\n",
              "      <td>2</td>\n",
              "      <td>2</td>\n",
              "      <td>2</td>\n",
              "      <td>NaN</td>\n",
              "      <td>NaN</td>\n",
              "    </tr>\n",
              "    <tr>\n",
              "      <th>1</th>\n",
              "      <td>2</td>\n",
              "      <td>2</td>\n",
              "      <td>2</td>\n",
              "      <td>2</td>\n",
              "      <td>2</td>\n",
              "      <td>2</td>\n",
              "      <td>2</td>\n",
              "      <td>2</td>\n",
              "      <td>2</td>\n",
              "      <td>2</td>\n",
              "      <td>1</td>\n",
              "      <td>2</td>\n",
              "      <td>2</td>\n",
              "      <td>2</td>\n",
              "      <td>2</td>\n",
              "      <td>2</td>\n",
              "      <td>2</td>\n",
              "      <td>2</td>\n",
              "      <td>2</td>\n",
              "      <td>2</td>\n",
              "      <td>2</td>\n",
              "      <td>2</td>\n",
              "      <td>2</td>\n",
              "      <td>2</td>\n",
              "      <td>2</td>\n",
              "      <td>2</td>\n",
              "      <td>2</td>\n",
              "      <td>2</td>\n",
              "      <td>2</td>\n",
              "      <td>2</td>\n",
              "      <td>2</td>\n",
              "      <td>2</td>\n",
              "      <td>2</td>\n",
              "      <td>2</td>\n",
              "      <td>2</td>\n",
              "      <td>2</td>\n",
              "      <td>2</td>\n",
              "      <td>2</td>\n",
              "      <td>2</td>\n",
              "      <td>1</td>\n",
              "      <td>...</td>\n",
              "      <td>2</td>\n",
              "      <td>2</td>\n",
              "      <td>2</td>\n",
              "      <td>2</td>\n",
              "      <td>2</td>\n",
              "      <td>2</td>\n",
              "      <td>2</td>\n",
              "      <td>2</td>\n",
              "      <td>2</td>\n",
              "      <td>2</td>\n",
              "      <td>2</td>\n",
              "      <td>2</td>\n",
              "      <td>2</td>\n",
              "      <td>2</td>\n",
              "      <td>2</td>\n",
              "      <td>2</td>\n",
              "      <td>2</td>\n",
              "      <td>2</td>\n",
              "      <td>1</td>\n",
              "      <td>2</td>\n",
              "      <td>2</td>\n",
              "      <td>2</td>\n",
              "      <td>2</td>\n",
              "      <td>2</td>\n",
              "      <td>2</td>\n",
              "      <td>2</td>\n",
              "      <td>2</td>\n",
              "      <td>2</td>\n",
              "      <td>2</td>\n",
              "      <td>2</td>\n",
              "      <td>2</td>\n",
              "      <td>2</td>\n",
              "      <td>2</td>\n",
              "      <td>2</td>\n",
              "      <td>2</td>\n",
              "      <td>2</td>\n",
              "      <td>2</td>\n",
              "      <td>2</td>\n",
              "      <td>NaN</td>\n",
              "      <td>NaN</td>\n",
              "    </tr>\n",
              "    <tr>\n",
              "      <th>2</th>\n",
              "      <td>2</td>\n",
              "      <td>1</td>\n",
              "      <td>1</td>\n",
              "      <td>2</td>\n",
              "      <td>2</td>\n",
              "      <td>2</td>\n",
              "      <td>2</td>\n",
              "      <td>2</td>\n",
              "      <td>1</td>\n",
              "      <td>1</td>\n",
              "      <td>1</td>\n",
              "      <td>2</td>\n",
              "      <td>2</td>\n",
              "      <td>2</td>\n",
              "      <td>1</td>\n",
              "      <td>2</td>\n",
              "      <td>2</td>\n",
              "      <td>2</td>\n",
              "      <td>2</td>\n",
              "      <td>1</td>\n",
              "      <td>1</td>\n",
              "      <td>2</td>\n",
              "      <td>2</td>\n",
              "      <td>2</td>\n",
              "      <td>0</td>\n",
              "      <td>1</td>\n",
              "      <td>2</td>\n",
              "      <td>1</td>\n",
              "      <td>2</td>\n",
              "      <td>2</td>\n",
              "      <td>1</td>\n",
              "      <td>2</td>\n",
              "      <td>1</td>\n",
              "      <td>1</td>\n",
              "      <td>1</td>\n",
              "      <td>2</td>\n",
              "      <td>2</td>\n",
              "      <td>2</td>\n",
              "      <td>2</td>\n",
              "      <td>2</td>\n",
              "      <td>...</td>\n",
              "      <td>2</td>\n",
              "      <td>2</td>\n",
              "      <td>2</td>\n",
              "      <td>2</td>\n",
              "      <td>2</td>\n",
              "      <td>1</td>\n",
              "      <td>2</td>\n",
              "      <td>2</td>\n",
              "      <td>2</td>\n",
              "      <td>2</td>\n",
              "      <td>2</td>\n",
              "      <td>2</td>\n",
              "      <td>2</td>\n",
              "      <td>1</td>\n",
              "      <td>2</td>\n",
              "      <td>2</td>\n",
              "      <td>2</td>\n",
              "      <td>2</td>\n",
              "      <td>1</td>\n",
              "      <td>2</td>\n",
              "      <td>2</td>\n",
              "      <td>1</td>\n",
              "      <td>2</td>\n",
              "      <td>2</td>\n",
              "      <td>2</td>\n",
              "      <td>2</td>\n",
              "      <td>2</td>\n",
              "      <td>2</td>\n",
              "      <td>1</td>\n",
              "      <td>2</td>\n",
              "      <td>2</td>\n",
              "      <td>1</td>\n",
              "      <td>2</td>\n",
              "      <td>2</td>\n",
              "      <td>2</td>\n",
              "      <td>2</td>\n",
              "      <td>2</td>\n",
              "      <td>2</td>\n",
              "      <td>NaN</td>\n",
              "      <td>NaN</td>\n",
              "    </tr>\n",
              "    <tr>\n",
              "      <th>3</th>\n",
              "      <td>2</td>\n",
              "      <td>2</td>\n",
              "      <td>2</td>\n",
              "      <td>2</td>\n",
              "      <td>2</td>\n",
              "      <td>2</td>\n",
              "      <td>2</td>\n",
              "      <td>2</td>\n",
              "      <td>2</td>\n",
              "      <td>2</td>\n",
              "      <td>2</td>\n",
              "      <td>2</td>\n",
              "      <td>2</td>\n",
              "      <td>2</td>\n",
              "      <td>2</td>\n",
              "      <td>2</td>\n",
              "      <td>2</td>\n",
              "      <td>2</td>\n",
              "      <td>2</td>\n",
              "      <td>2</td>\n",
              "      <td>2</td>\n",
              "      <td>2</td>\n",
              "      <td>2</td>\n",
              "      <td>2</td>\n",
              "      <td>2</td>\n",
              "      <td>2</td>\n",
              "      <td>2</td>\n",
              "      <td>2</td>\n",
              "      <td>2</td>\n",
              "      <td>1</td>\n",
              "      <td>2</td>\n",
              "      <td>2</td>\n",
              "      <td>2</td>\n",
              "      <td>2</td>\n",
              "      <td>2</td>\n",
              "      <td>2</td>\n",
              "      <td>2</td>\n",
              "      <td>2</td>\n",
              "      <td>1</td>\n",
              "      <td>2</td>\n",
              "      <td>...</td>\n",
              "      <td>2</td>\n",
              "      <td>2</td>\n",
              "      <td>2</td>\n",
              "      <td>2</td>\n",
              "      <td>2</td>\n",
              "      <td>1</td>\n",
              "      <td>2</td>\n",
              "      <td>2</td>\n",
              "      <td>2</td>\n",
              "      <td>2</td>\n",
              "      <td>2</td>\n",
              "      <td>2</td>\n",
              "      <td>2</td>\n",
              "      <td>2</td>\n",
              "      <td>2</td>\n",
              "      <td>2</td>\n",
              "      <td>2</td>\n",
              "      <td>2</td>\n",
              "      <td>2</td>\n",
              "      <td>2</td>\n",
              "      <td>2</td>\n",
              "      <td>2</td>\n",
              "      <td>2</td>\n",
              "      <td>2</td>\n",
              "      <td>2</td>\n",
              "      <td>2</td>\n",
              "      <td>2</td>\n",
              "      <td>2</td>\n",
              "      <td>2</td>\n",
              "      <td>2</td>\n",
              "      <td>2</td>\n",
              "      <td>2</td>\n",
              "      <td>2</td>\n",
              "      <td>2</td>\n",
              "      <td>2</td>\n",
              "      <td>2</td>\n",
              "      <td>2</td>\n",
              "      <td>2</td>\n",
              "      <td>NaN</td>\n",
              "      <td>NaN</td>\n",
              "    </tr>\n",
              "    <tr>\n",
              "      <th>4</th>\n",
              "      <td>1</td>\n",
              "      <td>1</td>\n",
              "      <td>1</td>\n",
              "      <td>2</td>\n",
              "      <td>2</td>\n",
              "      <td>2</td>\n",
              "      <td>2</td>\n",
              "      <td>1</td>\n",
              "      <td>2</td>\n",
              "      <td>2</td>\n",
              "      <td>2</td>\n",
              "      <td>1</td>\n",
              "      <td>1</td>\n",
              "      <td>2</td>\n",
              "      <td>2</td>\n",
              "      <td>2</td>\n",
              "      <td>2</td>\n",
              "      <td>2</td>\n",
              "      <td>2</td>\n",
              "      <td>2</td>\n",
              "      <td>1</td>\n",
              "      <td>1</td>\n",
              "      <td>0</td>\n",
              "      <td>1</td>\n",
              "      <td>1</td>\n",
              "      <td>2</td>\n",
              "      <td>2</td>\n",
              "      <td>1</td>\n",
              "      <td>2</td>\n",
              "      <td>2</td>\n",
              "      <td>1</td>\n",
              "      <td>2</td>\n",
              "      <td>1</td>\n",
              "      <td>1</td>\n",
              "      <td>2</td>\n",
              "      <td>1</td>\n",
              "      <td>1</td>\n",
              "      <td>2</td>\n",
              "      <td>2</td>\n",
              "      <td>2</td>\n",
              "      <td>...</td>\n",
              "      <td>2</td>\n",
              "      <td>0</td>\n",
              "      <td>1</td>\n",
              "      <td>2</td>\n",
              "      <td>1</td>\n",
              "      <td>2</td>\n",
              "      <td>1</td>\n",
              "      <td>1</td>\n",
              "      <td>1</td>\n",
              "      <td>1</td>\n",
              "      <td>1</td>\n",
              "      <td>1</td>\n",
              "      <td>1</td>\n",
              "      <td>1</td>\n",
              "      <td>1</td>\n",
              "      <td>2</td>\n",
              "      <td>1</td>\n",
              "      <td>0</td>\n",
              "      <td>2</td>\n",
              "      <td>2</td>\n",
              "      <td>1</td>\n",
              "      <td>1</td>\n",
              "      <td>0</td>\n",
              "      <td>1</td>\n",
              "      <td>1</td>\n",
              "      <td>1</td>\n",
              "      <td>0</td>\n",
              "      <td>1</td>\n",
              "      <td>1</td>\n",
              "      <td>1</td>\n",
              "      <td>2</td>\n",
              "      <td>1</td>\n",
              "      <td>0</td>\n",
              "      <td>2</td>\n",
              "      <td>1</td>\n",
              "      <td>0</td>\n",
              "      <td>0</td>\n",
              "      <td>2</td>\n",
              "      <td>NaN</td>\n",
              "      <td>NaN</td>\n",
              "    </tr>\n",
              "  </tbody>\n",
              "</table>\n",
              "<p>5 rows × 2506 columns</p>\n",
              "</div>"
            ],
            "text/plain": [
              "   0     1     2     3     4     5     ...  2500  2501  2502  2503  2504  2505\n",
              "0     2     2     2     2     2     2  ...     2     2     2     2   NaN   NaN\n",
              "1     2     2     2     2     2     2  ...     2     2     2     2   NaN   NaN\n",
              "2     2     1     1     2     2     2  ...     2     2     2     2   NaN   NaN\n",
              "3     2     2     2     2     2     2  ...     2     2     2     2   NaN   NaN\n",
              "4     1     1     1     2     2     2  ...     1     0     0     2   NaN   NaN\n",
              "\n",
              "[5 rows x 2506 columns]"
            ]
          },
          "metadata": {},
          "execution_count": 17
        }
      ]
    },
    {
      "cell_type": "markdown",
      "metadata": {
        "id": "c5dz6CWKcXlt"
      },
      "source": [
        "### Stop! Check your understanding\n",
        "1. How many SNPs are in this dataset?\n",
        "2. What is the highest local recombination rate in this dataset?"
      ]
    },
    {
      "cell_type": "code",
      "metadata": {
        "id": "F0iiRNrlcXlu"
      },
      "source": [
        ""
      ],
      "execution_count": null,
      "outputs": []
    },
    {
      "cell_type": "code",
      "metadata": {
        "id": "T2W28HktcXlu"
      },
      "source": [
        ""
      ],
      "execution_count": null,
      "outputs": []
    },
    {
      "cell_type": "markdown",
      "metadata": {
        "id": "uCzNkBdw20-Y"
      },
      "source": [
        "# Principal Component Analysis (PCA)\n",
        "\n",
        "Patterson, Nick, Alkes L. Price, and David Reich. \"Population structure and eigenanalysis.\" PLoS genetics 2.12 (2006): e190.\n",
        "\n",
        "https://journals.plos.org/plosgenetics/article?id=10.1371/journal.pgen.0020190\n",
        "\n",
        "Software documentation: https://github.com/DReichLab/EIG/tree/master/POPGEN\n",
        "\n",
        "Usage: `!../../bin/smartpca -p 1000G.smartpca.par`"
      ]
    },
    {
      "cell_type": "markdown",
      "metadata": {
        "id": "AyoEL9NXcXlu"
      },
      "source": [
        "Parameter file (1000G_archaic.smartpca.par)"
      ]
    },
    {
      "cell_type": "code",
      "metadata": {
        "colab": {
          "base_uri": "https://localhost:8080/"
        },
        "id": "Hvk0eGDpjIFu",
        "outputId": "bc78ebab-86c0-4aec-becf-7fe1161e2091"
      },
      "source": [
        "%%writefile 1000G.smartpca.par\n",
        "genotypename: 1000G.geno     # file with genotype information\n",
        "snpname:      1000G.snp      # file with snp information\n",
        "indivname:    1000G.ind      # file with individual information   \n",
        "#poplistname:  1000G.pop.list # list of pops to include in the run.\n",
        "outliermode: 2\n",
        "evecoutname:  1000G.evec     # output file of eigenvectors.\n",
        "evaloutname:  1000G.eval     # output file of all eigenvalues\n",
        "snpweightoutname: 1000G.Weightout.txt\n",
        "phylipname:   1000G.phyl     # file with Fst values across populations \n",
        "numoutevec:   20               # number of PCs to output \n",
        "numthreads:   1                # if running interactively, use 1 only"
      ],
      "execution_count": 18,
      "outputs": [
        {
          "output_type": "stream",
          "name": "stdout",
          "text": [
            "Writing 1000G.smartpca.par\n"
          ]
        }
      ]
    },
    {
      "cell_type": "markdown",
      "metadata": {
        "id": "sXCGvyGhcXlu"
      },
      "source": [
        "#### Run smartpca "
      ]
    },
    {
      "cell_type": "code",
      "metadata": {
        "id": "hGLPZ1x4B4QM",
        "scrolled": true
      },
      "source": [
        "!../../bin/smartpca -p 1000G.smartpca.par"
      ],
      "execution_count": null,
      "outputs": []
    },
    {
      "cell_type": "markdown",
      "metadata": {
        "id": "P8pQcFeGcXlv"
      },
      "source": [
        "Display results - evec file. File contains loadings for each individual on the 20 PCs. <br>https://github.com/DReichLab/EIG/tree/master/POPGEN"
      ]
    },
    {
      "cell_type": "code",
      "metadata": {
        "colab": {
          "base_uri": "https://localhost:8080/",
          "height": 394
        },
        "id": "LZKn94v_HcWd",
        "scrolled": true,
        "outputId": "5a779875-1de1-4130-f814-c7146502fc80"
      },
      "source": [
        "n_pcs = 20\n",
        "pcs = pd.read_csv('1000G.evec', skiprows=1, header=None, delim_whitespace=True,\n",
        "                       names=['Sample']+['PC'+str(i+1) for i in range(n_pcs)]+['population'])\n",
        "pcs = pcs.merge(population_info, on='population', how='left').fillna('Archaic')\n",
        "pcs.head()"
      ],
      "execution_count": 20,
      "outputs": [
        {
          "output_type": "execute_result",
          "data": {
            "text/html": [
              "<div>\n",
              "<style scoped>\n",
              "    .dataframe tbody tr th:only-of-type {\n",
              "        vertical-align: middle;\n",
              "    }\n",
              "\n",
              "    .dataframe tbody tr th {\n",
              "        vertical-align: top;\n",
              "    }\n",
              "\n",
              "    .dataframe thead th {\n",
              "        text-align: right;\n",
              "    }\n",
              "</style>\n",
              "<table border=\"1\" class=\"dataframe\">\n",
              "  <thead>\n",
              "    <tr style=\"text-align: right;\">\n",
              "      <th></th>\n",
              "      <th>Sample</th>\n",
              "      <th>PC1</th>\n",
              "      <th>PC2</th>\n",
              "      <th>PC3</th>\n",
              "      <th>PC4</th>\n",
              "      <th>PC5</th>\n",
              "      <th>PC6</th>\n",
              "      <th>PC7</th>\n",
              "      <th>PC8</th>\n",
              "      <th>PC9</th>\n",
              "      <th>PC10</th>\n",
              "      <th>PC11</th>\n",
              "      <th>PC12</th>\n",
              "      <th>PC13</th>\n",
              "      <th>PC14</th>\n",
              "      <th>PC15</th>\n",
              "      <th>PC16</th>\n",
              "      <th>PC17</th>\n",
              "      <th>PC18</th>\n",
              "      <th>PC19</th>\n",
              "      <th>PC20</th>\n",
              "      <th>population</th>\n",
              "      <th>description</th>\n",
              "      <th>super_population</th>\n",
              "    </tr>\n",
              "  </thead>\n",
              "  <tbody>\n",
              "    <tr>\n",
              "      <th>0</th>\n",
              "      <td>HG00096</td>\n",
              "      <td>0.0115</td>\n",
              "      <td>0.0260</td>\n",
              "      <td>-0.0134</td>\n",
              "      <td>-0.0175</td>\n",
              "      <td>0.0030</td>\n",
              "      <td>0.0008</td>\n",
              "      <td>-0.0013</td>\n",
              "      <td>-0.0119</td>\n",
              "      <td>-0.0060</td>\n",
              "      <td>-0.0085</td>\n",
              "      <td>-0.0080</td>\n",
              "      <td>-0.0026</td>\n",
              "      <td>0.0109</td>\n",
              "      <td>0.0010</td>\n",
              "      <td>-0.0006</td>\n",
              "      <td>-0.0079</td>\n",
              "      <td>0.0058</td>\n",
              "      <td>0.0067</td>\n",
              "      <td>-0.0077</td>\n",
              "      <td>-0.0028</td>\n",
              "      <td>GBR</td>\n",
              "      <td>British in England and Scotland</td>\n",
              "      <td>EUR</td>\n",
              "    </tr>\n",
              "    <tr>\n",
              "      <th>1</th>\n",
              "      <td>HG00097</td>\n",
              "      <td>0.0105</td>\n",
              "      <td>0.0263</td>\n",
              "      <td>-0.0103</td>\n",
              "      <td>-0.0178</td>\n",
              "      <td>-0.0014</td>\n",
              "      <td>-0.0013</td>\n",
              "      <td>-0.0053</td>\n",
              "      <td>-0.0132</td>\n",
              "      <td>-0.0055</td>\n",
              "      <td>0.0021</td>\n",
              "      <td>-0.0003</td>\n",
              "      <td>-0.0071</td>\n",
              "      <td>-0.0024</td>\n",
              "      <td>-0.0039</td>\n",
              "      <td>0.0102</td>\n",
              "      <td>-0.0053</td>\n",
              "      <td>0.0097</td>\n",
              "      <td>0.0048</td>\n",
              "      <td>-0.0130</td>\n",
              "      <td>-0.0002</td>\n",
              "      <td>GBR</td>\n",
              "      <td>British in England and Scotland</td>\n",
              "      <td>EUR</td>\n",
              "    </tr>\n",
              "    <tr>\n",
              "      <th>2</th>\n",
              "      <td>HG00099</td>\n",
              "      <td>0.0113</td>\n",
              "      <td>0.0268</td>\n",
              "      <td>-0.0135</td>\n",
              "      <td>-0.0165</td>\n",
              "      <td>0.0023</td>\n",
              "      <td>0.0041</td>\n",
              "      <td>-0.0023</td>\n",
              "      <td>-0.0071</td>\n",
              "      <td>0.0050</td>\n",
              "      <td>-0.0002</td>\n",
              "      <td>0.0060</td>\n",
              "      <td>-0.0008</td>\n",
              "      <td>0.0105</td>\n",
              "      <td>-0.0125</td>\n",
              "      <td>0.0031</td>\n",
              "      <td>-0.0108</td>\n",
              "      <td>-0.0154</td>\n",
              "      <td>-0.0046</td>\n",
              "      <td>0.0074</td>\n",
              "      <td>-0.0050</td>\n",
              "      <td>GBR</td>\n",
              "      <td>British in England and Scotland</td>\n",
              "      <td>EUR</td>\n",
              "    </tr>\n",
              "    <tr>\n",
              "      <th>3</th>\n",
              "      <td>HG00100</td>\n",
              "      <td>0.0109</td>\n",
              "      <td>0.0255</td>\n",
              "      <td>-0.0112</td>\n",
              "      <td>-0.0187</td>\n",
              "      <td>0.0015</td>\n",
              "      <td>0.0049</td>\n",
              "      <td>-0.0026</td>\n",
              "      <td>-0.0084</td>\n",
              "      <td>-0.0030</td>\n",
              "      <td>-0.0019</td>\n",
              "      <td>-0.0116</td>\n",
              "      <td>-0.0002</td>\n",
              "      <td>0.0181</td>\n",
              "      <td>-0.0008</td>\n",
              "      <td>0.0050</td>\n",
              "      <td>-0.0129</td>\n",
              "      <td>-0.0067</td>\n",
              "      <td>0.0006</td>\n",
              "      <td>-0.0088</td>\n",
              "      <td>-0.0026</td>\n",
              "      <td>GBR</td>\n",
              "      <td>British in England and Scotland</td>\n",
              "      <td>EUR</td>\n",
              "    </tr>\n",
              "    <tr>\n",
              "      <th>4</th>\n",
              "      <td>HG00101</td>\n",
              "      <td>0.0116</td>\n",
              "      <td>0.0260</td>\n",
              "      <td>-0.0141</td>\n",
              "      <td>-0.0215</td>\n",
              "      <td>-0.0025</td>\n",
              "      <td>-0.0012</td>\n",
              "      <td>-0.0030</td>\n",
              "      <td>-0.0106</td>\n",
              "      <td>0.0023</td>\n",
              "      <td>-0.0066</td>\n",
              "      <td>0.0015</td>\n",
              "      <td>-0.0048</td>\n",
              "      <td>-0.0024</td>\n",
              "      <td>0.0107</td>\n",
              "      <td>0.0062</td>\n",
              "      <td>-0.0127</td>\n",
              "      <td>0.0047</td>\n",
              "      <td>-0.0095</td>\n",
              "      <td>-0.0022</td>\n",
              "      <td>-0.0225</td>\n",
              "      <td>GBR</td>\n",
              "      <td>British in England and Scotland</td>\n",
              "      <td>EUR</td>\n",
              "    </tr>\n",
              "  </tbody>\n",
              "</table>\n",
              "</div>"
            ],
            "text/plain": [
              "    Sample     PC1  ...                      description  super_population\n",
              "0  HG00096  0.0115  ...  British in England and Scotland               EUR\n",
              "1  HG00097  0.0105  ...  British in England and Scotland               EUR\n",
              "2  HG00099  0.0113  ...  British in England and Scotland               EUR\n",
              "3  HG00100  0.0109  ...  British in England and Scotland               EUR\n",
              "4  HG00101  0.0116  ...  British in England and Scotland               EUR\n",
              "\n",
              "[5 rows x 24 columns]"
            ]
          },
          "metadata": {},
          "execution_count": 20
        }
      ]
    },
    {
      "cell_type": "code",
      "metadata": {
        "colab": {
          "base_uri": "https://localhost:8080/",
          "height": 623
        },
        "id": "HRIkaSppamOS",
        "outputId": "b8528dcd-d822-4965-f992-d46eb4643adf"
      },
      "source": [
        "# Plot the top two PCs. Population labels = super_population\n",
        "plot_pcs(pcs, 1, 2, pcs.super_population, [my_individual])"
      ],
      "execution_count": 21,
      "outputs": [
        {
          "output_type": "stream",
          "name": "stdout",
          "text": [
            "5\n"
          ]
        },
        {
          "output_type": "display_data",
          "data": {
            "image/png": "[encoded data removed]",
            "text/plain": [
              "<Figure size 720x720 with 1 Axes>"
            ]
          },
          "metadata": {
            "needs_background": "light"
          }
        }
      ]
    },
    {
      "cell_type": "code",
      "metadata": {
        "colab": {
          "base_uri": "https://localhost:8080/",
          "height": 623
        },
        "id": "-tsPvRFRcE3K",
        "outputId": "48778931-c368-4888-aa05-5c6838570552"
      },
      "source": [
        "# Plot the top two PCs. Population labels = population\n",
        "plot_pcs(pcs, 1, 2, pcs.population, [my_individual])"
      ],
      "execution_count": 22,
      "outputs": [
        {
          "output_type": "stream",
          "name": "stdout",
          "text": [
            "26\n"
          ]
        },
        {
          "output_type": "display_data",
          "data": {
            "image/png": "[encoded data removed]",
            "text/plain": [
              "<Figure size 720x720 with 1 Axes>"
            ]
          },
          "metadata": {
            "needs_background": "light"
          }
        }
      ]
    },
    {
      "cell_type": "code",
      "metadata": {
        "colab": {
          "base_uri": "https://localhost:8080/",
          "height": 279
        },
        "id": "Yw5_lR12Xioa",
        "outputId": "1268d672-1c4c-4282-b84a-d48a0a196225"
      },
      "source": [
        "eigenvalues = np.loadtxt('1000G.eval')\n",
        "plt.plot(np.arange(1, 21), eigenvalues[:20])\n",
        "plt.xticks(np.arange(1, 21));\n",
        "plt.xlabel('eigenvalue rank')\n",
        "plt.ylabel('eigenvalue');"
      ],
      "execution_count": 23,
      "outputs": [
        {
          "output_type": "display_data",
          "data": {
            "image/png": "[encoded data removed]",
            "text/plain": [
              "<Figure size 432x288 with 1 Axes>"
            ]
          },
          "metadata": {
            "needs_background": "light"
          }
        }
      ]
    },
    {
      "cell_type": "markdown",
      "metadata": {
        "id": "TUGlnumUcXlv"
      },
      "source": [
        "%Variance explained"
      ]
    },
    {
      "cell_type": "code",
      "metadata": {
        "colab": {
          "base_uri": "https://localhost:8080/",
          "height": 279
        },
        "id": "txrbQ-b_ZMsQ",
        "outputId": "8f00931b-b7cc-4386-d9fa-4aa80f23573f"
      },
      "source": [
        "eigenvalues = np.loadtxt('1000G.eval')\n",
        "plt.plot(np.arange(1, 21), 100 * eigenvalues[:20] / eigenvalues.sum())\n",
        "plt.xticks(np.arange(1, 21));\n",
        "plt.xlabel('eigenvalue rank')\n",
        "plt.ylabel('percent variance explained');"
      ],
      "execution_count": 24,
      "outputs": [
        {
          "output_type": "display_data",
          "data": {
            "image/png": "[encoded data removed]",
            "text/plain": [
              "<Figure size 432x288 with 1 Axes>"
            ]
          },
          "metadata": {
            "needs_background": "light"
          }
        }
      ]
    },
    {
      "cell_type": "markdown",
      "metadata": {
        "id": "PfWwwxuwG8tc"
      },
      "source": [
        "## Exercise: explore your continental group"
      ]
    },
    {
      "cell_type": "markdown",
      "metadata": {
        "id": "QCaJ42y2cXlw"
      },
      "source": [
        "Write population list"
      ]
    },
    {
      "cell_type": "code",
      "metadata": {
        "id": "gaELNJT_02Yj"
      },
      "source": [
        "np.savetxt('pop.list', individuals[individuals.super_population==my_continental_group].population.unique().astype(str), fmt='%s')"
      ],
      "execution_count": null,
      "outputs": []
    },
    {
      "cell_type": "code",
      "metadata": {
        "colab": {
          "base_uri": "https://localhost:8080/"
        },
        "id": "aPk-cRrP0LJ9",
        "outputId": "54fec366-c176-4889-fb32-388cc1efb15b"
      },
      "source": [
        "%%writefile 1000G.continent.smartpca.par\n",
        "genotypename: 1000G.geno     # file with genotype information\n",
        "snpname:      1000G.snp      # file with snp information\n",
        "indivname:    1000G.ind      # file with individual information   \n",
        "poplistname:  pop.list # list of pops to include in the run.\n",
        "evecoutname:  1000G.continent.evec     # output file of eigenvectors.\n",
        "evaloutname:  1000G.continent.eval     # output file of all eigenvalues\n",
        "snpweightoutname: 1000G.continent.Weightout.txt\n",
        "phylipname:   1000G.continent.phyl     # file with Fst values across populations \n",
        "numoutevec:   10               # number of PCs to output \n",
        "numthreads:   1                # if running interactively, use 1 only\n",
        "outliermode: 2\n",
        "#outliermode should be 0, 1 or 2 \n",
        "#mode = 2  NO outlier removal \n",
        "#mode = 1  when calculating mean and standard deviation of a PC to decide whether to remove a sample the \n",
        "# sample itself is not used.   This may be important for datasets with very small sample sizes (say less than 30).  \n",
        "#mode = 0  (default) use all samples to compute PC mean and variance. "
      ],
      "execution_count": null,
      "outputs": [
        {
          "output_type": "stream",
          "name": "stdout",
          "text": [
            "Overwriting 1000G.continent.smartpca.par\n"
          ]
        }
      ]
    },
    {
      "cell_type": "markdown",
      "metadata": {
        "id": "73COTdgHcXlw"
      },
      "source": [
        "**Run smartpca**"
      ]
    },
    {
      "cell_type": "code",
      "metadata": {
        "colab": {
          "base_uri": "https://localhost:8080/"
        },
        "id": "zEbco6HJ2kfE",
        "outputId": "96b8313d-f061-4000-ca95-45c53758c304"
      },
      "source": [
        "!../../bin/smartpca -p 1000G.continent.smartpca.par"
      ],
      "execution_count": null,
      "outputs": [
        {
          "output_type": "stream",
          "name": "stdout",
          "text": [
            "parameter file: 1000G.continent.smartpca.par\n",
            "### THE INPUT PARAMETERS\n",
            "##PARAMETER NAME: VALUE\n",
            "genotypename: 1000G_archaic.geno     \n",
            "snpname: 1000G.snp      \n",
            "indivname: 1000G.ind      \n",
            "poplistname: pop.list \n",
            "evecoutname: 1000G.continent.evec     \n",
            "evaloutname: 1000G.continent.eval     \n",
            "snpweightoutname: 1000G.continent.Weightout.txt\n",
            "phylipname: 1000G.continent.phyl     \n",
            "numoutevec: 10               \n",
            "numthreads: 1                \n",
            "outliermode: 2\n",
            "## smartpca version: 16000\n",
            "norm used\n",
            "\n",
            "number of samples used: 347 number of snps used: 19998\n",
            "Using 1 thread, and partial sum lookup algorithm.\n",
            " snp          rs141842752 ignored . allelecnt:     0  missing:     0\n",
            " snp          rs144087919 ignored . allelecnt:     0  missing:     0\n",
            " snp           rs80151220 ignored . allelecnt:     0  missing:     0\n",
            " snp          rs182969387 ignored . allelecnt:     0  missing:     0\n",
            " snp          rs115254676 ignored . allelecnt:     0  missing:     0\n",
            " snp          rs138747494 ignored . allelecnt:     0  missing:     0\n",
            " snp          rs139665639 ignored . allelecnt:     0  missing:     0\n",
            " snp          rs149013753 ignored . allelecnt:     0  missing:     0\n",
            " snp           rs77176002 ignored . allelecnt:     0  missing:     0\n",
            " snp          rs150837786 ignored . allelecnt:     0  missing:     0\n",
            "total number of snps killed in pass: 882  used: 19116\n",
            "\n",
            "## Tracy-Widom statistics: rows: 347  cols: 19998\n",
            "  #N    eigenvalue  difference    twstat      p-value effect. n\n",
            "   1     12.262040          NA   344.713            0   753.066\n",
            "   2      3.662493   -8.599547   220.248            0  3427.028\n",
            "   3      2.314867   -1.347626    95.874 7.19494e-274  4313.572\n",
            "   4      2.040861   -0.274006    66.756 5.96816e-160  4585.923\n",
            "   5      1.847975   -0.192885    44.351  1.66964e-87  4768.121\n",
            "   6      1.802868   -0.045107    40.654  4.99813e-77  4890.010\n",
            "   7      1.788409   -0.014459    41.044  4.11376e-78  5005.124\n",
            "   8      1.693500   -0.094909    29.556  1.81737e-48  5124.207\n",
            "   9      1.676955   -0.016545    28.945  4.97933e-47  5215.883\n",
            "  10      1.633174   -0.043781    24.145   2.8436e-36  5307.888\n",
            "  11      1.580808   -0.052367    17.724  1.71005e-23  5389.727\n",
            "  12      1.546778   -0.034030    13.794  1.07534e-16  5457.704\n",
            "  13      1.525599   -0.021178    11.678  2.12604e-13  5517.784\n",
            "  14      1.489167   -0.036432     7.061  1.15407e-07  5574.010\n",
            "  15      1.476514   -0.012653     6.026   1.8155e-06  5621.008\n",
            "  16      1.449232   -0.027283     2.612   0.00354498  5666.383\n",
            "  17      1.443171   -0.006061     2.483   0.00448133  5705.215\n",
            "  18      1.437611   -0.005560     2.427   0.00495927  5744.185\n",
            "  19      1.431580   -0.006031     2.288   0.00634594  5783.438\n",
            "  20      1.421404   -0.010176     1.463    0.0246637  5822.807\n",
            "  21      1.417715   -0.003689     1.673    0.0177705  5860.858\n",
            "  22      1.408009   -0.009705     0.891    0.0564614  5899.729\n",
            "  23      1.389588   -0.018421    -1.367     0.531507  5937.341\n",
            "  24      1.384127   -0.005461    -1.534     0.584559  5970.607\n",
            "  25      1.379653   -0.004473    -1.543     0.587337  6003.826\n",
            "  26      1.369471   -0.010182    -2.518     0.852225  6037.322\n",
            "  27      1.357461   -0.012009    -3.833     0.988263  6069.077\n",
            "  28      1.349676   -0.007786    -4.470     0.998137  6098.373\n",
            "  29      1.346609   -0.003067    -4.319        0.997  6126.591\n",
            "  30      1.340535   -0.006074    -4.683     0.999097  6155.338\n",
            "  31      1.338136   -0.002399    -4.426     0.997858  6183.550\n",
            "  32      1.328761   -0.009375    -5.372     0.999941  6212.519\n",
            "  33      1.318889   -0.009871    -6.432            1  6239.717\n",
            "  34      1.312296   -0.006594    -6.950            1  6264.894\n",
            "  35      1.309159   -0.003137    -6.877            1  6289.166\n",
            "  36      1.300812   -0.008347    -7.720            1  6313.752\n",
            "  37      1.296108   -0.004704    -7.943            1  6336.732\n",
            "  38      1.294827   -0.001281    -7.567            1  6359.389\n",
            "  39      1.287892   -0.006936    -8.189            1  6382.981\n",
            "  40      1.283092   -0.004800    -8.447            1  6405.400\n",
            "  41      1.280984   -0.002108    -8.231            1  6427.404\n",
            "  42      1.278731   -0.002253    -8.038            1  6450.003\n",
            "  43      1.273272   -0.005459    -8.419            1  6473.158\n",
            "  44      1.270957   -0.002315    -8.243            1  6495.623\n",
            "  45      1.265845   -0.005113    -8.572            1  6518.609\n",
            "  46      1.261175   -0.004670    -8.830            1  6541.006\n",
            "  47      1.258645   -0.002530    -8.705            1  6562.962\n",
            "  48      1.254960   -0.003685    -8.791            1  6585.324\n",
            "  49      1.245674   -0.009285    -9.909            1  6607.624\n",
            "  50      1.245369   -0.000305    -9.400            1  6627.536\n",
            "  51      1.238123   -0.007246   -10.164            1  6648.698\n",
            "  52      1.234217   -0.003907   -10.327            1  6668.243\n",
            "  53      1.225984   -0.008233   -11.301            1  6687.513\n",
            "  54      1.225569   -0.000415   -10.839            1  6704.675\n",
            "  55      1.223225   -0.002344   -10.729            1  6722.952\n",
            "  56      1.221036   -0.002190   -10.589            1  6741.563\n",
            "  57      1.216129   -0.004906   -10.959            1  6760.581\n",
            "  58      1.214696   -0.001434   -10.683            1  6778.825\n",
            "  59      1.211564   -0.003132   -10.723            1  6797.795\n",
            "  60      1.206156   -0.005407   -11.198            1  6816.756\n",
            "  61      1.201842   -0.004314   -11.476            1  6834.674\n",
            "  62      1.197359   -0.004483   -11.794            1  6852.003\n",
            "  63      1.194249   -0.003110   -11.858            1  6868.642\n",
            "  64      1.188948   -0.005301   -12.345            1  6885.187\n",
            "  65      1.188643   -0.000305   -11.882            1  6900.623\n",
            "  66      1.185908   -0.002736   -11.879            1  6917.220\n",
            "  67      1.183992   -0.001916   -11.719            1  6933.881\n",
            "  68      1.175363   -0.008629   -12.858            1  6950.992\n",
            "  69      1.172382   -0.002981   -12.925            1  6965.366\n",
            "  70      1.171052   -0.001331   -12.673            1  6979.608\n",
            "  71      1.163052   -0.007999   -13.719            1  6994.501\n",
            "  72      1.160689   -0.002363   -13.685            1  7006.853\n",
            "  73      1.158733   -0.001956   -13.571            1  7019.299\n",
            "  74      1.155980   -0.002753   -13.613            1  7032.040\n",
            "  75      1.154262   -0.001718   -13.452            1  7044.690\n",
            "  76      1.150216   -0.004046   -13.749            1  7057.757\n",
            "  77      1.146917   -0.003300   -13.905            1  7070.088\n",
            "  78      1.144012   -0.002905   -13.987            1  7082.031\n",
            "  79      1.143388   -0.000624   -13.619            1  7093.768\n",
            "  80      1.141512   -0.001876   -13.493            1  7106.454\n",
            "  81      1.135211   -0.006301   -14.249            1  7119.477\n",
            "  82      1.134677   -0.000535   -13.868            1  7130.544\n",
            "  83      1.129871   -0.004806   -14.336            1  7142.599\n",
            "  84      1.129441   -0.000429   -13.936            1  7153.424\n",
            "  85      1.124886   -0.004556   -14.359            1  7165.298\n",
            "  86      1.120805   -0.004081   -14.695            1  7176.044\n",
            "  87      1.118971   -0.001833   -14.586            1  7185.882\n",
            "  88      1.117152   -0.001819   -14.472            1  7195.992\n",
            "  89      1.116615   -0.000537   -14.097            1  7206.390\n",
            "  90      1.113546   -0.003069   -14.229            1  7217.792\n",
            "  91      1.108668   -0.004878   -14.734            1  7228.820\n",
            "  92      1.105636   -0.003032   -14.872            1  7238.446\n",
            "  93      1.100306   -0.005331   -15.484            1  7247.662\n",
            "  94      1.098841   -0.001465   -15.318            1  7255.165\n",
            "  95      1.097266   -0.001575   -15.172            1  7263.079\n",
            "  96      1.096437   -0.000829   -14.871            1  7271.354\n",
            "  97      1.094252   -0.002185   -14.844            1  7280.435\n",
            "  98      1.090924   -0.003327   -15.052            1  7289.558\n",
            "  99      1.089480   -0.001444   -14.876            1  7298.051\n",
            " 100      1.084302   -0.005178   -15.470            1  7307.005\n",
            " 101      1.084014   -0.000288   -15.064            1  7314.210\n",
            " 102      1.082881   -0.001133   -14.826            1  7322.535\n",
            " 103      1.079725   -0.003156   -15.004            1  7331.512\n",
            " 104      1.078178   -0.001548   -14.852            1  7339.921\n",
            " 105      1.074784   -0.003394   -15.082            1  7348.736\n",
            " 106      1.071713   -0.003071   -15.251            1  7356.816\n",
            " 107      1.069588   -0.002125   -15.225            1  7364.338\n",
            " 108      1.067745   -0.001843   -15.141            1  7371.878\n",
            " 109      1.066648   -0.001097   -14.900            1  7379.614\n",
            " 110      1.064768   -0.001880   -14.819            1  7388.034\n",
            " 111      1.064009   -0.000759   -14.501            1  7396.651\n",
            " 112      1.060468   -0.003540   -14.764            1  7406.213\n",
            " 113      1.057415   -0.003054   -14.931            1  7414.898\n",
            " 114      1.055803   -0.001611   -14.796            1  7423.001\n",
            " 115      1.054214   -0.001590   -14.656            1  7431.473\n",
            " 116      1.051029   -0.003185   -14.851            1  7440.340\n",
            " 117      1.047261   -0.003768   -15.176            1  7448.517\n",
            " 118      1.045186   -0.002075   -15.147            1  7455.577\n",
            " 119      1.043250   -0.001936   -15.089            1  7462.657\n",
            " 120      1.041464   -0.001785   -14.999            1  7469.852\n",
            " 121      1.039791   -0.001673   -14.883            1  7477.272\n",
            " 122      1.034373   -0.005418   -15.568            1  7485.006\n",
            " 123      1.033346   -0.001028   -15.326            1  7490.374\n",
            " 124      1.031156   -0.002189   -15.329            1  7496.459\n",
            " 125      1.030818   -0.000339   -14.935            1  7502.445\n",
            " 126      1.028188   -0.002630   -15.027            1  7509.689\n",
            " 127      1.026530   -0.001658   -14.912            1  7516.533\n",
            " 128      1.023972   -0.002558   -14.990            1  7523.690\n",
            " 129      1.020913   -0.003058   -15.179            1  7530.488\n",
            " 130      1.018381   -0.002532   -15.259            1  7536.529\n",
            " 131      1.017213   -0.001168   -15.044            1  7542.192\n",
            " 132      1.014713   -0.002500   -15.116            1  7548.518\n",
            " 133      1.013180   -0.001533   -14.979            1  7554.489\n",
            " 134      1.012198   -0.000982   -14.720            1  7560.854\n",
            " 135      1.009409   -0.002789   -14.851            1  7568.071\n",
            " 136      1.008395   -0.001014   -14.597            1  7574.707\n",
            " 137      1.006074   -0.002321   -14.625            1  7582.193\n",
            " 138      1.004839   -0.001235   -14.415            1  7589.479\n",
            " 139      1.001254   -0.003585   -14.719            1  7597.464\n",
            " 140      0.996709   -0.004545   -15.242            1  7604.190\n",
            " 141      0.995585   -0.001124   -15.022            1  7608.806\n",
            " 142      0.992808   -0.002776   -15.164            1  7614.141\n",
            " 143      0.991420   -0.001388   -15.002            1  7618.806\n",
            " 144      0.987427   -0.003993   -15.414            1  7623.974\n",
            " 145      0.986514   -0.000914   -15.152            1  7627.400\n",
            " 146      0.984371   -0.002143   -15.159            1  7631.713\n",
            " 147      0.982875   -0.001496   -15.023            1  7635.861\n",
            " 148      0.980651   -0.002223   -15.046            1  7640.415\n",
            " 149      0.977581   -0.003071   -15.260            1  7644.734\n",
            " 150      0.973956   -0.003625   -15.602            1  7648.040\n",
            " 151      0.971884   -0.002072   -15.605            1  7649.798\n",
            " 152      0.970272   -0.001612   -15.507            1  7651.374\n",
            " 153      0.968748   -0.001524   -15.387            1  7653.183\n",
            " 154      0.967286   -0.001463   -15.251            1  7655.318\n",
            " 155      0.965933   -0.001352   -15.089            1  7657.851\n",
            " 156      0.965447   -0.000486   -14.729            1  7660.903\n",
            " 157      0.964588   -0.000860   -14.446            1  7665.339\n",
            " 158      0.960963   -0.003625   -14.780            1  7670.856\n",
            " 159      0.958677   -0.002285   -14.820            1  7674.749\n",
            " 160      0.956096   -0.002581   -14.929            1  7678.296\n",
            " 161      0.953709   -0.002386   -14.997            1  7681.186\n",
            " 162      0.953004   -0.000705   -14.687            1  7683.593\n",
            " 163      0.950574   -0.002430   -14.761            1  7687.215\n",
            " 164      0.947435   -0.003139   -14.998            1  7690.321\n",
            " 165      0.945672   -0.001762   -14.929            1  7692.151\n",
            " 166      0.942866   -0.002807   -15.096            1  7694.102\n",
            " 167      0.942403   -0.000462   -14.734            1  7695.075\n",
            " 168      0.941467   -0.000937   -14.473            1  7697.534\n",
            " 169      0.939555   -0.001912   -14.429            1  7701.036\n",
            " 170      0.938487   -0.001068   -14.192            1  7704.557\n",
            " 171      0.936017   -0.002469   -14.270            1  7709.038\n",
            " 172      0.933551   -0.002467   -14.351            1  7712.941\n",
            " 173      0.930505   -0.003046   -14.566            1  7716.246\n",
            " 174      0.930363   -0.000142   -14.122            1  7718.267\n",
            " 175      0.926733   -0.003630   -14.469            1  7722.307\n",
            " 176      0.925907   -0.000826   -14.180            1  7724.376\n",
            " 177      0.922395   -0.003512   -14.503            1  7727.699\n",
            " 178      0.921977   -0.000418   -14.121            1  7729.133\n",
            " 179      0.920860   -0.001117   -13.893            1  7732.316\n",
            " 180      0.918817   -0.002043   -13.874            1  7736.485\n",
            " 181      0.916138   -0.002679   -14.002            1  7740.538\n",
            " 182      0.913022   -0.003116   -14.235            1  7743.675\n",
            " 183      0.911909   -0.001113   -14.010            1  7745.311\n",
            " 184      0.909485   -0.002423   -14.084            1  7747.922\n",
            " 185      0.906189   -0.003297   -14.364            1  7749.873\n",
            " 186      0.905322   -0.000866   -14.086            1  7750.012\n",
            " 187      0.902736   -0.002586   -14.203            1  7751.426\n",
            " 188      0.901504   -0.001233   -14.007            1  7751.911\n",
            " 189      0.899576   -0.001928   -13.970            1  7753.228\n",
            " 190      0.896924   -0.002652   -14.101            1  7754.482\n",
            " 191      0.896096   -0.000828   -13.811            1  7754.686\n",
            " 192      0.894195   -0.001901   -13.764            1  7756.304\n",
            " 193      0.891115   -0.003079   -13.993            1  7757.909\n",
            " 194      0.889318   -0.001797   -13.929            1  7757.845\n",
            " 195      0.888081   -0.001237   -13.731            1  7757.860\n",
            " 196      0.886128   -0.001953   -13.698            1  7758.764\n",
            " 197      0.883443   -0.002685   -13.836            1  7759.564\n",
            " 198      0.882419   -0.001024   -13.588            1  7759.182\n",
            " 199      0.881184   -0.001236   -13.384            1  7760.030\n",
            " 200      0.880611   -0.000573   -13.020            1  7761.859\n",
            " 201      0.879783   -0.000828   -12.707            1  7765.750\n",
            " 202      0.876392   -0.003391   -12.991            1  7771.426\n",
            " 203      0.875113   -0.001279   -12.785            1  7774.895\n",
            " 204      0.873595   -0.001518   -12.630            1  7779.450\n",
            " 205      0.872673   -0.000921   -12.331            1  7784.762\n",
            " 206      0.870223   -0.002450   -12.387            1  7791.872\n",
            " 207      0.869596   -0.000628   -12.012            1  7798.293\n",
            " 208      0.865474   -0.004122   -12.459            1  7807.124\n",
            " 209      0.861671   -0.003803   -12.844            1  7812.406\n",
            " 210      0.861301   -0.000370   -12.421            1  7814.550\n",
            " 211      0.858827   -0.002474   -12.490            1  7819.435\n",
            " 212      0.856902   -0.001924   -12.430            1  7823.458\n",
            " 213      0.854788   -0.002115   -12.415            1  7827.569\n",
            " 214      0.852556   -0.002232   -12.429            1  7831.426\n",
            " 215      0.850156   -0.002400   -12.484            1  7834.801\n",
            " 216      0.849324   -0.000832   -12.165            1  7837.355\n",
            " 217      0.848120   -0.001204   -11.926            1  7842.034\n",
            " 218      0.845322   -0.002798   -12.066            1  7848.256\n",
            " 219      0.842806   -0.002517   -12.142            1  7852.958\n",
            " 220      0.841131   -0.001675   -12.019            1  7856.624\n",
            " 221      0.838534   -0.002597   -12.116            1  7860.899\n",
            " 222      0.837751   -0.000783   -11.777            1  7863.932\n",
            " 223      0.835060   -0.002691   -11.891            1  7869.429\n",
            " 224      0.831646   -0.003414   -12.186            1  7873.506\n",
            " 225      0.831348   -0.000298   -11.733            1  7874.555\n",
            " 226      0.829573   -0.001776   -11.626            1  7879.131\n",
            " 227      0.827854   -0.001718   -11.503            1  7884.215\n",
            " 228      0.826831   -0.001024   -11.207            1  7889.973\n",
            " 229      0.825984   -0.000847   -10.860            1  7898.050\n",
            " 230      0.822261   -0.003722   -11.205            1  7909.036\n",
            " 231      0.821900   -0.000361   -10.740            1  7916.248\n",
            " 232      0.819164   -0.002736   -10.843            1  7927.601\n",
            " 233      0.816358   -0.002806   -10.967            1  7937.500\n",
            " 234      0.815281   -0.001077   -10.671            1  7945.680\n",
            " 235      0.813481   -0.001800   -10.545            1  7956.437\n",
            " 236      0.810446   -0.003035   -10.719            1  7968.078\n",
            " 237      0.809871   -0.000575   -10.293            1  7977.391\n",
            " 238      0.808626   -0.001246   -10.019            1  7990.854\n",
            " 239      0.805848   -0.002778   -10.116            1  8006.948\n",
            " 240      0.803063   -0.002785   -10.220            1  8021.520\n",
            " 241      0.801885   -0.001178    -9.928            1  8034.441\n",
            " 242      0.799134   -0.002751   -10.020            1  8050.295\n",
            " 243      0.796128   -0.003006   -10.180            1  8064.597\n",
            " 244      0.794625   -0.001503    -9.970            1  8076.465\n",
            " 245      0.793005   -0.001620    -9.784            1  8090.350\n",
            " 246      0.790986   -0.002019    -9.692            1  8106.047\n",
            " 247      0.789045   -0.001940    -9.577            1  8122.415\n",
            " 248      0.786087   -0.002958    -9.716            1  8139.764\n",
            " 249      0.783235   -0.002852    -9.836            1  8154.744\n",
            " 250      0.781697   -0.001538    -9.628            1  8167.540\n",
            " 251      0.779374   -0.002323    -9.613            1  8182.537\n",
            " 252      0.775555   -0.003819    -9.978            1  8197.136\n",
            " 253      0.774367   -0.001188    -9.690            1  8205.942\n",
            " 254      0.772542   -0.001825    -9.554            1  8218.099\n",
            " 255      0.770480   -0.002062    -9.474            1  8231.529\n",
            " 256      0.769888   -0.000592    -9.016            1  8245.437\n",
            " 257      0.768508   -0.001379    -8.741            1  8265.666\n",
            " 258      0.762720   -0.005788    -9.587            1  8289.646\n",
            " 259      0.761568   -0.001152    -9.280            1  8299.499\n",
            " 260      0.760517   -0.001051    -8.935            1  8313.419\n",
            " 261      0.759476   -0.001041    -8.572            1  8332.250\n",
            " 262      0.756383   -0.003093    -8.726            1  8356.556\n",
            " 263      0.754025   -0.002358    -8.697            1  8377.509\n",
            " 264      0.749776   -0.004249    -9.160            1  8398.212\n",
            " 265      0.749212   -0.000564    -8.688            1  8409.767\n",
            " 266      0.747027   -0.002185    -8.617            1  8428.992\n",
            " 267      0.745379   -0.001649    -8.404            1  8448.680\n",
            " 268      0.744312   -0.001067    -8.030            1  8471.606\n",
            " 269      0.741898   -0.002414    -7.992            1  8501.203\n",
            " 270      0.741075   -0.000822    -7.535            1  8530.860\n",
            " 271      0.740338   -0.000737    -7.033            1  8569.555\n",
            " 272      0.736330   -0.004008    -7.371            1  8618.970\n",
            " 273      0.734328   -0.002002    -7.198            1  8660.318\n",
            " 274      0.730154   -0.004175    -7.596            1  8705.196\n",
            " 275      0.727739   -0.002414    -7.548            1  8740.018\n",
            " 276      0.725244   -0.002495    -7.522            1  8775.157\n",
            " 277      0.722271   -0.002973    -7.625            1  8810.077\n",
            " 278      0.721365   -0.000907    -7.178            1  8841.444\n",
            " 279      0.719993   -0.001372    -6.834            1  8883.500\n",
            " 280      0.717033   -0.002960    -6.901            1  8934.255\n",
            " 281      0.715213   -0.001820    -6.664            1  8982.507\n",
            " 282      0.712792   -0.002422    -6.579            1  9036.986\n",
            " 283      0.710690   -0.002102    -6.404            1  9093.469\n",
            " 284      0.708648   -0.002042    -6.203     0.999999  9154.914\n",
            " 285      0.706600   -0.002048    -5.993     0.999997  9222.497\n",
            " 286      0.703797   -0.002803    -5.981     0.999997  9296.968\n",
            " 287      0.698107   -0.005691    -6.777            1  9371.759\n",
            " 288      0.696888   -0.001219    -6.380            1  9417.739\n",
            " 289      0.693823   -0.003065    -6.476            1  9476.877\n",
            " 290      0.691996   -0.001827    -6.233     0.999999  9531.366\n",
            " 291      0.690208   -0.001787    -5.963     0.999997  9594.158\n",
            " 292      0.689525   -0.000683    -5.363     0.999939  9667.005\n",
            " 293      0.685681   -0.003845    -5.621     0.999981  9765.363\n",
            " 294      0.681943   -0.003737    -5.873     0.999995  9852.198\n",
            " 295      0.678004   -0.003939    -6.207     0.999999  9926.846\n",
            " 296      0.675848   -0.002156    -6.055     0.999998  9984.527\n",
            " 297      0.674040   -0.001808    -5.792     0.999992 10047.728\n",
            " 298      0.672737   -0.001304    -5.363     0.999939 10122.534\n",
            " 299      0.667709   -0.005028    -5.992     0.999997 10219.081\n",
            " 300      0.665709   -0.002000    -5.787     0.999992 10279.687\n",
            " 301      0.664645   -0.001064    -5.293     0.999917 10349.470\n",
            " 302      0.661297   -0.003348    -5.433     0.999955 10447.034\n",
            " 303      0.658045   -0.003253    -5.562     0.999975 10534.355\n",
            " 304      0.657121   -0.000924    -5.011     0.999734 10611.156\n",
            " 305      0.654926   -0.002195    -4.792     0.999389 10723.746\n",
            " 306      0.653274   -0.001653    -4.392     0.997609 10851.672\n",
            " 307      0.648120   -0.005154    -5.016     0.999739 11011.344\n",
            " 308      0.647103   -0.001017    -4.449     0.998009 11119.677\n",
            " 309      0.640666   -0.006437    -5.489     0.999965 11275.390\n",
            " 310      0.640058   -0.000609    -4.846       0.9995 11336.739\n",
            " 311      0.638434   -0.001623    -4.454     0.998038 11452.161\n",
            " 312      0.636477   -0.001957    -4.124     0.994645 11604.408\n",
            " 313      0.631439   -0.005038    -4.724     0.999217 11791.884\n",
            " 314      0.628584   -0.002854    -4.713     0.999188 11910.002\n",
            " 315      0.628265   -0.000320    -3.906     0.990279 12024.248\n",
            " 316      0.624515   -0.003750    -4.089      0.99409 12238.274\n",
            " 317      0.622915   -0.001600    -3.616     0.980076 12426.688\n",
            " 318      0.620275   -0.002639    -3.415     0.968876 12686.287\n",
            " 319      0.615753   -0.004522    -3.805     0.987398 12983.376\n",
            " 320      0.612887   -0.002866    -3.719     0.984407 13214.188\n",
            " 321      0.609394   -0.003494    -3.833     0.988265 13459.317\n",
            " 322      0.605395   -0.003998    -4.140     0.994878 13677.922\n",
            " 323      0.604621   -0.000774    -3.420       0.9692 13822.453\n",
            " 324      0.600892   -0.003729    -3.581     0.978401 14124.851\n",
            " 325      0.598828   -0.002064    -3.213     0.953002 14381.475\n",
            " 326      0.596422   -0.002406    -2.899     0.917258 14737.748\n",
            " 327      0.590677   -0.005745    -3.685     0.983061 15199.516\n",
            " 328      0.587745   -0.002932    -3.654     0.981783 15381.966\n",
            " 329      0.586187   -0.001559    -3.144     0.946456 15546.077\n",
            " 330      0.584141   -0.002046    -2.704     0.887111 15891.878\n",
            " 331      0.578795   -0.005346    -3.331     0.962873 16442.140\n",
            " 332      0.575182   -0.003613    -3.497     0.973914 16635.788\n",
            " 333      0.573329   -0.001853    -3.079     0.939607 16672.508\n",
            " 334      0.570716   -0.002613    -2.832     0.907537 16896.924\n",
            " 335      0.569894   -0.000821    -1.890     0.694061 17237.078\n",
            " 336      0.562348   -0.007546    -3.044     0.935582 18480.338\n",
            " 337      0.559306   -0.003042    -2.971     0.926783 18396.461\n",
            " 338      0.558727   -0.000578        NA           NA        NA\n",
            " 339      0.555822   -0.002905        NA           NA        NA\n",
            " 340      0.550538   -0.005285        NA           NA        NA\n",
            " 341      0.546364   -0.004173        NA           NA        NA\n",
            " 342      0.539998   -0.006366        NA           NA        NA\n",
            " 343      0.536689   -0.003310        NA           NA        NA\n",
            " 344      0.529421   -0.007267        NA           NA        NA\n",
            " 345      0.528082   -0.001339        NA           NA        NA\n",
            " 346      0.516103   -0.011979        NA           NA        NA\n",
            "    kurtosis           snps    indivs\n",
            " eigenvector    1     3.187     2.154\n",
            " eigenvector    2     5.869    45.354\n",
            " eigenvector    3    21.323   171.868\n",
            " eigenvector    4     8.733    47.901\n",
            " eigenvector    5    11.073    74.626\n",
            " eigenvector    6     8.617    53.520\n",
            " eigenvector    7    10.712    69.806\n",
            " eigenvector    8    13.691   100.766\n",
            " eigenvector    9    20.888   163.756\n",
            " eigenvector   10    12.672   114.276\n",
            "population:   0                  CLM   94\n",
            "population:   1                  MXL   64\n",
            "population:   2                  PEL   85\n",
            "population:   3                  PUR  104\n",
            "\n",
            "## Average divergence between populations:\n",
            "                  CLM        MXL        PEL        PUR     popsize\n",
            "       CLM      1.061      1.016      0.993      1.139          94\n",
            "       MXL      1.016      0.940      0.897      1.101          64\n",
            "       PEL      0.993      0.897      0.805      1.094          85\n",
            "       PUR      1.139      1.101      1.094      1.195         104\n",
            "\n",
            "\n",
            "number of blocks for moving block jackknife: 614\n",
            "\n",
            "fst *1000:\n",
            "          C     M     P     P \n",
            "   C      0    10    41     6\n",
            "   M     10     0    18    20\n",
            "   P     41    18     0    60\n",
            "   P      6    20    60     0\n",
            "\n",
            "s.dev * 1000000:\n",
            "          C     M     P     P \n",
            "   C      0   252   697   161\n",
            "   M    252     0   403   404\n",
            "   P    697   403     0   955\n",
            "   P    161   404   955     0\n",
            "\n",
            "eigenvector 1:means\n",
            "                 PUR     -0.051\n",
            "                 CLM     -0.023\n",
            "                 MXL      0.019\n",
            "                 PEL      0.074\n",
            "## Anova statistics for population differences along each eigenvector:\n",
            "                                              p-value\n",
            "                  eigenvector_1_overall_             0 +++\n",
            "                  PUR minv:    -0.051                  PEL maxv:     0.074\n",
            "                  eigenvector_1_CLM_MXL_   2.22045e-16 +++\n",
            "                  eigenvector_1_CLM_PEL_             0 +++\n",
            "                  eigenvector_1_CLM_PUR_   2.22045e-16 +++\n",
            "                  eigenvector_1_MXL_PEL_             0 +++\n",
            "                  eigenvector_1_MXL_PUR_             0 +++\n",
            "                  eigenvector_1_PEL_PUR_             0 +++\n",
            "eigenvector 2:means\n",
            "                 CLM     -0.012\n",
            "                 MXL     -0.012\n",
            "                 PUR      0.010\n",
            "                 PEL      0.010\n",
            "                  eigenvector_2_overall_    0.00239788 \n",
            "                  CLM minv:    -0.012                  PEL maxv:     0.010\n",
            "                  eigenvector_2_CLM_MXL_      0.966299 \n",
            "                  eigenvector_2_CLM_PEL_   0.000343809 ***\n",
            "                  eigenvector_2_CLM_PUR_     0.0234232 \n",
            "                  eigenvector_2_MXL_PEL_    8.2603e-08 +++\n",
            "                  eigenvector_2_MXL_PUR_     0.0343506 \n",
            "                  eigenvector_2_PEL_PUR_      0.960776 \n",
            "eigenvector 3:means\n",
            "                 PEL     -0.002\n",
            "                 PUR     -0.001\n",
            "                 CLM      0.000\n",
            "                 MXL      0.003\n",
            "                  eigenvector_3_overall_      0.952811 \n",
            "                  PEL minv:    -0.002                  MXL maxv:     0.003\n",
            "                  eigenvector_3_CLM_MXL_     0.0477048 \n",
            "                  eigenvector_3_CLM_PEL_      0.133106 \n",
            "                  eigenvector_3_CLM_PUR_      0.946724 \n",
            "                  eigenvector_3_MXL_PEL_   4.02709e-05 ***\n",
            "                  eigenvector_3_MXL_PUR_       0.75921 \n",
            "                  eigenvector_3_PEL_PUR_      0.902699 \n",
            "eigenvector 4:means\n",
            "                 PUR     -0.005\n",
            "                 PEL     -0.003\n",
            "                 CLM      0.002\n",
            "                 MXL      0.010\n",
            "                  eigenvector_4_overall_      0.298932 \n",
            "                  PUR minv:    -0.005                  MXL maxv:     0.010\n",
            "                  eigenvector_4_CLM_MXL_      0.193305 \n",
            "                  eigenvector_4_CLM_PEL_      0.433702 \n",
            "                  eigenvector_4_CLM_PUR_      0.501122 \n",
            "                  eigenvector_4_MXL_PEL_   1.13516e-05 ***\n",
            "                  eigenvector_4_MXL_PUR_      0.135312 \n",
            "                  eigenvector_4_PEL_PUR_      0.838964 \n",
            "eigenvector 5:means\n",
            "                 CLM     -0.037\n",
            "                 MXL     -0.002\n",
            "                 PEL      0.008\n",
            "                 PUR      0.028\n",
            "                  eigenvector_5_overall_             0 +++\n",
            "                  CLM minv:    -0.037                  PUR maxv:     0.028\n",
            "                  eigenvector_5_CLM_MXL_   0.000440786 ***\n",
            "                  eigenvector_5_CLM_PEL_    4.3576e-07 +++\n",
            "                  eigenvector_5_CLM_PUR_    6.1775e-12 +++\n",
            "                  eigenvector_5_MXL_PEL_   4.19318e-06 ***\n",
            "                  eigenvector_5_MXL_PUR_   4.53422e-07 +++\n",
            "                  eigenvector_5_PEL_PUR_   6.07148e-05 ***\n",
            "eigenvector 6:means\n",
            "                 CLM     -0.030\n",
            "                 MXL     -0.011\n",
            "                 PEL      0.010\n",
            "                 PUR      0.026\n",
            "                  eigenvector_6_overall_   5.61773e-14 +++\n",
            "                  CLM minv:    -0.030                  PUR maxv:     0.026\n",
            "                  eigenvector_6_CLM_MXL_     0.0225073 \n",
            "                  eigenvector_6_CLM_PEL_   2.02356e-07 +++\n",
            "                  eigenvector_6_CLM_PUR_   3.43136e-09 +++\n",
            "                  eigenvector_6_MXL_PEL_   9.91429e-14 +++\n",
            "                  eigenvector_6_MXL_PUR_   3.47686e-06 ***\n",
            "                  eigenvector_6_PEL_PUR_     0.0253677 \n",
            "eigenvector 7:means\n",
            "                 CLM     -0.018\n",
            "                 MXL     -0.002\n",
            "                 PEL      0.003\n",
            "                 PUR      0.015\n",
            "                  eigenvector_7_overall_   0.000176342 ***\n",
            "                  CLM minv:    -0.018                  PUR maxv:     0.015\n",
            "                  eigenvector_7_CLM_MXL_     0.0902801 \n",
            "                  eigenvector_7_CLM_PEL_     0.0136087 \n",
            "                  eigenvector_7_CLM_PUR_   0.000719298 ***\n",
            "                  eigenvector_7_MXL_PEL_     0.0359239 \n",
            "                  eigenvector_7_MXL_PUR_     0.0261582 \n",
            "                  eigenvector_7_PEL_PUR_      0.063991 \n",
            "eigenvector 8:means\n",
            "                 CLM     -0.038\n",
            "                 MXL     -0.002\n",
            "                 PEL      0.007\n",
            "                 PUR      0.031\n",
            "                  eigenvector_8_overall_   4.44089e-16 +++\n",
            "                  CLM minv:    -0.038                  PUR maxv:     0.031\n",
            "                  eigenvector_8_CLM_MXL_   0.000482953 ***\n",
            "                  eigenvector_8_CLM_PEL_   1.39005e-06 ***\n",
            "                  eigenvector_8_CLM_PUR_   5.27356e-14 +++\n",
            "                  eigenvector_8_MXL_PEL_     0.0051101 \n",
            "                  eigenvector_8_MXL_PUR_   1.36224e-13 +++\n",
            "                  eigenvector_8_PEL_PUR_   3.09838e-08 +++\n",
            "eigenvector 9:means\n",
            "                 CLM     -0.010\n",
            "                 PEL     -0.002\n",
            "                 MXL      0.004\n",
            "                 PUR      0.009\n",
            "                  eigenvector_9_overall_     0.0824837 \n",
            "                  CLM minv:    -0.010                  PUR maxv:     0.009\n",
            "                  eigenvector_9_CLM_MXL_    0.00955281 \n",
            "                  eigenvector_9_CLM_PEL_      0.103619 \n",
            "                  eigenvector_9_CLM_PUR_     0.0527756 \n",
            "                  eigenvector_9_MXL_PEL_     0.0575302 \n",
            "                  eigenvector_9_MXL_PUR_      0.626927 \n",
            "                  eigenvector_9_PEL_PUR_      0.251701 \n",
            "eigenvector 10:means\n",
            "                 PUR     -0.011\n",
            "                 MXL     -0.004\n",
            "                 PEL      0.007\n",
            "                 CLM      0.008\n",
            "                 eigenvector_10_overall_      0.035782 \n",
            "                  PUR minv:    -0.011                  CLM maxv:     0.008\n",
            "                 eigenvector_10_CLM_MXL_     0.0511066 \n",
            "                 eigenvector_10_CLM_PEL_      0.946984 \n",
            "                 eigenvector_10_CLM_PUR_    0.00293945 \n",
            "                 eigenvector_10_MXL_PEL_      0.286509 \n",
            "                 eigenvector_10_MXL_PUR_      0.194049 \n",
            "                 eigenvector_10_PEL_PUR_     0.0481394 \n",
            "\n",
            "## Statistical significance of differences beween populations:\n",
            "                                pop1                  pop2      chisq          p-value   |pop1|   |pop2|\n",
            "popdifference:                   CLM                   MXL       127.892   1.25695e-22      94      64\n",
            "popdifference:                   CLM                   PEL       395.991   6.71144e-79      94      85\n",
            "popdifference:                   CLM                   PUR       308.198   2.87119e-60      94     104\n",
            "popdifference:                   MXL                   PEL       244.674   7.14421e-47      64      85\n",
            "popdifference:                   MXL                   PUR       318.875   1.57828e-62      64     104\n",
            "popdifference:                   PEL                   PUR       500.252  3.89977e-101      85     104\n",
            "\n",
            "eigbestsnp    1           rs77327969 16     72796432     3.978\n",
            "eigbestsnp    1           rs58330032 16     11425655     3.656\n",
            "eigbestsnp    1            rs2070151  1    161748056     3.624\n",
            "eigbestsnp    1           rs78952443  6    159340740     3.614\n",
            "eigbestsnp    1           rs17819852  8    129901532     3.542\n",
            "eigbestsnp    1           rs12421620 11     66276576     3.540\n",
            "eigbestsnp    1           rs67600360  4     55132162     3.431\n",
            "eigbestsnp    1            rs9552824 13     23673219     3.426\n",
            "eigbestsnp    1            rs4781011 16     10975311     3.398\n",
            "eigbestsnp    1            rs2144005 20     40679691     3.394\n",
            "eigbestsnp    2           rs74112464 12     76060692     6.408\n",
            "eigbestsnp    2           rs78313738 10     26079873     6.230\n",
            "eigbestsnp    2           rs75111628  4     74569063     6.041\n",
            "eigbestsnp    2           rs76587024 11    124701020     5.592\n",
            "eigbestsnp    2          rs116513541  5     74927039     5.492\n",
            "eigbestsnp    2           rs79564442  6      7814510     5.492\n",
            "eigbestsnp    2           rs79022036 13     37232112     5.492\n",
            "eigbestsnp    2           rs73451584 11     38181454     5.399\n",
            "eigbestsnp    2           rs57575249 11     19914159     5.372\n",
            "eigbestsnp    2          rs150439274  3    139976742     5.252\n",
            "eigbestsnp    3          rs114047046 10     34913439     9.722\n",
            "eigbestsnp    3          rs138238766  1     25206318     9.602\n",
            "eigbestsnp    3           rs72906159  1     51778214     9.602\n",
            "eigbestsnp    3           rs10047241  1    168914580     9.602\n",
            "eigbestsnp    3           rs78609867  2    235310443     9.602\n",
            "eigbestsnp    3               rs5951  4     79494374     9.602\n",
            "eigbestsnp    3          rs185057059  6     75321814     9.602\n",
            "eigbestsnp    3          rs115176765  9      1425023     9.602\n",
            "eigbestsnp    3          rs147690298  9     77088550     9.602\n",
            "eigbestsnp    3          rs181375385  9    114472434     9.602\n",
            "eigbestsnp    4           rs78313738 10     26079873     7.790\n",
            "eigbestsnp    4           rs74112464 12     76060692     7.605\n",
            "eigbestsnp    4          rs150439274  3    139976742     7.067\n",
            "eigbestsnp    4           rs58143392  4    142682330     7.067\n",
            "eigbestsnp    4          rs112218340  5     52153090     7.067\n",
            "eigbestsnp    4           rs78572170  5    145814814     7.067\n",
            "eigbestsnp    4          rs115471370  6     99035653     7.067\n",
            "eigbestsnp    4            rs9490345  6    122115893     7.067\n",
            "eigbestsnp    4          rs116214638  9     30063072     7.067\n",
            "eigbestsnp    4           rs78927206  9     94608483     7.067\n",
            "eigbestsnp    5          rs111259733  8    139001962    10.416\n",
            "eigbestsnp    5            rs4948307 10     60407606     8.585\n",
            "eigbestsnp    5           rs77261111  2    107456743     8.585\n",
            "eigbestsnp    5          rs114225406  4     62403952     8.585\n",
            "eigbestsnp    5           rs59168564  5    153337926     8.585\n",
            "eigbestsnp    5           rs79206638  6    138673794     8.585\n",
            "eigbestsnp    5          rs114785266  6    142816847     8.585\n",
            "eigbestsnp    5          rs142285146  8     57121913     8.585\n",
            "eigbestsnp    5          rs183714447  8     57140802     8.585\n",
            "eigbestsnp    5          rs112490168  9     99056915     8.585\n",
            "eigbestsnp    6           rs74000767 17     66588336    10.071\n",
            "eigbestsnp    6           rs11885124  2     82799859     8.387\n",
            "eigbestsnp    6          rs114463702  1     71693778     7.587\n",
            "eigbestsnp    6          rs113899004  1    211684702     7.393\n",
            "eigbestsnp    6          rs111788451  2     66820091     7.393\n",
            "eigbestsnp    6          rs112195567  8     19557072     7.393\n",
            "eigbestsnp    6          rs147305707  8     19560440     7.393\n",
            "eigbestsnp    6            rs9988665 10      5685459     7.393\n",
            "eigbestsnp    6          rs142183494 11      6867697     7.393\n",
            "eigbestsnp    6          rs145925954  1    187682493     6.840\n",
            "eigbestsnp    7          rs111259733  8    139001962     7.879\n",
            "eigbestsnp    7          rs138014762  9    112280568     7.855\n",
            "eigbestsnp    7          rs145925954  1    187682493     7.707\n",
            "eigbestsnp    7           rs73560583  8     13151949     7.707\n",
            "eigbestsnp    7          rs112944953  9    102538367     7.707\n",
            "eigbestsnp    7           rs74781506 12     63415099     7.707\n",
            "eigbestsnp    7           rs74094461 13     71677645     7.707\n",
            "eigbestsnp    7           rs76483344 13     74144634     7.707\n",
            "eigbestsnp    7             rs543145 13     75876629     7.707\n",
            "eigbestsnp    7          rs140776451 14     56271370     7.707\n",
            "eigbestsnp    8           rs72862899  1      6615820    10.564\n",
            "eigbestsnp    8          rs116054880  1    231799306    10.564\n",
            "eigbestsnp    8           rs73914147  2      2551582    10.564\n",
            "eigbestsnp    8          rs115690484  2    120933777    10.564\n",
            "eigbestsnp    8          rs200150723  4     47680081    10.564\n",
            "eigbestsnp    8          rs143888833 10    114613155    10.564\n",
            "eigbestsnp    8          rs113392747 12     21467787    10.564\n",
            "eigbestsnp    8          rs149799601 16     74313214    10.564\n",
            "eigbestsnp    8           rs78558050 17     43102933    10.564\n",
            "eigbestsnp    8          rs112284129 18     11225436    10.564\n",
            "eigbestsnp    9          rs113602749  5    158844698    12.019\n",
            "eigbestsnp    9          rs116074951  8     24755799    12.019\n",
            "eigbestsnp    9          rs112795608  8     76851952    12.019\n",
            "eigbestsnp    9          rs150878769  9     23314763    12.019\n",
            "eigbestsnp    9          rs144617729 10    113847841    12.019\n",
            "eigbestsnp    9          rs112582997 11     83790827    12.019\n",
            "eigbestsnp    9          rs148197330 13     72230397    12.019\n",
            "eigbestsnp    9            rs7156958 14     62323567    12.019\n",
            "eigbestsnp    9          rs181053393 17      8316540    12.019\n",
            "eigbestsnp    9          rs113190596 22     46183374    12.019\n",
            "eigbestsnp   10          rs116750619  1      8443400    10.979\n",
            "eigbestsnp   10           rs73455947  6     75291332    10.979\n",
            "eigbestsnp   10          rs116781825 12     72551239    10.979\n",
            "eigbestsnp   10            rs8026554 15     57901482     9.658\n",
            "eigbestsnp   10          rs142191274 12     97676230     8.329\n",
            "eigbestsnp   10          rs149239800 20     38526348     8.246\n",
            "eigbestsnp   10          rs139296388 15     89106370     8.202\n",
            "eigbestsnp   10           rs73911622 20     47286612     8.191\n",
            "eigbestsnp   10          rs113234542 14     46792316     8.187\n",
            "eigbestsnp   10          rs146987815  7     50792385     8.175\n",
            "##end of smartpca run\n"
          ]
        }
      ]
    },
    {
      "cell_type": "code",
      "metadata": {
        "colab": {
          "base_uri": "https://localhost:8080/",
          "height": 394
        },
        "id": "UainYiYvcdop",
        "outputId": "a8995874-8301-4aad-f4ea-d3b79c030789"
      },
      "source": [
        "# Display output\n",
        "n_pcs = 10\n",
        "pcs = pd.read_csv('1000G.continent.evec', skiprows=1, header=None, delim_whitespace=True,\n",
        "                       names=['Sample']+['PC'+str(i+1) for i in range(n_pcs)]+['population'])\n",
        "pcs = pcs.merge(population_info, on='population', how='left').fillna('Archaic')\n",
        "pcs = pcs[pcs.super_population==my_continental_group]\n",
        "pcs.head()"
      ],
      "execution_count": null,
      "outputs": [
        {
          "output_type": "execute_result",
          "data": {
            "text/html": [
              "<div>\n",
              "<style scoped>\n",
              "    .dataframe tbody tr th:only-of-type {\n",
              "        vertical-align: middle;\n",
              "    }\n",
              "\n",
              "    .dataframe tbody tr th {\n",
              "        vertical-align: top;\n",
              "    }\n",
              "\n",
              "    .dataframe thead th {\n",
              "        text-align: right;\n",
              "    }\n",
              "</style>\n",
              "<table border=\"1\" class=\"dataframe\">\n",
              "  <thead>\n",
              "    <tr style=\"text-align: right;\">\n",
              "      <th></th>\n",
              "      <th>Sample</th>\n",
              "      <th>PC1</th>\n",
              "      <th>PC2</th>\n",
              "      <th>PC3</th>\n",
              "      <th>PC4</th>\n",
              "      <th>PC5</th>\n",
              "      <th>PC6</th>\n",
              "      <th>PC7</th>\n",
              "      <th>PC8</th>\n",
              "      <th>PC9</th>\n",
              "      <th>PC10</th>\n",
              "      <th>population</th>\n",
              "      <th>description</th>\n",
              "      <th>super_population</th>\n",
              "    </tr>\n",
              "  </thead>\n",
              "  <tbody>\n",
              "    <tr>\n",
              "      <th>227</th>\n",
              "      <td>HG00551</td>\n",
              "      <td>-0.0492</td>\n",
              "      <td>-0.0260</td>\n",
              "      <td>-0.0063</td>\n",
              "      <td>-0.0024</td>\n",
              "      <td>0.0068</td>\n",
              "      <td>-0.0162</td>\n",
              "      <td>-0.0015</td>\n",
              "      <td>0.0427</td>\n",
              "      <td>0.0180</td>\n",
              "      <td>-0.0179</td>\n",
              "      <td>PUR</td>\n",
              "      <td>Puerto Ricans from Puerto Rico</td>\n",
              "      <td>AMR</td>\n",
              "    </tr>\n",
              "    <tr>\n",
              "      <th>228</th>\n",
              "      <td>HG00553</td>\n",
              "      <td>-0.0416</td>\n",
              "      <td>0.0411</td>\n",
              "      <td>-0.0062</td>\n",
              "      <td>-0.0257</td>\n",
              "      <td>0.0223</td>\n",
              "      <td>-0.0026</td>\n",
              "      <td>0.0342</td>\n",
              "      <td>0.0354</td>\n",
              "      <td>0.0769</td>\n",
              "      <td>-0.0034</td>\n",
              "      <td>PUR</td>\n",
              "      <td>Puerto Ricans from Puerto Rico</td>\n",
              "      <td>AMR</td>\n",
              "    </tr>\n",
              "    <tr>\n",
              "      <th>229</th>\n",
              "      <td>HG00554</td>\n",
              "      <td>-0.0490</td>\n",
              "      <td>-0.0211</td>\n",
              "      <td>0.0055</td>\n",
              "      <td>-0.0029</td>\n",
              "      <td>0.0260</td>\n",
              "      <td>0.0234</td>\n",
              "      <td>0.0073</td>\n",
              "      <td>0.0302</td>\n",
              "      <td>0.0051</td>\n",
              "      <td>0.0025</td>\n",
              "      <td>PUR</td>\n",
              "      <td>Puerto Ricans from Puerto Rico</td>\n",
              "      <td>AMR</td>\n",
              "    </tr>\n",
              "    <tr>\n",
              "      <th>265</th>\n",
              "      <td>HG00637</td>\n",
              "      <td>-0.0579</td>\n",
              "      <td>0.0025</td>\n",
              "      <td>0.0086</td>\n",
              "      <td>-0.0127</td>\n",
              "      <td>0.0243</td>\n",
              "      <td>0.0368</td>\n",
              "      <td>0.0245</td>\n",
              "      <td>0.0059</td>\n",
              "      <td>0.0417</td>\n",
              "      <td>0.0118</td>\n",
              "      <td>PUR</td>\n",
              "      <td>Puerto Ricans from Puerto Rico</td>\n",
              "      <td>AMR</td>\n",
              "    </tr>\n",
              "    <tr>\n",
              "      <th>266</th>\n",
              "      <td>HG00638</td>\n",
              "      <td>-0.0539</td>\n",
              "      <td>0.0175</td>\n",
              "      <td>0.0001</td>\n",
              "      <td>-0.0223</td>\n",
              "      <td>0.0593</td>\n",
              "      <td>0.0256</td>\n",
              "      <td>0.0787</td>\n",
              "      <td>-0.0052</td>\n",
              "      <td>0.0525</td>\n",
              "      <td>0.0636</td>\n",
              "      <td>PUR</td>\n",
              "      <td>Puerto Ricans from Puerto Rico</td>\n",
              "      <td>AMR</td>\n",
              "    </tr>\n",
              "  </tbody>\n",
              "</table>\n",
              "</div>"
            ],
            "text/plain": [
              "      Sample     PC1  ...                     description  super_population\n",
              "227  HG00551 -0.0492  ...  Puerto Ricans from Puerto Rico               AMR\n",
              "228  HG00553 -0.0416  ...  Puerto Ricans from Puerto Rico               AMR\n",
              "229  HG00554 -0.0490  ...  Puerto Ricans from Puerto Rico               AMR\n",
              "265  HG00637 -0.0579  ...  Puerto Ricans from Puerto Rico               AMR\n",
              "266  HG00638 -0.0539  ...  Puerto Ricans from Puerto Rico               AMR\n",
              "\n",
              "[5 rows x 14 columns]"
            ]
          },
          "metadata": {},
          "execution_count": 39
        }
      ]
    },
    {
      "cell_type": "code",
      "metadata": {
        "colab": {
          "base_uri": "https://localhost:8080/",
          "height": 623
        },
        "id": "sqmYvuI8cwNU",
        "outputId": "c8be4025-bb12-4da2-cf2c-c44e123e987a"
      },
      "source": [
        "# plot PCA output\n",
        "plot_pcs(pcs, 1, 2, pcs.population, [my_individual])"
      ],
      "execution_count": null,
      "outputs": [
        {
          "output_type": "stream",
          "name": "stdout",
          "text": [
            "4\n"
          ]
        },
        {
          "output_type": "display_data",
          "data": {
            "image/png": "[encoded data removed]",
            "text/plain": [
              "<Figure size 720x720 with 1 Axes>"
            ]
          },
          "metadata": {
            "needs_background": "light"
          }
        }
      ]
    },
    {
      "cell_type": "markdown",
      "metadata": {
        "id": "7uki78kDcXlw"
      },
      "source": [
        "### Stop! Check your understanding\n",
        "1. Find your individual in our individuals dataframe; what is their sex, population, and superpopulation?\n"
      ]
    },
    {
      "cell_type": "code",
      "metadata": {
        "id": "iyXGGfN2cXlw"
      },
      "source": [
        ""
      ],
      "execution_count": null,
      "outputs": []
    },
    {
      "cell_type": "markdown",
      "metadata": {
        "id": "BbZnsL1YcXlx"
      },
      "source": [
        "The smartpca program also outputs useful statistics after each run. One of these files, [name].phyl, has information about Fst values between all populations within your superpopulation.<br>\n",
        "<br>\n",
        "&emsp;&emsp;<ins>Fst</ins>: a measure of genetic differentiation between two populations, based on within-population structure.\n",
        "2. Find the value of Fst between your population and every other one in the superpopulation."
      ]
    },
    {
      "cell_type": "code",
      "metadata": {
        "id": "lCI1Gh9zcXlx"
      },
      "source": [
        ""
      ],
      "execution_count": null,
      "outputs": []
    },
    {
      "cell_type": "markdown",
      "metadata": {
        "id": "fgxIdayESsTF"
      },
      "source": [
        "# Admixture analysis\n",
        "\n",
        "Alexander, David H., John Novembre, and Kenneth Lange. \"Fast model-based estimation of ancestry in unrelated individuals.\" Genome research 19.9 (2009): 1655-1664.\n",
        "\n",
        "https://genome.cshlp.org/content/19/9/1655.full\n",
        "\n",
        "Software documentation: http://www.genetics.ucla.edu/software/admixture/admixture-manual.pdf\n",
        "\n",
        "Usage: \n",
        "\n",
        "```!../../bin/admixture --cv 1000G.bed K```\n",
        "\n",
        "where K = number of clusters"
      ]
    },
    {
      "cell_type": "markdown",
      "metadata": {
        "id": "wHRfm6fIcXlx"
      },
      "source": [
        "Running ADMIXTURE with K=2 clusters"
      ]
    },
    {
      "cell_type": "code",
      "metadata": {
        "colab": {
          "base_uri": "https://localhost:8080/"
        },
        "id": "2kdHsi22hE_J",
        "outputId": "097135a4-706f-40d0-b5fc-32cac0d16dfc"
      },
      "source": [
        "!../../bin/admixture --cv 1000G.bed 2"
      ],
      "execution_count": 25,
      "outputs": [
        {
          "output_type": "stream",
          "name": "stdout",
          "text": [
            "****                   ADMIXTURE Version 1.21                   *****\n",
            "****                    Copyright 2008-2011                     *****\n",
            "****          David Alexander, John  Novembre, Ken Lange        *****\n",
            "****                   Please cite our paper!                   *****\n",
            "****   Information at www.genetics.ucla.edu/software/admixture  *****\n",
            "\n",
            "Cross-validation will be performed.  Folds=5.\n",
            "Random seed: 43\n",
            "Point estimation method: Block relaxation algorithm\n",
            "Convergence acceleration algorithm: QuasiNewton, 3 secant conditions\n",
            "Point estimation will terminate when objective function delta < 0.0001\n",
            "Estimation of standard errors disabled; will compute point estimates only.\n",
            "Size of G: 2506x19998\n",
            "Performing five EM steps to prime main algorithm\n",
            "1 (EM) \tElapsed: 2.205\tLoglikelihood: -4.47361e+07\t(delta): 4.13289e+07\n",
            "^C\n"
          ]
        }
      ]
    },
    {
      "cell_type": "markdown",
      "metadata": {
        "id": "r2tlcuZOcXlx"
      },
      "source": [
        "Each line in the output of ADMIXTURE contains the probability of an individual belonging to each cluster - not be to confused with ancestry proportion."
      ]
    },
    {
      "cell_type": "code",
      "metadata": {
        "colab": {
          "base_uri": "https://localhost:8080/"
        },
        "id": "Wz9icLAkMML5",
        "outputId": "35deaefd-9b98-4467-a892-3cb4229beecb"
      },
      "source": [
        "admix = pd.read_csv('1000G.2.Q', ' ', header=None).values[order]\n",
        "admix"
      ],
      "execution_count": null,
      "outputs": [
        {
          "output_type": "execute_result",
          "data": {
            "text/plain": [
              "array([[0.174494, 0.825506],\n",
              "       [0.441195, 0.558805],\n",
              "       [0.042493, 0.957507],\n",
              "       ...,\n",
              "       [0.841677, 0.158323],\n",
              "       [0.114301, 0.885699],\n",
              "       [0.195767, 0.804233]])"
            ]
          },
          "metadata": {},
          "execution_count": 42
        }
      ]
    },
    {
      "cell_type": "markdown",
      "metadata": {
        "id": "qjeyyIM3cXlx"
      },
      "source": [
        "Admixture plot where each color represents one cluster\n"
      ]
    },
    {
      "cell_type": "code",
      "metadata": {
        "colab": {
          "base_uri": "https://localhost:8080/",
          "height": 322
        },
        "id": "xRm6ymQin2c3",
        "outputId": "1c399b73-ced7-4f40-93bd-374e8dfce3f2"
      },
      "source": [
        "plot_admixture(admix, individuals.super_population.cat.codes, individuals.super_population.cat.categories);"
      ],
      "execution_count": null,
      "outputs": [
        {
          "output_type": "display_data",
          "data": {
            "image/png": "[encoded data removed]",
            "text/plain": [
              "<Figure size 360x216 with 1 Axes>"
            ]
          },
          "metadata": {
            "needs_background": "light"
          }
        }
      ]
    },
    {
      "cell_type": "markdown",
      "metadata": {
        "id": "e39QLo1icXlx"
      },
      "source": [
        "Admixture plot with subcontinental ancestry where each color represents one cluster\n"
      ]
    },
    {
      "cell_type": "code",
      "metadata": {
        "colab": {
          "base_uri": "https://localhost:8080/",
          "height": 367
        },
        "id": "uxWC8jKdd_7a",
        "outputId": "921f957d-7904-4ef9-9b95-ed9786a4da8e"
      },
      "source": [
        "plot_admixture(admix, individuals.population.cat.codes, individuals.population.cat.categories);"
      ],
      "execution_count": null,
      "outputs": [
        {
          "output_type": "display_data",
          "data": {
            "image/png": "[encoded data removed]",
            "text/plain": [
              "<Figure size 360x216 with 1 Axes>"
            ]
          },
          "metadata": {
            "needs_background": "light"
          }
        }
      ]
    },
    {
      "cell_type": "markdown",
      "metadata": {
        "id": "EeNB5IZkcXly"
      },
      "source": [
        "Admixture output for the current individual\n"
      ]
    },
    {
      "cell_type": "code",
      "metadata": {
        "colab": {
          "base_uri": "https://localhost:8080/",
          "height": 264
        },
        "id": "v7hp1zmImoa2",
        "outputId": "7dea63d5-a98b-41f0-c39a-13a169512c22"
      },
      "source": [
        "plot_admix_individual(admix, my_individual)"
      ],
      "execution_count": null,
      "outputs": [
        {
          "output_type": "display_data",
          "data": {
            "image/png": "[encoded data removed]",
            "text/plain": [
              "<Figure size 432x288 with 1 Axes>"
            ]
          },
          "metadata": {}
        }
      ]
    },
    {
      "cell_type": "markdown",
      "metadata": {
        "id": "kAw74rFAcXly"
      },
      "source": [
        "**Now let's run admixture with K=3 clusters**"
      ]
    },
    {
      "cell_type": "code",
      "metadata": {
        "colab": {
          "base_uri": "https://localhost:8080/"
        },
        "id": "z_EYVsop9ylN",
        "outputId": "6ed016d2-5519-4278-da64-9dff68481c9f"
      },
      "source": [
        "!../../bin/admixture --cv 1000G.bed 3"
      ],
      "execution_count": null,
      "outputs": [
        {
          "output_type": "stream",
          "name": "stdout",
          "text": [
            "****                   ADMIXTURE Version 1.21                   *****\n",
            "****                    Copyright 2008-2011                     *****\n",
            "****          David Alexander, John  Novembre, Ken Lange        *****\n",
            "****                   Please cite our paper!                   *****\n",
            "****   Information at www.genetics.ucla.edu/software/admixture  *****\n",
            "\n",
            "Cross-validation will be performed.  Folds=5.\n",
            "Random seed: 43\n",
            "Point estimation method: Block relaxation algorithm\n",
            "Convergence acceleration algorithm: QuasiNewton, 3 secant conditions\n",
            "Point estimation will terminate when objective function delta < 0.0001\n",
            "Estimation of standard errors disabled; will compute point estimates only.\n",
            "Size of G: 2506x19998\n",
            "Performing five EM steps to prime main algorithm\n",
            "1 (EM) \tElapsed: 3.028\tLoglikelihood: -4.51512e+07\t(delta): 3.55314e+07\n",
            "2 (EM) \tElapsed: 3.027\tLoglikelihood: -4.38197e+07\t(delta): 1.33149e+06\n",
            "3 (EM) \tElapsed: 3.022\tLoglikelihood: -4.34422e+07\t(delta): 377505\n",
            "4 (EM) \tElapsed: 3.018\tLoglikelihood: -4.32281e+07\t(delta): 214042\n",
            "5 (EM) \tElapsed: 3.021\tLoglikelihood: -4.30902e+07\t(delta): 137897\n",
            "Initial loglikelihood: -4.30902e+07\n",
            "Starting main algorithm\n",
            "1 (QN/Block) \tElapsed: 8.204\tLoglikelihood: -4.12963e+07\t(delta): 1.79389e+06\n",
            "2 (QN/Block) \tElapsed: 8.138\tLoglikelihood: -4.04049e+07\t(delta): 891427\n",
            "3 (QN/Block) \tElapsed: 9.243\tLoglikelihood: -3.99193e+07\t(delta): 485601\n",
            "4 (QN/Block) \tElapsed: 10.366\tLoglikelihood: -3.95951e+07\t(delta): 324225\n",
            "5 (QN/Block) \tElapsed: 10.787\tLoglikelihood: -3.95488e+07\t(delta): 46253.4\n",
            "6 (QN/Block) \tElapsed: 9.767\tLoglikelihood: -3.95243e+07\t(delta): 24534.4\n",
            "7 (QN/Block) \tElapsed: 10.334\tLoglikelihood: -3.95181e+07\t(delta): 6175.86\n",
            "8 (QN/Block) \tElapsed: 10.259\tLoglikelihood: -3.95164e+07\t(delta): 1706.81\n",
            "9 (QN/Block) \tElapsed: 10.327\tLoglikelihood: -3.95161e+07\t(delta): 309.056\n",
            "10 (QN/Block) \tElapsed: 9.847\tLoglikelihood: -3.9516e+07\t(delta): 46.0062\n",
            "11 (QN/Block) \tElapsed: 9.234\tLoglikelihood: -3.9516e+07\t(delta): 5.19456\n",
            "12 (QN/Block) \tElapsed: 9.242\tLoglikelihood: -3.9516e+07\t(delta): 3.49708\n",
            "13 (QN/Block) \tElapsed: 10.883\tLoglikelihood: -3.9516e+07\t(delta): 13.3024\n",
            "14 (QN/Block) \tElapsed: 11.054\tLoglikelihood: -3.9516e+07\t(delta): 0.340852\n",
            "15 (QN/Block) \tElapsed: 10.373\tLoglikelihood: -3.9516e+07\t(delta): 0.0220854\n",
            "16 (QN/Block) \tElapsed: 9.891\tLoglikelihood: -3.9516e+07\t(delta): 10.4862\n",
            "17 (QN/Block) \tElapsed: 9.861\tLoglikelihood: -3.9516e+07\t(delta): 0.823857\n",
            "18 (QN/Block) \tElapsed: 9.416\tLoglikelihood: -3.9516e+07\t(delta): 0.605457\n",
            "19 (QN/Block) \tElapsed: 9.361\tLoglikelihood: -3.9516e+07\t(delta): 0.41844\n",
            "20 (QN/Block) \tElapsed: 9.279\tLoglikelihood: -3.9516e+07\t(delta): 0.680073\n",
            "21 (QN/Block) \tElapsed: 9.821\tLoglikelihood: -3.9516e+07\t(delta): 0.00968692\n",
            "22 (QN/Block) \tElapsed: 9.241\tLoglikelihood: -3.9516e+07\t(delta): 0.00197257\n",
            "23 (QN/Block) \tElapsed: 9.31\tLoglikelihood: -3.9516e+07\t(delta): 0.000153765\n",
            "24 (QN/Block) \tElapsed: 9.332\tLoglikelihood: -3.9516e+07\t(delta): 0.172554\n",
            "25 (QN/Block) \tElapsed: 9.25\tLoglikelihood: -3.9516e+07\t(delta): 0.000155032\n",
            "26 (QN/Block) \tElapsed: 9.244\tLoglikelihood: -3.9516e+07\t(delta): 7.62939e-06\n",
            "Summary: \n",
            "Converged in 26 iterations (285.526 sec)\n",
            "Loglikelihood: -39516004.173778\n",
            "Fst divergences between estimated populations: \n",
            "\tPop0\tPop1\t\n",
            "Pop0\t\n",
            "Pop1\t0.113\t\n",
            "Pop2\t0.153\t0.188\t\n",
            "CV error (K=3): 0.43775\n",
            "Writing output files.\n"
          ]
        }
      ]
    },
    {
      "cell_type": "markdown",
      "metadata": {
        "id": "0Swe8-drcXly"
      },
      "source": [
        "Output of ADMIXTURE (K=3)"
      ]
    },
    {
      "cell_type": "code",
      "metadata": {
        "colab": {
          "base_uri": "https://localhost:8080/",
          "height": 367
        },
        "id": "X8DenkTBlopX",
        "outputId": "910df513-8b35-4fb9-a46c-4ecbf2763585"
      },
      "source": [
        "admix = pd.read_csv('1000G.3.Q', ' ', header=None).values[order]\n",
        "plot_admixture(admix, individuals.population.cat.codes, individuals.population.cat.categories);"
      ],
      "execution_count": null,
      "outputs": [
        {
          "output_type": "display_data",
          "data": {
            "image/png": "[encoded data removed]",
            "text/plain": [
              "<Figure size 360x216 with 1 Axes>"
            ]
          },
          "metadata": {
            "needs_background": "light"
          }
        }
      ]
    },
    {
      "cell_type": "code",
      "metadata": {
        "colab": {
          "base_uri": "https://localhost:8080/",
          "height": 264
        },
        "id": "PLDyReANnRm7",
        "outputId": "16c02b4d-9fe9-4fb4-e6ae-5830b3fd7df4"
      },
      "source": [
        "plot_admix_individual(admix, my_individual)"
      ],
      "execution_count": null,
      "outputs": [
        {
          "output_type": "display_data",
          "data": {
            "image/png": "[encoded data removed]",
            "text/plain": [
              "<Figure size 432x288 with 1 Axes>"
            ]
          },
          "metadata": {}
        }
      ]
    },
    {
      "cell_type": "markdown",
      "metadata": {
        "id": "pkhP40UXcXly"
      },
      "source": [
        "For K=4,5,6 results have been precomputed, we can just load them. <br><br>Output of ADMIXTURE (K=4)\n"
      ]
    },
    {
      "cell_type": "code",
      "metadata": {
        "colab": {
          "base_uri": "https://localhost:8080/",
          "height": 367
        },
        "id": "_Zq_LMk-rve7",
        "outputId": "0b05d726-ce95-42df-93d0-b9aef81bc1fc"
      },
      "source": [
        "admix = pd.read_csv('1000G.4.Q', ' ', header=None).values[order]\n",
        "plot_admixture(admix, individuals.population.cat.codes, individuals.population.cat.categories);"
      ],
      "execution_count": null,
      "outputs": [
        {
          "output_type": "display_data",
          "data": {
            "image/png": "[encoded data removed]",
            "text/plain": [
              "<Figure size 360x216 with 1 Axes>"
            ]
          },
          "metadata": {
            "needs_background": "light"
          }
        }
      ]
    },
    {
      "cell_type": "code",
      "metadata": {
        "colab": {
          "base_uri": "https://localhost:8080/",
          "height": 264
        },
        "id": "VpqgQLKQncZw",
        "outputId": "aa6beda1-a542-4827-ec3c-d24fce450f7d"
      },
      "source": [
        "# Admixture output for the current individual (K=4)\n",
        "plot_admix_individual(admix, my_individual)"
      ],
      "execution_count": null,
      "outputs": [
        {
          "output_type": "display_data",
          "data": {
            "image/png": "[encoded data removed]",
            "text/plain": [
              "<Figure size 432x288 with 1 Axes>"
            ]
          },
          "metadata": {}
        }
      ]
    },
    {
      "cell_type": "markdown",
      "metadata": {
        "id": "-YsSg--8cXly"
      },
      "source": [
        "Output of ADMIXTURE (K=5)\n"
      ]
    },
    {
      "cell_type": "code",
      "metadata": {
        "colab": {
          "base_uri": "https://localhost:8080/",
          "height": 367
        },
        "id": "0K5XM7EY-fQg",
        "outputId": "b9e70eea-eed5-42f3-ae1b-0f7427651c40"
      },
      "source": [
        "admix = pd.read_csv('1000G.5.Q', ' ', header=None).values[order]\n",
        "plot_admixture(admix, individuals.population.cat.codes, individuals.population.cat.categories);"
      ],
      "execution_count": null,
      "outputs": [
        {
          "output_type": "display_data",
          "data": {
            "image/png": "[encoded data removed]",
            "text/plain": [
              "<Figure size 360x216 with 1 Axes>"
            ]
          },
          "metadata": {
            "needs_background": "light"
          }
        }
      ]
    },
    {
      "cell_type": "code",
      "metadata": {
        "colab": {
          "base_uri": "https://localhost:8080/",
          "height": 264
        },
        "id": "HUsAWxb5ne7x",
        "outputId": "59b90907-6c94-4e5d-81f0-8a2528551218"
      },
      "source": [
        "plot_admix_individual(admix, my_individual)"
      ],
      "execution_count": null,
      "outputs": [
        {
          "output_type": "display_data",
          "data": {
            "image/png": "[encoded data removed]",
            "text/plain": [
              "<Figure size 432x288 with 1 Axes>"
            ]
          },
          "metadata": {}
        }
      ]
    },
    {
      "cell_type": "markdown",
      "metadata": {
        "id": "vJA6VKbGcXlz"
      },
      "source": [
        "Output of ADMIXTURE (K=6)\n"
      ]
    },
    {
      "cell_type": "code",
      "metadata": {
        "colab": {
          "base_uri": "https://localhost:8080/",
          "height": 367
        },
        "id": "HrzfuyEW-443",
        "outputId": "48da184f-d209-4950-d8e1-816871e915d9"
      },
      "source": [
        "admix = pd.read_csv('1000G.6.Q', ' ', header=None).values[order]\n",
        "plot_admixture(admix, individuals.population.cat.codes, individuals.population.cat.categories);"
      ],
      "execution_count": null,
      "outputs": [
        {
          "output_type": "display_data",
          "data": {
            "image/png": "[encoded data removed]",
            "text/plain": [
              "<Figure size 360x216 with 1 Axes>"
            ]
          },
          "metadata": {
            "needs_background": "light"
          }
        }
      ]
    },
    {
      "cell_type": "code",
      "metadata": {
        "colab": {
          "base_uri": "https://localhost:8080/",
          "height": 264
        },
        "id": "xh-KnvVDnhTa",
        "outputId": "808d6638-7e1e-4bb8-adb6-8719dd921a81"
      },
      "source": [
        "plot_admix_individual(admix, my_individual)"
      ],
      "execution_count": null,
      "outputs": [
        {
          "output_type": "display_data",
          "data": {
            "image/png": "[encoded data removed]",
            "text/plain": [
              "<Figure size 432x288 with 1 Axes>"
            ]
          },
          "metadata": {}
        }
      ]
    },
    {
      "cell_type": "code",
      "metadata": {
        "colab": {
          "base_uri": "https://localhost:8080/",
          "height": 290
        },
        "id": "fNpBW20G_DUv",
        "outputId": "54cece6e-32e4-42ff-c009-de6776cf46bc"
      },
      "source": [
        "# Likelihood of data as a function of K, the number of clusters\n",
        "K = np.arange(2, 9)\n",
        "log_likelihood = [-40488756, -39516004, -39261878, -39067307, -39034320, -38999856, -38959044]\n",
        "#still am not seeing where these numbers come from? Not in any files in data dir\n",
        "plt.plot(K, log_likelihood)\n",
        "plt.xticks(K)\n",
        "plt.xlabel('K')\n",
        "plt.ylabel('log likelihood');"
      ],
      "execution_count": null,
      "outputs": [
        {
          "output_type": "display_data",
          "data": {
            "image/png": "[encoded data removed]",
            "text/plain": [
              "<Figure size 432x288 with 1 Axes>"
            ]
          },
          "metadata": {
            "needs_background": "light"
          }
        }
      ]
    },
    {
      "cell_type": "code",
      "metadata": {
        "id": "C4-LvLvy_aV9"
      },
      "source": [
        ""
      ],
      "execution_count": null,
      "outputs": []
    }
  ]
}