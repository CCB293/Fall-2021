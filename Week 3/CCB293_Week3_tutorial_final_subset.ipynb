{
 "cells": [
  {
   "cell_type": "markdown",
   "metadata": {
    "id": "0pZjroFpQsad"
   },
   "source": [
    "## Week 3: Tutorial"
   ]
  },
  {
   "cell_type": "markdown",
   "metadata": {
    "id": "LoT2HtKrQsae"
   },
   "source": [
    "## Goal: Investigate archaic ancestry in modern humans"
   ]
  },
  {
   "cell_type": "markdown",
   "metadata": {
    "id": "xlggFDWQQsaf"
   },
   "source": [
    "### Set your individual"
   ]
  },
  {
   "cell_type": "code",
   "execution_count": null,
   "metadata": {
    "id": "F5b-fuLk7lBo"
   },
   "outputs": [],
   "source": [
    "# REPLACE with your individual\n",
    "my_individual = 'HG01149'"
   ]
  },
  {
   "cell_type": "markdown",
   "metadata": {
    "id": "3fiJYnPtHOlI"
   },
   "source": [
    "## Installing requirements"
   ]
  },
  {
   "cell_type": "markdown",
   "metadata": {
    "id": "XeBEB4OkdRVi"
   },
   "source": [
    "Connect to Github and load the necessary data and tools (runtime: 2min)"
   ]
  },
  {
   "cell_type": "code",
   "execution_count": null,
   "metadata": {
    "colab": {
     "base_uri": "https://localhost:8080/"
    },
    "id": "7OoO64kwB9nK",
    "outputId": "c879ea77-0d15-497a-d701-0e0fa7f9026b"
   },
   "outputs": [],
   "source": [
    "# %%capture\n",
    "!export LD_LIBARY_PATH=/usr/lib/x86_64-linux-gnu:$LD_LIBRARY_PATH\n",
    "!apt install libgsl-dev\n",
    "!ln -s /usr/lib/x86_64-linux-gnu/libgsl.so /usr/lib/x86_64-linux-gnu/libgsl.so.0\n",
    "!git clone https://github.com/CCB293/Fall-2021 \n",
    "# download necessary tools\n",
    "#!apt install autoconf autogen\n",
    "#!git clone https://github.com/vcftools/vcftools.git\n",
    "#!cd vcftools && ./autogen.sh && ./configure && make && make install\n",
    "#!git clone https://github.com/samtools/htslib.git\n",
    "#!cd htslib && autoheader && autoconf && ./configure && make && make install\n",
    "!chmod +x Fall-2021/bin/smartpca\n",
    "!chmod +x Fall-2021/bin/admixture\n",
    "!chmod +x Fall-2021/bin/tabix\n",
    "!chmod +x Fall-2021/bin/vcftools\n",
    "!cd Fall-2021/data/1000G_archaic/ && unzip 1000G_archaic.geno.zip\n",
    "!echo \"Packages installed\""
   ]
  },
  {
   "cell_type": "markdown",
   "metadata": {
    "id": "X5QbqUIhQsag"
   },
   "source": [
    "Obtain all necessary data from 1000 Genomes project (runtime: 5min)"
   ]
  },
  {
   "cell_type": "code",
   "execution_count": null,
   "metadata": {
    "colab": {
     "base_uri": "https://localhost:8080/"
    },
    "id": "J9v4RA4IPEGW",
    "outputId": "80921569-7cca-424f-e679-1d5fccf04e30"
   },
   "outputs": [],
   "source": [
    "# Download sample information\n",
    "!wget ftp://ftp.1000genomes.ebi.ac.uk/vol1/ftp/release/20130502/integrated_call_samples_v3.20130502.ALL.panel\n",
    "# Download vcf file\n",
    "#!wget ftp://ftp.1000genomes.ebi.ac.uk/vol1/ftp/release/20130502/ALL.chr17.phase3_shapeit2_mvncall_integrated_v5b.20130502.genotypes.vcf.gz\n",
    "# Download index file\n",
    "#!wget ftp://ftp.1000genomes.ebi.ac.uk/vol1/ftp/release/20130502/ALL.chr17.phase3_shapeit2_mvncall_integrated_v5b.20130502.genotypes.vcf.gz.tbi\n",
    "#Unpack human ancestral sequence. Useful for polarizing variants in ancestral and derived states\n",
    "!gunzip Fall-2021/data/1000G_archaic/homo_sapiens_ancestor_17.fa.gz\n",
    "# Move files to local directory\n",
    "#!mv ALL.chr17.phase3_shapeit2_mvncall_integrated_v5b.20130502.genotypes.vcf.gz /content/Fall-2021/data/1000G_archaic/\n",
    "#!mv ALL.chr17.phase3_shapeit2_mvncall_integrated_v5b.20130502.genotypes.vcf.gz.tbi /content/Fall-2021/data/1000G_archaic/\n",
    "!echo \"Data download completed\""
   ]
  },
  {
   "cell_type": "code",
   "execution_count": null,
   "metadata": {
    "id": "wuDs7KIdHqB6"
   },
   "outputs": [],
   "source": [
    "# load the libraries\n",
    "import matplotlib.pyplot as plt\n",
    "from collections import Counter\n",
    "import numpy as np\n",
    "import pandas as pd\n",
    "import colorsys\n",
    "import seaborn as sns\n",
    "from IPython.display import Image\n",
    "import os"
   ]
  },
  {
   "cell_type": "markdown",
   "metadata": {
    "id": "RcKfbjTvdanI"
   },
   "source": [
    "Define plotting functions"
   ]
  },
  {
   "cell_type": "code",
   "execution_count": null,
   "metadata": {
    "id": "Io8WDoS3MPpH"
   },
   "outputs": [],
   "source": [
    "# define plotting functions\n",
    "\n",
    "def plot_pcs(pcs, I, J, labels, indivs=None):\n",
    "    PCI = 'PC{}'.format(I)\n",
    "    PCJ = 'PC{}'.format(J)\n",
    "    plt.figure(figsize=(10,10))\n",
    "    colors = [\n",
    "        \"#7e1e9c\", \"#15b01a\", \"#0343df\", \"#ff81c0\",\"#653700\",\"#e50000\",\"#029386\",\n",
    "        \"#f97306\", \"#96f97b\", \"#c20078\", \"#ffff14\", \"#95d0fc\", \"#929591\",\n",
    "        \"#9a0eea\", \"#033500\", \"#00035b\",\"#06c2ac\", \"#d1b26f\",\"#d1b26f\",\"#d1b26f\",\n",
    "        \"#d1b26f\",\"#00ffff\",\"#650021\", \"#ffb07c\",\"#ff796c\",\"#36013f\",\"#c65102\",\n",
    "        \"#000000\", \"#c1f80a\",\"#4b5d16\",\"#0652ff\"]\n",
    "\n",
    "    print(len(np.unique(labels)))\n",
    "    for i, p in enumerate(np.unique(labels)):\n",
    "        pcs_p = pcs[labels==p]\n",
    "        plt.scatter(pcs_p[PCI], pcs_p[PCJ], label=p, color=colors[i])\n",
    "    plt.legend(loc=(1.04,0))\n",
    "    if indivs is not None:\n",
    "        for individual in indivs:\n",
    "            pcs_i = pcs[pcs.Sample==individual]\n",
    "            plt.annotate(individual, [pcs_i[PCI], pcs_i[PCJ]])\n",
    "            plt.plot(pcs_i[PCI], pcs_i[PCJ], 'o', color='black')\n",
    "    plt.xlabel(PCI)\n",
    "    plt.ylabel(PCJ);\n",
    "\n",
    "def plot_admixture(admixture, population_indices, population_labels):\n",
    "    plot = plt\n",
    "\n",
    "    N,K = admixture.shape\n",
    "    colors = [colorsys.hsv_to_rgb(h,0.9,0.7) for h in np.linspace(0,1,K+1)[:-1]]\n",
    "    text_color = 'k'\n",
    "    bg_color = 'w'\n",
    "    fontsize = 24\n",
    "\n",
    "    figure = plot.figure(figsize=(5,3))\n",
    "\n",
    "    xmin = 0.13\n",
    "    ymin = 0.2\n",
    "    height = 1.2#0.6\n",
    "    width = 1.5#0.74\n",
    "    indiv_width = width/N\n",
    "    subplot = figure.add_axes([xmin,ymin,width,height])\n",
    "    [spine.set_linewidth(0.001) for spine in subplot.spines.values()]\n",
    "\n",
    "    for k in np.arange(K):\n",
    "        if k:\n",
    "            bottoms = admixture[:,:k].sum(1)\n",
    "        else:\n",
    "            bottoms = np.zeros((N,),dtype=float)\n",
    "\n",
    "        lefts = np.arange(N)*indiv_width\n",
    "        subplot.bar(lefts, admixture[:,k], width=indiv_width, bottom=bottoms, facecolor=colors[k], edgecolor=colors[k], linewidth=0.4)\n",
    "\n",
    "        subplot.axis([0, N*indiv_width, 0, 1])\n",
    "        subplot.tick_params(axis='both', top=False, right=False, left=False, bottom=False)\n",
    "        xtick_labels = tuple(map(str,['']*N))\n",
    "        subplot.set_xticklabels(xtick_labels)\n",
    "        ytick_labels = tuple(map(str,['']*K))\n",
    "        subplot.set_yticklabels(ytick_labels)\n",
    "\n",
    "    for p,popname in enumerate(population_labels):\n",
    "        indices = np.where(population_indices==p)[0]\n",
    "        if indices.size>0:\n",
    "            vline_pos = (indices.max()+1)*indiv_width \n",
    "            subplot.axvline(vline_pos, linestyle='-', linewidth=0.2, c='#888888')\n",
    "            label_position = (xmin+(2*indices.min()+indices.size)*0.5*indiv_width, ymin-0.01)\n",
    "            figure.text(label_position[0], label_position[1], popname, fontsize=12, color='k', \\\n",
    "                horizontalalignment='right', verticalalignment='top', rotation=70)\n",
    "\n",
    "    return figure\n",
    "\n",
    "def plot_admix_individual(admix, individual):\n",
    "    K = admix.shape[1]\n",
    "    colors = [colorsys.hsv_to_rgb(h,0.9,0.7) for h in np.linspace(0,1,K+1)[:-1]]\n",
    "    plt.pie(admix[individuals.individual==individual][0], colors=colors)\n",
    "    plt.title(individual);\n",
    "\n",
    "def plot_window_assignment(window_assignment):\n",
    "    plt.scatter(np.arange(len(window_assignment)), window_assignment, s=8)\n",
    "    plt.xlabel('window')\n",
    "    plt.yticks([0,1], ['Human', 'Archaic'])"
   ]
  },
  {
   "cell_type": "code",
   "execution_count": null,
   "metadata": {
    "colab": {
     "base_uri": "https://localhost:8080/"
    },
    "id": "BzaSNde0YLPb",
    "outputId": "d0d3b8fd-b65c-4a85-f161-ba3fe2565bee"
   },
   "outputs": [],
   "source": [
    "# set current directory\n",
    "%cd Fall-2021/data/1000G_archaic/"
   ]
  },
  {
   "cell_type": "markdown",
   "metadata": {
    "id": "y-2H_3oE7HY0"
   },
   "source": [
    "#### 1000 Genomes Populations and 3 letter codes. \n",
    "For reference, see population_info.csv"
   ]
  },
  {
   "cell_type": "code",
   "execution_count": null,
   "metadata": {
    "colab": {
     "base_uri": "https://localhost:8080/"
    },
    "id": "6GYcQn5axpaz",
    "outputId": "436ea1ae-86c6-4419-b884-4a65e9670b01"
   },
   "outputs": [],
   "source": [
    "%%writefile population_info.csv\n",
    "population,description,super_population\n",
    "CHB,Han Chinese in Beijing China,EAS\n",
    "JPT,Japanese in Tokyo - Japan,EAS\n",
    "CHS,Southern Han Chinese,EAS\n",
    "CDX,Chinese Dai in Xishuangbanna - China,EAS\n",
    "KHV,Kinh in Ho Chi Minh City - Vietnam,EAS\n",
    "CEU,Utah Residents (CEPH) with Northern and Western European Ancestry,EUR\n",
    "TSI,Toscani in Italia,EUR\n",
    "FIN,Finnish in Finland,EUR\n",
    "GBR,British in England and Scotland,EUR\n",
    "IBS,Iberian Population in Spain,EUR\n",
    "YRI,Yoruba in Ibadan - Nigeria,AFR\n",
    "LWK,Luhya in Webuye - Kenya,AFR\n",
    "GWD,Gambian in Western Divisions in the Gambia,AFR\n",
    "MSL,Mende in Sierra Leone,AFR\n",
    "ESN,Esan in Nigeria,AFR\n",
    "ASW,Americans of African Ancestry in SW USA,AFR\n",
    "ACB,African Caribbeans in Barbados,AFR\n",
    "MXL,Mexican Ancestry from Los Angeles USA,AMR\n",
    "PUR,Puerto Ricans from Puerto Rico,AMR\n",
    "CLM,Colombians from Medellin - Colombia,AMR\n",
    "PEL,Peruvians from Lima - Peru,AMR\n",
    "GIH,Gujarati Indian from Houston - Texas,SAS\n",
    "PJL,Punjabi from Lahore - Pakistan,SAS\n",
    "BEB,Bengali from Bangladesh,SAS\n",
    "STU,Sri Lankan Tamil from the UK,SAS\n",
    "ITU,Indian Telugu from the UK,SAS"
   ]
  },
  {
   "cell_type": "code",
   "execution_count": null,
   "metadata": {
    "id": "U6YYN2pAQsaj"
   },
   "outputs": [],
   "source": [
    "# Read the individual file. For more information about file formats, refer to: https://reich.hms.harvard.edu/software/InputFileFormats \n",
    "individuals = pd.read_csv('1000G_archaic.ind', delim_whitespace=True, header=None, names=['individual', 'sex', 'population'])"
   ]
  },
  {
   "cell_type": "code",
   "execution_count": null,
   "metadata": {
    "id": "fiS6G_lUQsak"
   },
   "outputs": [],
   "source": [
    "population_info = pd.read_csv('population_info.csv')"
   ]
  },
  {
   "cell_type": "code",
   "execution_count": null,
   "metadata": {
    "id": "n9aPlpZAzCmo"
   },
   "outputs": [],
   "source": [
    "individuals = individuals.merge(population_info, on='population', how='left').fillna('Archaic')\n",
    "individuals.at[2505, 'population'] = 'Archaic'\n",
    "individuals.at[2504, 'population'] = 'Archaic'"
   ]
  },
  {
   "cell_type": "code",
   "execution_count": null,
   "metadata": {
    "colab": {
     "base_uri": "https://localhost:8080/",
     "height": 419
    },
    "id": "PFEBms_CZiC_",
    "outputId": "04061d8b-8a07-4ca6-e6a3-6929a84e4fdf"
   },
   "outputs": [],
   "source": [
    "individuals"
   ]
  },
  {
   "cell_type": "markdown",
   "metadata": {
    "id": "xEtjhAlnQsak"
   },
   "source": [
    "**1000 Genomes superpopulations:** <br>\n",
    "&emsp;&emsp;AFR = Africa<br>\n",
    "&emsp;&emsp;EUR = Europe<br>\n",
    "&emsp;&emsp;SAS = South Asia<br>\n",
    "&emsp;&emsp;EAS = East Asia<br>\n",
    "&emsp;&emsp;AMR = Americas<br>\n",
    "&emsp;&emsp;Archaic = Neanderthal/ Denisova"
   ]
  },
  {
   "cell_type": "code",
   "execution_count": null,
   "metadata": {
    "id": "muGCmSsdyIsn"
   },
   "outputs": [],
   "source": [
    "individuals.population = individuals.population.astype('category')\n",
    "individuals.super_population = pd.Categorical(\n",
    "    individuals.super_population, \n",
    "    categories=['AFR', 'EUR', 'SAS', 'EAS', 'AMR', 'Archaic'],\n",
    "    ordered=True)"
   ]
  },
  {
   "cell_type": "code",
   "execution_count": null,
   "metadata": {
    "id": "TbZLNt-ftSEq"
   },
   "outputs": [],
   "source": [
    "# sort individuals by population\n",
    "individuals = individuals.sort_values(['super_population', 'population'])"
   ]
  },
  {
   "cell_type": "code",
   "execution_count": null,
   "metadata": {
    "id": "3BcD_bPYtaBW"
   },
   "outputs": [],
   "source": [
    "# order individual indexes\n",
    "order = individuals.index"
   ]
  },
  {
   "cell_type": "code",
   "execution_count": null,
   "metadata": {
    "id": "xEScE5wG7fJY"
   },
   "outputs": [],
   "source": [
    "# Set my_individual's continental group\n",
    "my_individual_index = np.where(individuals.individual==my_individual)[0][0]\n",
    "my_continental_group = individuals.iloc[my_individual_index].super_population"
   ]
  },
  {
   "cell_type": "code",
   "execution_count": null,
   "metadata": {
    "id": "Bc2FdZTmF0pc"
   },
   "outputs": [],
   "source": [
    "snps = pd.read_csv('1000G_archaic.snp', delim_whitespace=True, header=None, names=['id', 'chr', 'recomb. rate', 'position', 'allele 1', 'allele 2'])"
   ]
  },
  {
   "cell_type": "code",
   "execution_count": null,
   "metadata": {
    "colab": {
     "base_uri": "https://localhost:8080/",
     "height": 307
    },
    "id": "bUrJwelIWZWc",
    "outputId": "8612f008-581c-4278-9e36-84f4c89e9c75"
   },
   "outputs": [],
   "source": [
    "genotypes = pd.read_fwf('1000G_archaic.geno', widths=np.ones(2506, dtype=int).tolist(), header=None)"
   ]
  },
  {
   "cell_type": "markdown",
   "metadata": {
    "id": "uCzNkBdw20-Y"
   },
   "source": [
    "# Principal Component Analysis (PCA)\n",
    "\n",
    "Patterson, Nick, Alkes L. Price, and David Reich. \"Population structure and eigenanalysis.\" PLoS genetics 2.12 (2006): e190.\n",
    "\n",
    "https://journals.plos.org/plosgenetics/article?id=10.1371/journal.pgen.0020190\n",
    "\n",
    "Software documentation: https://github.com/DReichLab/EIG/tree/master/POPGEN\n",
    "\n",
    "Usage: `!../../bin/smartpca -p 1000G_archaic.smartpca.par`"
   ]
  },
  {
   "cell_type": "code",
   "execution_count": null,
   "metadata": {
    "id": "Hvk0eGDpjIFu"
   },
   "outputs": [],
   "source": [
    "# Parameter file (1000G_archaic.smartpca.par)\n",
    "%%writefile 1000G_archaic.smartpca.par\n",
    "genotypename: 1000G_archaic.geno     # file with genotype information\n",
    "snpname:      1000G_archaic.snp      # file with snp information\n",
    "indivname:    1000G_archaic.ind      # file with individual information   \n",
    "#poplistname:  1000G_archaic.pop.list # list of pops to include in the run.\n",
    "outliermode: 2\n",
    "evecoutname:  1000G_archaic.evec     # output file of eigenvectors.\n",
    "evaloutname:  1000G_archaic.eval     # output file of all eigenvalues\n",
    "snpweightoutname: 1000G_archaic.Weightout.txt\n",
    "phylipname:   1000G_archaic.phyl     # file with Fst values across populations \n",
    "numoutevec:   20               # number of PCs to output \n",
    "numthreads:   1                # if running interactively, use 1 only"
   ]
  },
  {
   "cell_type": "markdown",
   "metadata": {
    "id": "SAJLlPz6Qsam"
   },
   "source": [
    "**Run smartpca**"
   ]
  },
  {
   "cell_type": "code",
   "execution_count": null,
   "metadata": {
    "id": "hGLPZ1x4B4QM"
   },
   "outputs": [],
   "source": [
    "# %%capture\n",
    "!../../bin/smartpca -p 1000G_archaic.smartpca.par"
   ]
  },
  {
   "cell_type": "markdown",
   "metadata": {
    "id": "MIlXkHm0Qsam"
   },
   "source": [
    "Display results - evec file. File contains loadings for each individual on the 20 PCs. <br>https://github.com/DReichLab/EIG/tree/master/POPGEN"
   ]
  },
  {
   "cell_type": "code",
   "execution_count": null,
   "metadata": {
    "id": "LZKn94v_HcWd"
   },
   "outputs": [],
   "source": [
    "n_pcs = 20\n",
    "pcs = pd.read_csv('1000G_archaic.evec', skiprows=1, header=None, delim_whitespace=True,\n",
    "                       names=['Sample']+['PC'+str(i+1) for i in range(n_pcs)]+['population'])\n",
    "pcs = pcs.merge(population_info, on='population', how='left').fillna('Archaic')\n",
    "pcs.head()"
   ]
  },
  {
   "cell_type": "code",
   "execution_count": null,
   "metadata": {
    "id": "HRIkaSppamOS"
   },
   "outputs": [],
   "source": [
    "# Plot the top two PCs. Population labels = super_population\n",
    "plot_pcs(pcs, 1, 2, pcs.super_population, [my_individual])\n",
    "#setting my_individual as an archaic, can see how it clusters relative to humans"
   ]
  },
  {
   "cell_type": "code",
   "execution_count": null,
   "metadata": {
    "id": "-tsPvRFRcE3K"
   },
   "outputs": [],
   "source": [
    "# Plot the top two PCs. Population labels = population\n",
    "plot_pcs(pcs, 1, 2, pcs.population, [my_individual])"
   ]
  },
  {
   "cell_type": "markdown",
   "metadata": {
    "id": "xvbWIXLWQsan"
   },
   "source": [
    "Display eigenvalues. https://github.com/DReichLab/EIG/tree/master/POPGEN"
   ]
  },
  {
   "cell_type": "code",
   "execution_count": null,
   "metadata": {
    "id": "Yw5_lR12Xioa"
   },
   "outputs": [],
   "source": [
    "eigenvalues = np.loadtxt('1000G_archaic.eval')\n",
    "plt.plot(np.arange(1, 21), eigenvalues[:20])\n",
    "plt.xticks(np.arange(1, 21));\n",
    "plt.xlabel('eigenvalue rank')\n",
    "plt.ylabel('eigenvalue');\n",
    "#remove these plots? Showed them last time"
   ]
  },
  {
   "cell_type": "markdown",
   "metadata": {
    "id": "373nHRWGQsan"
   },
   "source": [
    "Display %variance explained"
   ]
  },
  {
   "cell_type": "code",
   "execution_count": null,
   "metadata": {
    "id": "txrbQ-b_ZMsQ"
   },
   "outputs": [],
   "source": [
    "eigenvalues = np.loadtxt('1000G_archaic.eval')\n",
    "plt.plot(np.arange(1, 21), 100 * eigenvalues[:20] / eigenvalues.sum())\n",
    "plt.xticks(np.arange(1, 21));\n",
    "plt.xlabel('eigenvalue rank')\n",
    "plt.ylabel('percent variance explained');"
   ]
  },
  {
   "cell_type": "markdown",
   "metadata": {
    "id": "fgxIdayESsTF"
   },
   "source": [
    "# Admixture analysis\n",
    "\n",
    "Alexander, David H., John Novembre, and Kenneth Lange. \"Fast model-based estimation of ancestry in unrelated individuals.\" Genome research 19.9 (2009): 1655-1664.\n",
    "\n",
    "https://genome.cshlp.org/content/19/9/1655.full\n",
    "\n",
    "Software documentation: http://www.genetics.ucla.edu/software/admixture/admixture-manual.pdf\n",
    "\n",
    "Usage: \n",
    "\n",
    "```!../../bin/admixture --cv 1000G_archaic.bed K```\n",
    "\n",
    "where K = number of clusters"
   ]
  },
  {
   "cell_type": "markdown",
   "metadata": {
    "id": "Yc_gpgHIQsao"
   },
   "source": [
    "Running ADMIXTURE with K=2 clusters (runtime: ~4m)"
   ]
  },
  {
   "cell_type": "code",
   "execution_count": null,
   "metadata": {
    "id": "2kdHsi22hE_J"
   },
   "outputs": [],
   "source": [
    "!../../bin/admixture --cv 1000G_archaic.bed 2"
   ]
  },
  {
   "cell_type": "markdown",
   "metadata": {
    "id": "GAqsf12gQsao"
   },
   "source": [
    "Each line in the output of ADMIXTURE contains the probability of an individual belonging to each cluster - not be to confused with ancestry proportion."
   ]
  },
  {
   "cell_type": "code",
   "execution_count": null,
   "metadata": {
    "id": "Wz9icLAkMML5"
   },
   "outputs": [],
   "source": [
    "admix = pd.read_csv('1000G_archaic.2.Q', ' ', header=None).values[order]\n",
    "admix"
   ]
  },
  {
   "cell_type": "markdown",
   "metadata": {
    "id": "VgdHIbtHQsao"
   },
   "source": [
    "Admixture plot where each color represents one cluster"
   ]
  },
  {
   "cell_type": "code",
   "execution_count": null,
   "metadata": {
    "id": "xRm6ymQin2c3"
   },
   "outputs": [],
   "source": [
    "plot_admixture(admix, individuals.super_population.cat.codes, individuals.super_population.cat.categories);"
   ]
  },
  {
   "cell_type": "markdown",
   "metadata": {
    "id": "vuA9SF4DQsao"
   },
   "source": [
    "Admixture plot with subcontinental ancestry"
   ]
  },
  {
   "cell_type": "code",
   "execution_count": null,
   "metadata": {
    "id": "uxWC8jKdd_7a"
   },
   "outputs": [],
   "source": [
    "plot_admixture(admix, individuals.population.cat.codes, individuals.population.cat.categories);"
   ]
  },
  {
   "cell_type": "code",
   "execution_count": null,
   "metadata": {
    "id": "8fIo4Cm0m7lG"
   },
   "outputs": [],
   "source": [
    "# Admixture output for Altai Neanderthal. \n",
    "plot_admix_individual(admix, 'Altai')"
   ]
  },
  {
   "cell_type": "code",
   "execution_count": null,
   "metadata": {
    "id": "TUqSnQXTm915"
   },
   "outputs": [],
   "source": [
    "# Admixture output for Denisova. \n",
    "plot_admix_individual(admix, 'Denisova')"
   ]
  },
  {
   "cell_type": "markdown",
   "metadata": {
    "id": "mTLZCQRcQsap"
   },
   "source": [
    "For K=3,4,5,6 results have been precomputed, we can just load them. <br>Display output of ADMIXTURE (K=3)"
   ]
  },
  {
   "cell_type": "code",
   "execution_count": null,
   "metadata": {
    "id": "X8DenkTBlopX"
   },
   "outputs": [],
   "source": [
    "admix = pd.read_csv('1000G_archaic.3.Q', ' ', header=None).values[order]\n",
    "plot_admixture(admix, individuals.population.cat.codes, individuals.population.cat.categories);"
   ]
  },
  {
   "cell_type": "markdown",
   "metadata": {
    "id": "RKjx89DUQsap"
   },
   "source": [
    "### Stop! Check your understanding\n",
    "1. What are the (rough) probabilities that an individual with Mexican ancestry belongs to the blue, green, and red clusters? "
   ]
  },
  {
   "cell_type": "code",
   "execution_count": null,
   "metadata": {
    "id": "PLDyReANnRm7"
   },
   "outputs": [],
   "source": [
    "# Admixture output for the current individual (K=3)\n",
    "plot_admix_individual(admix, my_individual)"
   ]
  },
  {
   "cell_type": "code",
   "execution_count": null,
   "metadata": {
    "id": "VhaT6PXpQsap"
   },
   "outputs": [],
   "source": [
    "# Admixture output for Altai Neanderthal. \n",
    "plot_admix_individual(admix, 'Altai')"
   ]
  },
  {
   "cell_type": "code",
   "execution_count": null,
   "metadata": {
    "id": "fFvoukSqQsap"
   },
   "outputs": [],
   "source": [
    "# Admixture output for Denisova. \n",
    "plot_admix_individual(admix, 'Denisova')"
   ]
  },
  {
   "cell_type": "markdown",
   "metadata": {
    "id": "kVyankQeQsap"
   },
   "source": [
    "Display output of ADMIXTURE (K=4)"
   ]
  },
  {
   "cell_type": "code",
   "execution_count": null,
   "metadata": {
    "id": "_Zq_LMk-rve7"
   },
   "outputs": [],
   "source": [
    "admix = pd.read_csv('1000G_archaic.4.Q', ' ', header=None).values[order]\n",
    "plot_admixture(admix, individuals.population.cat.codes, individuals.population.cat.categories);"
   ]
  },
  {
   "cell_type": "code",
   "execution_count": null,
   "metadata": {
    "id": "VpqgQLKQncZw"
   },
   "outputs": [],
   "source": [
    "# Admixture output for the current individual (K=4)\n",
    "plot_admix_individual(admix, 'Altai')"
   ]
  },
  {
   "cell_type": "code",
   "execution_count": null,
   "metadata": {
    "id": "kt0cJ9Vo_Cml"
   },
   "outputs": [],
   "source": [
    "plot_admix_individual(admix, 'Denisova')"
   ]
  },
  {
   "cell_type": "markdown",
   "metadata": {
    "id": "cnKZm4c7Qsap"
   },
   "source": [
    "Display output of ADMIXTURE (K=5)"
   ]
  },
  {
   "cell_type": "code",
   "execution_count": null,
   "metadata": {
    "id": "0K5XM7EY-fQg"
   },
   "outputs": [],
   "source": [
    "admix = pd.read_csv('1000G_archaic.5.Q', ' ', header=None).values[order]\n",
    "plot_admixture(admix, individuals.population.cat.codes, individuals.population.cat.categories);"
   ]
  },
  {
   "cell_type": "code",
   "execution_count": null,
   "metadata": {
    "id": "HUsAWxb5ne7x"
   },
   "outputs": [],
   "source": [
    "# Admixture output for the current individual (K=5)\n",
    "plot_admix_individual(admix, 'Altai')"
   ]
  },
  {
   "cell_type": "code",
   "execution_count": null,
   "metadata": {
    "id": "XlqieL0x_HdL"
   },
   "outputs": [],
   "source": [
    "plot_admix_individual(admix, 'Denisova')"
   ]
  },
  {
   "cell_type": "markdown",
   "metadata": {
    "id": "SUFf98_HQsaq"
   },
   "source": [
    "Display output of ADMIXTURE (K=6)"
   ]
  },
  {
   "cell_type": "code",
   "execution_count": null,
   "metadata": {
    "id": "HrzfuyEW-443"
   },
   "outputs": [],
   "source": [
    "admix = pd.read_csv('1000G_archaic.6.Q', ' ', header=None).values[order]\n",
    "plot_admixture(admix, individuals.population.cat.codes, individuals.population.cat.categories);"
   ]
  },
  {
   "cell_type": "code",
   "execution_count": null,
   "metadata": {
    "id": "xh-KnvVDnhTa"
   },
   "outputs": [],
   "source": [
    "# Admixture output for the current individual (K=6)\n",
    "plot_admix_individual(admix, 'Altai')"
   ]
  },
  {
   "cell_type": "code",
   "execution_count": null,
   "metadata": {
    "id": "RzemMm26_LKE"
   },
   "outputs": [],
   "source": [
    "plot_admix_individual(admix, 'Denisova')"
   ]
  },
  {
   "cell_type": "code",
   "execution_count": null,
   "metadata": {
    "id": "JszSe8Ypo_r3"
   },
   "outputs": [],
   "source": []
  },
  {
   "cell_type": "markdown",
   "metadata": {
    "id": "ULFBCDmESw4c"
   },
   "source": [
    "# Analysis of archaic introgression\n",
    "\n",
    "Skov, Laurits, et al. \"Detecting archaic introgression using an unadmixed outgroup.\" PLoS genetics 14.9 (2018): e1007641.\n",
    "\n",
    "https://journals.plos.org/plosgenetics/article?id=10.1371/journal.pgen.1007641\n",
    "\n",
    "Software: https://github.com/LauritsSkov/Introgression-detection\n",
    "\n",
    "####Key Steps:\n",
    "###### Estimate the average mutation rate per individual (removing variants observed in outgroup)\n",
    "`!python2 ../../bin/Estimate_mutationrate.py outgroup_freqfile windowsize window_offset mask_file outputfile\n",
    "\n",
    "###### Train the HMM to infer the maximum likelihood parameters per individual\n",
    "`!python2 ../../bin/Train.py infile outprefix model weights_file mutfile`\n",
    "\n",
    "###### Decode the HMM to infer posterior probability of archaic ancestry in each window\n",
    "`!python2 ../../bin/Decode.py infile outprefix model weights_file mutfile window_size`"
   ]
  },
  {
   "cell_type": "code",
   "execution_count": null,
   "metadata": {
    "colab": {
     "base_uri": "https://localhost:8080/",
     "height": 517
    },
    "id": "qHmmEIk6a2xP",
    "outputId": "c654436c-4f51-4112-ff63-61459c997b5a"
   },
   "outputs": [],
   "source": [
    "# Main idea for identifying segments of archaic ancestry\n",
    "Image(filename='hmm-skov-2.png', height=500)"
   ]
  },
  {
   "cell_type": "code",
   "execution_count": null,
   "metadata": {
    "colab": {
     "base_uri": "https://localhost:8080/",
     "height": 517
    },
    "id": "hqTW4DkOgUgW",
    "outputId": "1e6f6de3-66d7-4e6c-9af0-ebd0912f45ae"
   },
   "outputs": [],
   "source": [
    "# Key steps in analysis\n",
    "Image(filename='hmm-skov-3.png', height=500)"
   ]
  },
  {
   "cell_type": "markdown",
   "metadata": {
    "id": "13STbEPMQsar"
   },
   "source": [
    "#### Estimate the average mutation rate per individual (removing variants observed in outgroup) (runtime: 10min)"
   ]
  },
  {
   "cell_type": "code",
   "execution_count": null,
   "metadata": {
    "id": "GsEgaFA7Y7Cm"
   },
   "outputs": [],
   "source": [
    "#set chr\n",
    "chr='17'"
   ]
  },
  {
   "cell_type": "code",
   "execution_count": null,
   "metadata": {
    "colab": {
     "base_uri": "https://localhost:8080/"
    },
    "id": "Oe2AlzIoO1nM",
    "outputId": "1baaf35d-2f99-40c6-d492-a808ad9c0b15"
   },
   "outputs": [],
   "source": [
    "# Make a list of outgroups (here, 1000G African populations YRI, ESN and MSL)\n",
    "!cat ../../../integrated_call_samples_v3.20130502.ALL.panel | grep -E \"YRI|ESN|MSL\" | cut -f 1 > outgroups.txt\n",
    "\n",
    "# Estimate the frequency of variants in outgroup. Note, chr*bed contains accessible sites and chr*txt proportion of accessible sites per window.\n",
    "!../../bin/tabix -h ALL.chr17.phase3_shapeit2_mvncall_integrated_v5b.20130502.genotypes_subset.recode.vcf.gz -B chr17.bed | ../../bin/vcftools --vcf - --counts --stdout --keep outgroups.txt --remove-indels --min-alleles 2 --max-alleles 2 > chr{chr}_subset.freq\n",
    "\n",
    "# Estimate the average mutation rate in windows of 1MB with offset of 1000 bp. Choice of 1MB is based on diversity patterns in humans. see http://journals.plos.org/plosgenetics/article?id=10.1371/journal.pgen.1007254\n",
    "!python2 ../../bin/Estimate_mutationrate.py chr{chr}_subset.freq 1000000 1000 chr{chr}_subset.txt chr{chr}_subset.mut\n",
    "\n",
    "# Estimate SNP density in the assigned individual. Remove variants seen in outgroups.\n",
    "!../../bin/tabix -fh ALL.chr17.phase3_shapeit2_mvncall_integrated_v5b.20130502.genotypes_subset.recode.vcf.gz -B chr17.bed | ../../bin/vcftools --vcf - --indv {my_individual} --remove-indels --min-alleles 2 --max-alleles 2 --stdout --counts | python2 ../../bin/Filtervariants.py homo_sapiens_ancestor_17.fa chr{chr}_subset.freq 1000 chr{chr}_subset.txt {my_individual}.chr{chr}_subset.observations.txt\n",
    "!echo \"Average mutation rates estimated\""
   ]
  },
  {
   "cell_type": "markdown",
   "metadata": {
    "id": "QBhnfkjVQsar"
   },
   "source": [
    "Define initial parameters for the HMM"
   ]
  },
  {
   "cell_type": "code",
   "execution_count": null,
   "metadata": {
    "colab": {
     "base_uri": "https://localhost:8080/"
    },
    "id": "mzLDxfxed6J2",
    "outputId": "86ff5523-f7ed-44a7-f0bd-9168535fd444"
   },
   "outputs": [],
   "source": [
    "%%writefile StartingParameters.hmm\n",
    "# State names (only used for decoding)\n",
    "states = ['Human','Archaic']\n",
    "\n",
    "# Initialization parameters (prob of staring in states)\n",
    "starting_probabilities = [0.98, 0.02]\n",
    "\n",
    "# transition matrix\n",
    "transitions = [[0.9995,0.0005],[0.02,0.98]]\n",
    "\n",
    "# emission matrix (poisson parameter)\n",
    "emissions = [0.04, 0.1]"
   ]
  },
  {
   "cell_type": "markdown",
   "metadata": {
    "id": "k6blVdk5Qsar"
   },
   "source": [
    "#### Train the HMM to infer the maximum likelihood parameters per individual (runtime: 1min)"
   ]
  },
  {
   "cell_type": "code",
   "execution_count": null,
   "metadata": {
    "colab": {
     "base_uri": "https://localhost:8080/"
    },
    "id": "bPBmBIDNe1OH",
    "outputId": "9646315d-f031-434f-97f1-632d6ecdcba5"
   },
   "outputs": [],
   "source": [
    "# The model will create two output files. One logfile with the likelihood of the model for each iteration \n",
    "# and {my_individual}}_trained.hmm which is the same format as StartingParameters.hmm (just with the parameters that optimize the likelihood).\n",
    "!python2 ../../bin/Train.py {my_individual}.chr{chr}_subset.observations.txt {my_individual}_trained StartingParameters.hmm chr{chr}_subset.txt chr{chr}_subset.mut"
   ]
  },
  {
   "cell_type": "code",
   "execution_count": null,
   "metadata": {
    "colab": {
     "base_uri": "https://localhost:8080/"
    },
    "id": "-V2gFhqXe8Rq",
    "outputId": "6aaa88da-4c47-42d1-c1c8-caa8447e258d"
   },
   "outputs": [],
   "source": [
    "# Display trained parameters\n",
    "!cat {my_individual}_trained.hmm"
   ]
  },
  {
   "cell_type": "markdown",
   "metadata": {
    "id": "-xiiTScKQsar"
   },
   "source": [
    "#### Decode the HMM to infer posterior probability of archaic ancestry in each window"
   ]
  },
  {
   "cell_type": "code",
   "execution_count": null,
   "metadata": {
    "id": "VPXOdt_HfCva"
   },
   "outputs": [],
   "source": [
    "# set of trained parameters that maximize the likelihood to estimate the posterior probability of archaic ancestry in each window\n",
    "# This will also produce two files. One {my_individual}_decoded.Summary which is like a bedfile and tell you what part of the sequence belong to different states. It also tells you how many snps that are in each segment and what the average posterior probability for being in that segment is. \n",
    "# The other output file is {my_individual}_decoded.All_posterior_probs.txt and this is a window by window assignment to each state.\n",
    "!python2 ../../bin/Decode.py {my_individual}.chr{chr}_subset.observations.txt decoded {my_individual}_trained.hmm chr{chr}_subset.txt chr{chr}_subset.mut 1000"
   ]
  },
  {
   "cell_type": "markdown",
   "metadata": {
    "id": "n2xNnVAUhJ_s"
   },
   "source": [
    "#### Plot the output"
   ]
  },
  {
   "cell_type": "code",
   "execution_count": null,
   "metadata": {
    "colab": {
     "base_uri": "https://localhost:8080/",
     "height": 204
    },
    "id": "TRUBtW06SJIE",
    "outputId": "381dd7f8-3474-404c-eafb-5f88c6b135bb"
   },
   "outputs": [],
   "source": [
    "# Inference for every 1000bp window\n",
    "posterior_probs = pd.read_csv('decoded.All_posterior_probs.txt', '\\t')\n",
    "posterior_probs.head()"
   ]
  },
  {
   "cell_type": "code",
   "execution_count": null,
   "metadata": {
    "colab": {
     "base_uri": "https://localhost:8080/",
     "height": 173
    },
    "id": "-jF0BTvnr6MD",
    "outputId": "0451a1e3-8cef-4f1f-e1e4-09878dcce0df"
   },
   "outputs": [],
   "source": [
    "posterior_probs[posterior_probs.observations>0][:4]"
   ]
  },
  {
   "cell_type": "markdown",
   "metadata": {
    "id": "rQShuy0zQsas"
   },
   "source": [
    "The most likeliy assignment of ancestry to the whole chromosome, split into contiguous segments of same ancestry"
   ]
  },
  {
   "cell_type": "code",
   "execution_count": null,
   "metadata": {
    "colab": {
     "base_uri": "https://localhost:8080/",
     "height": 204
    },
    "id": "qX6xeGKvH3Zq",
    "outputId": "96fc9c99-01bc-4bb6-9f18-c6976e62214f"
   },
   "outputs": [],
   "source": [
    "decoded_summary = pd.read_csv('decoded.Summary.txt', '\\t')\n",
    "decoded_summary.head()"
   ]
  },
  {
   "cell_type": "markdown",
   "metadata": {
    "id": "6UbpWasaQsas"
   },
   "source": [
    "Obtain the windows ancestry assignment"
   ]
  },
  {
   "cell_type": "code",
   "execution_count": null,
   "metadata": {
    "id": "2-qULIPHqU10"
   },
   "outputs": [],
   "source": [
    "window_assignment = (posterior_probs.Mostlikely=='Archaic')"
   ]
  },
  {
   "cell_type": "markdown",
   "metadata": {
    "id": "K2aKz9vcQsas"
   },
   "source": [
    "### Stop! Check your understanding\n",
    "1. How many regions are assigned as 'most likely Archaic'?\n",
    "2. What is the mean length of 'Archaic' segments on this chromosome?"
   ]
  },
  {
   "cell_type": "code",
   "execution_count": null,
   "metadata": {
    "id": "N2yHHSj4Yu40"
   },
   "outputs": [],
   "source": []
  },
  {
   "cell_type": "code",
   "execution_count": null,
   "metadata": {
    "id": "qUtEN7axU1zN"
   },
   "outputs": [],
   "source": []
  },
  {
   "cell_type": "code",
   "execution_count": null,
   "metadata": {
    "colab": {
     "base_uri": "https://localhost:8080/",
     "height": 279
    },
    "id": "FnderQdDsjvR",
    "outputId": "3e2f57fc-34a3-4dc9-d289-115f5e682a7d"
   },
   "outputs": [],
   "source": [
    "# Plot the assignment of the whole chromosome\n",
    "plot_window_assignment(window_assignment)"
   ]
  },
  {
   "cell_type": "code",
   "execution_count": null,
   "metadata": {
    "id": "DOri8-tPjPYd"
   },
   "outputs": [],
   "source": [
    "# Obtain number of observations per window of Human or Archaic ancestry\n",
    "obs_human = posterior_probs.observations[posterior_probs.Mostlikely=='Human']\n",
    "obs_archaic = posterior_probs.observations[posterior_probs.Mostlikely=='Archaic']\n",
    "max_human = obs_human.max()\n",
    "max_archaic = obs_archaic.max()"
   ]
  },
  {
   "cell_type": "code",
   "execution_count": null,
   "metadata": {
    "colab": {
     "base_uri": "https://localhost:8080/",
     "height": 295
    },
    "id": "0TA1U3OqjKTY",
    "outputId": "cb0a6c7e-bd58-41b0-be6d-db4a185e546d"
   },
   "outputs": [],
   "source": [
    "# Plot the number of variants per window of human ancestry\n",
    "plt.bar(np.arange(max_human+1), [(obs_human==i).mean() for i in range(max_human+1)]);\n",
    "plt.xticks(np.arange(max_human+1));\n",
    "plt.xlabel('Number of variants')\n",
    "plt.ylabel('Proportion')\n",
    "plt.title('Histogram of number of variants per window of Human ancestry');"
   ]
  },
  {
   "cell_type": "code",
   "execution_count": null,
   "metadata": {
    "colab": {
     "base_uri": "https://localhost:8080/",
     "height": 295
    },
    "id": "ylt38w6bkAyx",
    "outputId": "2e09414e-1b0e-444f-b10d-73a4b21ca9ef"
   },
   "outputs": [],
   "source": [
    "# Plot the number of variants per window of archaic ancestry\n",
    "plt.bar(np.arange(max_archaic+1), [(obs_archaic==i).mean() for i in range(max_archaic+1)]);\n",
    "plt.xticks(np.arange(max_archaic+1));\n",
    "plt.xlabel('Number of variants')\n",
    "plt.ylabel('Proportion')\n",
    "plt.title('Histogram of number of variants per window of Archaic ancestry');"
   ]
  },
  {
   "cell_type": "markdown",
   "metadata": {
    "id": "EX7EtgIELYI6"
   },
   "source": [
    "#### Pre-generated results for chr17"
   ]
  },
  {
   "cell_type": "code",
   "execution_count": null,
   "metadata": {
    "id": "Zx_WYSJtLcvx"
   },
   "outputs": [],
   "source": [
    "# REPLACE with your individual\n",
    "my_individual = 'HG01149'"
   ]
  },
  {
   "cell_type": "markdown",
   "metadata": {
    "id": "wOM5cUDcMaC7"
   },
   "source": [
    "Define initial parameters for the HMM"
   ]
  },
  {
   "cell_type": "code",
   "execution_count": null,
   "metadata": {
    "colab": {
     "base_uri": "https://localhost:8080/"
    },
    "id": "iCKf76CPMc4E",
    "outputId": "9683897a-3699-451f-cfbe-ceebc67c61b7"
   },
   "outputs": [],
   "source": [
    "%%writefile StartingParameters.hmm\n",
    "# State names (only used for decoding)\n",
    "states = ['Human','Archaic']\n",
    "\n",
    "# Initialization parameters (prob of staring in states)\n",
    "starting_probabilities = [0.98, 0.02]\n",
    "\n",
    "# transition matrix\n",
    "transitions = [[0.9995,0.0005],[0.02,0.98]]\n",
    "\n",
    "# emission matrix (poisson parameter)\n",
    "emissions = [0.04, 0.1]"
   ]
  },
  {
   "cell_type": "markdown",
   "metadata": {
    "id": "g2huvBfGMjCt"
   },
   "source": [
    "Train the model"
   ]
  },
  {
   "cell_type": "code",
   "execution_count": null,
   "metadata": {
    "colab": {
     "base_uri": "https://localhost:8080/"
    },
    "id": "guvPMSUgMh_s",
    "outputId": "870b1dc2-bdf6-43f8-c191-5ff6d1ea7e58"
   },
   "outputs": [],
   "source": [
    "# The model will create two output files. One logfile with the likelihood of the model for each iteration \n",
    "# and {my_individual}}_trained.hmm which is the same format as StartingParameters.hmm (just with the parameters that optimize the likelihood).\n",
    "!python2 ../../bin/Train.py {my_individual}.chr17.observations.txt {my_individual}_trained StartingParameters.hmm chr17.txt chr17.mut"
   ]
  },
  {
   "cell_type": "code",
   "execution_count": null,
   "metadata": {
    "colab": {
     "base_uri": "https://localhost:8080/"
    },
    "id": "UZfRFnmU6nBO",
    "outputId": "b8a70a6a-4485-4478-d543-e50861fd2194"
   },
   "outputs": [],
   "source": [
    "# Display trained parameters\n",
    "!cat {my_individual}_trained.hmm"
   ]
  },
  {
   "cell_type": "markdown",
   "metadata": {
    "id": "_bnJ5aNHMlEf"
   },
   "source": [
    "Decode the model"
   ]
  },
  {
   "cell_type": "code",
   "execution_count": null,
   "metadata": {
    "id": "Bbkm4ZnHMp3H"
   },
   "outputs": [],
   "source": [
    "# set of trained parameters that maximize the likelihood to estimate the posterior probability of archaic ancestry in each window\n",
    "# This will also produce two files. One {my_individual}_decoded.Summary which is like a bedfile and tell you what part of the sequence belong to different states. It also tells you how many snps that are in each segment and what the average posterior probability for being in that segment is. \n",
    "# The other output file is {my_individual}_decoded.All_posterior_probs.txt and this is a window by window assignment to each state.\n",
    "!python2 ../../bin/Decode.py {my_individual}.chr17.observations.txt decoded {my_individual}_trained.hmm chr17.txt chr17.mut 1000"
   ]
  },
  {
   "cell_type": "markdown",
   "metadata": {
    "id": "4lE4jT2n50Qb"
   },
   "source": [
    "Plot the output"
   ]
  },
  {
   "cell_type": "code",
   "execution_count": null,
   "metadata": {
    "colab": {
     "base_uri": "https://localhost:8080/",
     "height": 204
    },
    "id": "jIzJvgK6MvGv",
    "outputId": "5ff3a9e7-e9b5-47d8-fd5f-bb59181e6e46"
   },
   "outputs": [],
   "source": [
    "# Inference for every 1000bp window\n",
    "posterior_probs = pd.read_csv('decoded.All_posterior_probs.txt', '\\t')\n",
    "posterior_probs.head()"
   ]
  },
  {
   "cell_type": "code",
   "execution_count": null,
   "metadata": {
    "colab": {
     "base_uri": "https://localhost:8080/",
     "height": 173
    },
    "id": "lv7YxhF-Mx4p",
    "outputId": "883763c4-810f-46c9-eb5d-82bf88977154"
   },
   "outputs": [],
   "source": [
    "posterior_probs[posterior_probs.observations>0][:4]"
   ]
  },
  {
   "cell_type": "code",
   "execution_count": null,
   "metadata": {
    "colab": {
     "base_uri": "https://localhost:8080/",
     "height": 204
    },
    "id": "D24HpPqSM1O_",
    "outputId": "15aec451-dffb-4a56-ecd9-ee80cc30aa70"
   },
   "outputs": [],
   "source": [
    "decoded_summary = pd.read_csv('decoded.Summary.txt', '\\t')\n",
    "decoded_summary.head()"
   ]
  },
  {
   "cell_type": "code",
   "execution_count": null,
   "metadata": {
    "id": "m_z4OZUtM3k0"
   },
   "outputs": [],
   "source": [
    "window_assignment = (posterior_probs.Mostlikely=='Archaic')"
   ]
  },
  {
   "cell_type": "code",
   "execution_count": null,
   "metadata": {
    "colab": {
     "base_uri": "https://localhost:8080/",
     "height": 279
    },
    "id": "bAYNQutlM7pH",
    "outputId": "f4743bb1-a895-4244-9ea0-30f3f463f271"
   },
   "outputs": [],
   "source": [
    "# Plot the assignment of the whole chromosome\n",
    "plot_window_assignment(window_assignment)"
   ]
  },
  {
   "cell_type": "code",
   "execution_count": null,
   "metadata": {
    "colab": {
     "base_uri": "https://localhost:8080/",
     "height": 279
    },
    "id": "-SvtBddPM-qu",
    "outputId": "120013d5-f34c-40da-d29b-c34e073ba6d8"
   },
   "outputs": [],
   "source": [
    "# Plot assignment of the first 5000 windows\n",
    "plot_window_assignment(window_assignment[40000:50000])"
   ]
  },
  {
   "cell_type": "code",
   "execution_count": null,
   "metadata": {
    "id": "WH4Cypi_NBEe"
   },
   "outputs": [],
   "source": [
    "# Obtain number of observations per window of Human or Archaic ancestry\n",
    "obs_human = posterior_probs.observations[posterior_probs.Mostlikely=='Human']\n",
    "obs_archaic = posterior_probs.observations[posterior_probs.Mostlikely=='Archaic']\n",
    "max_human = obs_human.max()\n",
    "max_archaic = obs_archaic.max()"
   ]
  },
  {
   "cell_type": "code",
   "execution_count": null,
   "metadata": {
    "colab": {
     "base_uri": "https://localhost:8080/",
     "height": 295
    },
    "id": "iivk5xJxNEN0",
    "outputId": "a494cd6b-95dd-41e2-d21e-62a993ec1c05"
   },
   "outputs": [],
   "source": [
    "# Plot the number of variants per window of human ancestry\n",
    "plt.bar(np.arange(max_human+1), [(obs_human==i).mean() for i in range(max_human+1)]);\n",
    "plt.xticks(np.arange(max_human+1));\n",
    "plt.xlabel('Number of variants')\n",
    "plt.ylabel('Proportion')\n",
    "plt.title('Histogram of number of variants per window of Human ancestry');"
   ]
  },
  {
   "cell_type": "code",
   "execution_count": null,
   "metadata": {
    "colab": {
     "base_uri": "https://localhost:8080/",
     "height": 295
    },
    "id": "a73Bzhf9NGeT",
    "outputId": "21476888-3c2c-434c-f768-14bea37f23cd"
   },
   "outputs": [],
   "source": [
    "# Plot the number of variants per window of archaic ancestry\n",
    "plt.bar(np.arange(max_archaic+1), [(obs_archaic==i).mean() for i in range(max_archaic+1)]);\n",
    "plt.xticks(np.arange(max_archaic+1));\n",
    "plt.xlabel('Number of variants')\n",
    "plt.ylabel('Proportion')\n",
    "plt.title('Histogram of number of variants per window of Archaic ancestry');"
   ]
  }
 ],
 "metadata": {
  "colab": {
   "collapsed_sections": [
    "y-2H_3oE7HY0",
    "uCzNkBdw20-Y",
    "fgxIdayESsTF"
   ],
   "name": "CCB293_Week3_tutorial_final_revised_v3.ipynb",
   "provenance": []
  },
  "kernelspec": {
   "display_name": "Python 3",
   "language": "python",
   "name": "python3"
  },
  "language_info": {
   "codemirror_mode": {
    "name": "ipython",
    "version": 3
   },
   "file_extension": ".py",
   "mimetype": "text/x-python",
   "name": "python",
   "nbconvert_exporter": "python",
   "pygments_lexer": "ipython3",
   "version": "3.8.3"
  }
 },
 "nbformat": 4,
 "nbformat_minor": 1
}
